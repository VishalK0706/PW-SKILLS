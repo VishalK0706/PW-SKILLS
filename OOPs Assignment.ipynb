{
  "nbformat": 4,
  "nbformat_minor": 0,
  "metadata": {
    "colab": {
      "provenance": []
    },
    "kernelspec": {
      "name": "python3",
      "display_name": "Python 3"
    },
    "language_info": {
      "name": "python"
    }
  },
  "cells": [
    {
      "cell_type": "markdown",
      "source": [
        "01.What is Object-Oriented Programming (OOPs) ?\n",
        "  >> Object-Oriented Programming (OOP) is a programming paradigm that organizes software design around data, or objects, which contain both attributes and methods. This approach enhances code reusability, scalability, and maintainability, making it ideal for complex applications in languages like Java, C++, and Python."
      ],
      "metadata": {
        "id": "I-GiPrOBomAX"
      }
    },
    {
      "cell_type": "markdown",
      "source": [
        "02.What is a class in OOP ?\n",
        "  >>A class in Object-Oriented Programming (OOP) is a blueprint for creating objects, defining their attributes and methods. It promotes code reusability and organization by encapsulating related functionalities."
      ],
      "metadata": {
        "id": "ai9zKASLol9b"
      }
    },
    {
      "cell_type": "markdown",
      "source": [
        "03.What is an onjects in OOP ?\n",
        "  >>In Object-Oriented Programming (OOP), an object is an instance of a class that encapsulates data (attributes) and behaviors (methods), allowing it to interact with other objects and perform actions."
      ],
      "metadata": {
        "id": "d8Y6F7s-ol6Y"
      }
    },
    {
      "cell_type": "markdown",
      "source": [
        "04.What is the difference between abstraction and encapsulation ?\n",
        "  >>Abstraction is the process of simplifying complex systems by focusing on essential features while hiding irrelevant details. It allows programmers to create models that represent real-world entities, making code more manageable and reusable without exposing internal complexities.\n",
        "  \n",
        "  >>Encapsulation, on the other hand, involves bundling data (attributes) and methods (functions) within a single unit or class, restricting access to some components. This protects the object's internal state and ensures that only necessary interactions are allowed, enhancing data integrity and security."
      ],
      "metadata": {
        "id": "V3GwEsY0ol3n"
      }
    },
    {
      "cell_type": "markdown",
      "source": [
        "05.What are dunder method in python ?\n",
        "  >>Dunder methods, short for \"double underscore\" methods, are special predefined methods in Python that start and end with double underscores (e.g., __init__, __str__). They enable classes to implement and customize behaviors for built-in operations, such as object creation and arithmetic operations."
      ],
      "metadata": {
        "id": "XfPgeGdpolx0"
      }
    },
    {
      "cell_type": "markdown",
      "source": [
        "06.Explain the concept of inheritance in OOP ?\n",
        "  >>Inheritance in Object-Oriented Programming (OOP) allows a subclass to inherit attributes and methods from a superclass, promoting code reusability, maintainability, and establishing a hierarchical relationship between classes."
      ],
      "metadata": {
        "id": "vAe4OHSoolux"
      }
    },
    {
      "cell_type": "markdown",
      "source": [
        "07.What is molymorphism in OOP ?\n",
        "  >>Polymorphism in Object-Oriented Programming (OOP) allows methods and objects to take on multiple forms, enabling a single interface to represent different classes through method overloading and overriding, enhancing flexibility and reusability."
      ],
      "metadata": {
        "id": "1cKtywZIolrf"
      }
    },
    {
      "cell_type": "markdown",
      "source": [
        "08.How is encapsulation achieve in python ?\n",
        "  >>Encapsulation in Python is achieved by defining class attributes and methods as private or protected, using single or double underscores. This restricts direct access to the data, ensuring it can only be modified through defined methods, promoting data integrity."
      ],
      "metadata": {
        "id": "o4xbftgDolof"
      }
    },
    {
      "cell_type": "markdown",
      "source": [
        "  09.What is constructor in python ?\n",
        "  >>In Python, a constructor is defined by the __init__() method, automatically called when an object is created. It initializes the object's attributes, allowing for flexible and customized object instantiation."
      ],
      "metadata": {
        "id": "btByNxOfollf"
      }
    },
    {
      "cell_type": "markdown",
      "source": [
        "10.What are class and static method in python ?\n",
        "  >>In Python, class methods, marked with @classmethod, operate on the class itself and can modify class-level attributes, receiving the class as their first argument.\n",
        "   \n",
        ">>Static methods, marked with @staticmethod, do not access class or instance data and behave like regular functions."
      ],
      "metadata": {
        "id": "3Hzaqydfolij"
      }
    },
    {
      "cell_type": "markdown",
      "source": [
        "11.What is method overloading in python ?\n",
        "  >>Method overloading in Python allows a class to have multiple methods with the same name but different parameter lists. Although Python does not natively support this feature, it can be simulated using default or variable-length arguments, enhancing method versatility.\n"
      ],
      "metadata": {
        "id": "IvEKZcisolfc"
      }
    },
    {
      "cell_type": "markdown",
      "source": [
        "12.What is method overriding in OOP ?\n",
        "  >>Method overriding in Object-Oriented Programming (OOP) allows a subclass to provide a specific implementation of a method already defined in its superclass. This enables polymorphism, where the same method name can exhibit different behaviors based on the object's class."
      ],
      "metadata": {
        "id": "Tz2pN83tolcI"
      }
    },
    {
      "cell_type": "markdown",
      "source": [
        "13.What is property decorator in python ?\n",
        "  >>The property decorator in Python, using @property, allows you to define managed attributes in classes. It enables controlled access through getter, setter, and deleter methods, promoting encapsulation and data integrity. This approach enhances code readability by allowing attribute access without parentheses, while preserving the class's internal logic."
      ],
      "metadata": {
        "id": "f-R5SccUolZX"
      }
    },
    {
      "cell_type": "markdown",
      "source": [
        "14.Why is polymorphism important in OOP ?\n",
        "  >>Polymorphism is important in Object-Oriented Programming (OOP) because it allows objects of different classes to be treated as instances of a common superclass. This flexibility enhances code reusability, simplifies maintenance, and enables the implementation of dynamic method resolution, improving overall software design."
      ],
      "metadata": {
        "id": "xUNTpyPwolWT"
      }
    },
    {
      "cell_type": "markdown",
      "source": [
        "15.What is an abstract class in python ?\n",
        "  >>An abstract class in Python is a class that cannot be instantiated and serves as a blueprint for other classes. It defines abstract methods that must be implemented by subclasses, ensuring a consistent interface while allowing specific implementations in derived classes"
      ],
      "metadata": {
        "id": "6IprqttRolS7"
      }
    },
    {
      "cell_type": "markdown",
      "source": [
        "16.What are the advantage of OOP ?\n",
        "  >>Object-Oriented Programming (OOP) offers several advantages, including:\n",
        "\n",
        "* Modularity: Breaks complex systems into manageable objects, enhancing organization and collaboration.\n",
        "\n",
        "* Code Reusability: Promotes reuse through inheritance, reducing redundancy.\n",
        "\n",
        "* Encapsulation: Protects data integrity by restricting access.\n",
        "\n",
        "* Flexibility and Scalability: Facilitates easy modification and expansion of code.\n",
        "\n",
        "* Improved Maintenance: Simplifies debugging and updates without affecting the entire system."
      ],
      "metadata": {
        "id": "o9z4X-NVolMM"
      }
    },
    {
      "cell_type": "markdown",
      "source": [
        "17.What is the difference between class variable and an instance variable ?\n",
        "  >> * Class Variables: Class variables in Python are shared among all instances of a class and are defined outside any method. They maintain a single value that is accessible by all instances, making them useful for storing data that should be consistent across instances, like a counter or a constant.\n",
        "* Instance Variables: Instance variables are unique to each instance of a class and are defined within methods, typically in the constructor. Each object has its own copy of instance variables, allowing for individual attributes that can vary between instances, such as names or ages.\n"
      ],
      "metadata": {
        "id": "_BpLle7V4t9C"
      }
    },
    {
      "cell_type": "markdown",
      "source": [
        "18.What is multiple inheritance in python ?\n",
        "  >> * Multiple inheritance in Python occurs when a class derives from more than one base class, allowing it to inherit features from multiple parent classes. This enables greater flexibility and code reusability, as the derived class can utilize attributes and methods from all its parents."
      ],
      "metadata": {
        "id": "X1I5qR5R4t5u"
      }
    },
    {
      "cell_type": "markdown",
      "source": [
        "19.Explain the purpose of \"--str--\" and \"--rep--\" method in python ?\n",
        "  >>* The __str__ method in Python provides a user-friendly string representation of an object, invoked by print() or str().\n",
        "  * In contrast, the __repr__ method offers an unambiguous representation, useful for debugging, typically returning a string that could recreate the object.\n"
      ],
      "metadata": {
        "id": "aBBRPFLe4t2s"
      }
    },
    {
      "cell_type": "markdown",
      "source": [
        "20.What is the significance of the super function in python ?\n",
        "  >>The super() function in Python is essential for accessing methods from a parent class, promoting code flexibility and maintainability. It supports multiple inheritance by managing method resolution order, preventing ambiguity. Additionally, super() enhances code reusability by allowing subclasses to extend or override parent class functionality without hardcoding class names, resulting in cleaner, more readable code and improved object-oriented design."
      ],
      "metadata": {
        "id": "xcRAS3Sz4tw4"
      }
    },
    {
      "cell_type": "markdown",
      "source": [
        "21.What is the significance of the --del-- method in python ?\n",
        "  >>The __del__ method in Python, known as a destructor, is significant because it is called when an object is about to be destroyed, usually when its reference count reaches zero. This method allows for cleanup actions, such as releasing resources or performing finalization tasks, ensuring proper resource management before the object is removed from memory. However, its execution is not guaranteed in all situations, especially with circular references or abrupt program termination."
      ],
      "metadata": {
        "id": "whBV4U8N4ttZ"
      }
    },
    {
      "cell_type": "markdown",
      "source": [
        "22.What is the difference between @staticmethod and @classmethod in python ?\n",
        "  >>In Python, the @staticmethod and @classmethod decorators serve distinct purposes:\n",
        "* @staticmethod in python--\n",
        "* Definition: A static method does not receive any special first argument (like self or cls). It behaves like a regular function but is defined within a class for organizational purposes.\n",
        "* Access: Static methods cannot access or modify class or instance data directly. They are typically used for utility functions that are related to the class but do not require access to class or instance attributes.\n",
        "* Usage: Use static methods when you want to define functions that logically belong to a class but do not need to interact with instance or class data.\n",
        "\n",
        ">>* @classmethod in python--\n",
        "* Definition: A class method receives the class itself as its first argument, conventionally named cls. This allows it to access and modify class-level attributes.\n",
        "* Access: Class methods can access and modify class state and can be used for factory methods that return instances of the class, or for operations that apply to the entire class rather than individual instances.\n",
        "*Usage: Use class methods when you need to operate on the class itself, such as modifying class variables or providing alternative constructors."
      ],
      "metadata": {
        "id": "BZDQdNCD4tq3"
      }
    },
    {
      "cell_type": "markdown",
      "source": [
        "23.What does polymorphism work in python with inheritance ?\n",
        "  >>Polymorphism in Python works with inheritance by allowing subclasses to override methods from their parent class, enabling different behaviors for the same method name. This allows objects of different subclasses to be treated as instances of a common superclass, promoting flexibility and code reusability.\n"
      ],
      "metadata": {
        "id": "gevpHR1P4toL"
      }
    },
    {
      "cell_type": "markdown",
      "source": [
        "24.What is method chaining in python oop ?\n",
        "  >>Method chaining in Python is a programming technique that allows multiple methods to be called on the same object in a single line. Each method returns the object itself, enabling the next method call. This enhances code readability and conciseness by eliminating intermediate variables.\n",
        "\n"
      ],
      "metadata": {
        "id": "woDthBfK4tln"
      }
    },
    {
      "cell_type": "markdown",
      "source": [
        "25.What is the purpose of --call-- method of python ?\n",
        "  >>The __call__ method in Python allows instances of a class to be called like functions. It enables objects to encapsulate behavior, enhancing code organization and reusability by allowing stateful function-like operations"
      ],
      "metadata": {
        "id": "fqt_TdrEDexE"
      }
    },
    {
      "cell_type": "code",
      "execution_count": 2,
      "metadata": {
        "id": "LqcvwVMRoj_6"
      },
      "outputs": [],
      "source": [
        "                                                                  #PRACTICAL QUESTION"
      ]
    },
    {
      "cell_type": "code",
      "source": [
        "'''#01.Create a parent class Animal with a method speak() that prints a generic message. Create a child class Dog\n",
        "that overrides the speak() method to print \"Bark!\".'''\n",
        "\n",
        "  # Parent class\n",
        "class Animal:\n",
        "    def speak(self):\n",
        "        print(\"This animal makes a sound.\")\n",
        "\n",
        "# Child class\n",
        "class Dog(Animal):\n",
        "    def speak(self):\n",
        "        print(\"Bark!\")\n",
        "\n",
        "# Example usage\n",
        "if __name__ == \"__main__\":\n",
        "    generic_animal = Animal()\n",
        "    generic_animal.speak()  # Output: This animal makes a sound.\n",
        "\n",
        "    my_dog = Dog()\n",
        "    my_dog.speak()  # Output: Bark!\n"
      ],
      "metadata": {
        "colab": {
          "base_uri": "https://localhost:8080/"
        },
        "id": "6p124RV-D6L7",
        "outputId": "505035f2-ba4a-4a30-e4de-bef666683790"
      },
      "execution_count": 5,
      "outputs": [
        {
          "output_type": "stream",
          "name": "stdout",
          "text": [
            "This animal makes a sound.\n",
            "Bark!\n"
          ]
        }
      ]
    },
    {
      "cell_type": "code",
      "source": [
        "'''02. Write a program to create an abstract class Shape with a method area(). Derive classes Circle and Rectangle\n",
        "from it and implement the area() method in both.'''\n",
        "\n",
        "from abc import ABC, abstractmethod\n",
        "import math\n",
        "\n",
        "# Abstract class\n",
        "class Shape(ABC):\n",
        "    @abstractmethod\n",
        "    def area(self):\n",
        "        pass\n",
        "\n",
        "# Derived class for Circle\n",
        "class Circle(Shape):\n",
        "    def __init__(self, radius):\n",
        "        self.radius = radius\n",
        "\n",
        "    def area(self):\n",
        "        return math.pi * (self.radius ** 2)\n",
        "\n",
        "# Derived class for Rectangle\n",
        "class Rectangle(Shape):\n",
        "    def __init__(self, width, height):\n",
        "        self.width = width\n",
        "        self.height = height\n",
        "\n",
        "    def area(self):\n",
        "        return self.width * self.height\n",
        "\n",
        "# Example usage\n",
        "if __name__ == \"__main__\":\n",
        "    circle = Circle(5)\n",
        "    print(f\"Area of Circle: {circle.area():.2f}\")  # Output: Area of Circle: 78.54\n",
        "\n",
        "    rectangle = Rectangle(4, 6)\n",
        "    print(f\"Area of Rectangle: {rectangle.area()}\")  # Output: Area of Rectangle: 24\n"
      ],
      "metadata": {
        "colab": {
          "base_uri": "https://localhost:8080/"
        },
        "id": "UEz5-sd4ET8h",
        "outputId": "8f78004f-03fc-4fed-eb8b-c36e3e4e8bc2"
      },
      "execution_count": 6,
      "outputs": [
        {
          "output_type": "stream",
          "name": "stdout",
          "text": [
            "Area of Circle: 78.54\n",
            "Area of Rectangle: 24\n"
          ]
        }
      ]
    },
    {
      "cell_type": "code",
      "source": [
        "'''03. Implement a multi-level inheritance scenario where a class Vehicle has an attribute type. Derive a class Car\n",
        "and further derive a class ElectricCar that adds a battery attribute.'''\n",
        "\n",
        "# Base class\n",
        "class Vehicle:\n",
        "    def __init__(self, vehicle_type):\n",
        "        self.vehicle_type = vehicle_type\n",
        "\n",
        "    def display_type(self):\n",
        "        print(f\"Vehicle Type: {self.vehicle_type}\")\n",
        "\n",
        "# Derived class\n",
        "class Car(Vehicle):\n",
        "    def __init__(self, vehicle_type, brand):\n",
        "        super().__init__(vehicle_type)  # Call the constructor of Vehicle\n",
        "        self.brand = brand\n",
        "\n",
        "    def display_info(self):\n",
        "        self.display_type()\n",
        "        print(f\"Brand: {self.brand}\")\n",
        "\n",
        "# Further derived class\n",
        "class ElectricCar(Car):\n",
        "    def __init__(self, vehicle_type, brand, battery_capacity):\n",
        "        super().__init__(vehicle_type, brand)  # Call the constructor of Car\n",
        "        self.battery_capacity = battery_capacity\n",
        "\n",
        "    def display_electric_info(self):\n",
        "        self.display_info()\n",
        "        print(f\"Battery Capacity: {self.battery_capacity} kWh\")\n",
        "\n",
        "# Example usage\n",
        "if __name__ == \"__main__\":\n",
        "    my_electric_car = ElectricCar(\"Electric\", \"Tesla\", 75)\n",
        "    my_electric_car.display_electric_info()\n"
      ],
      "metadata": {
        "colab": {
          "base_uri": "https://localhost:8080/"
        },
        "id": "9bgQ_s_FE_la",
        "outputId": "8ba7f794-d942-4103-b9c4-48efa3ce470c"
      },
      "execution_count": 7,
      "outputs": [
        {
          "output_type": "stream",
          "name": "stdout",
          "text": [
            "Vehicle Type: Electric\n",
            "Brand: Tesla\n",
            "Battery Capacity: 75 kWh\n"
          ]
        }
      ]
    },
    {
      "cell_type": "code",
      "source": [
        "'''04. Implement a multi-level inheritance scenario where a class Vehicle has an attribute type. Derive a class Car\n",
        "and further derive a class ElectricCar that adds a battery attribute.'''\n",
        "\n",
        "# Base class\n",
        "class Vehicle:\n",
        "    def __init__(self, vehicle_type):\n",
        "        self.vehicle_type = vehicle_type\n",
        "\n",
        "    def display_type(self):\n",
        "        print(f\"Vehicle Type: {self.vehicle_type}\")\n",
        "\n",
        "# Derived class\n",
        "class Car(Vehicle):\n",
        "    def __init__(self, vehicle_type, brand):\n",
        "        super().__init__(vehicle_type)  # Call the constructor of Vehicle\n",
        "        self.brand = brand\n",
        "\n",
        "    def display_info(self):\n",
        "        self.display_type()\n",
        "        print(f\"Brand: {self.brand}\")\n",
        "\n",
        "# Further derived class\n",
        "class ElectricCar(Car):\n",
        "    def __init__(self, vehicle_type, brand, battery_capacity):\n",
        "        super().__init__(vehicle_type, brand)  # Call the constructor of Car\n",
        "        self.battery_capacity = battery_capacity\n",
        "\n",
        "    def display_electric_info(self):\n",
        "        self.display_info()\n",
        "        print(f\"Battery Capacity: {self.battery_capacity} kWh\")\n",
        "\n",
        "# Example usage\n",
        "if __name__ == \"__main__\":\n",
        "    my_electric_car = ElectricCar(\"Electric\", \"Tesla\", 75)\n",
        "    my_electric_car.display_electric_info()\n"
      ],
      "metadata": {
        "colab": {
          "base_uri": "https://localhost:8080/"
        },
        "id": "4Z8pi6ihFU61",
        "outputId": "1714157b-022f-42d0-fe1a-3cc44f10830a"
      },
      "execution_count": 8,
      "outputs": [
        {
          "output_type": "stream",
          "name": "stdout",
          "text": [
            "Vehicle Type: Electric\n",
            "Brand: Tesla\n",
            "Battery Capacity: 75 kWh\n"
          ]
        }
      ]
    },
    {
      "cell_type": "code",
      "source": [
        "'''05. Write a program to demonstrate encapsulation by creating a class BankAccount with private attributes\n",
        "balance and methods to deposit, withdraw, and check balance.'''\n",
        "\n",
        "class BankAccount:\n",
        "    def __init__(self, initial_balance=0):\n",
        "        self.__balance = initial_balance  # Private attribute\n",
        "\n",
        "    def deposit(self, amount):\n",
        "        \"\"\"Deposit money into the account.\"\"\"\n",
        "        if amount > 0:\n",
        "            self.__balance += amount\n",
        "            print(f\"Deposited: ${amount:.2f}\")\n",
        "        else:\n",
        "            print(\"Deposit amount must be positive.\")\n",
        "\n",
        "    def withdraw(self, amount):\n",
        "        \"\"\"Withdraw money from the account.\"\"\"\n",
        "        if 0 < amount <= self.__balance:\n",
        "            self.__balance -= amount\n",
        "            print(f\"Withdrew: ${amount:.2f}\")\n",
        "        elif amount > self.__balance:\n",
        "            print(\"Insufficient funds.\")\n",
        "        else:\n",
        "            print(\"Withdrawal amount must be positive.\")\n",
        "\n",
        "    def check_balance(self):\n",
        "        \"\"\"Check the current balance.\"\"\"\n",
        "        print(f\"Current Balance: ${self.__balance:.2f}\")\n",
        "\n",
        "# Example usage\n",
        "if __name__ == \"__main__\":\n",
        "    # Create a bank account with an initial balance\n",
        "    account = BankAccount(100)\n",
        "\n",
        "    # Check initial balance\n",
        "    account.check_balance()\n",
        "\n",
        "    # Deposit money\n",
        "    account.deposit(50)\n",
        "    account.check_balance()\n",
        "\n",
        "    # Withdraw money\n",
        "    account.withdraw(30)\n",
        "    account.check_balance()\n",
        "\n",
        "    # Attempt to withdraw more than the balance\n",
        "    account.withdraw(150)\n",
        "\n",
        "    # Attempt to deposit a negative amount\n",
        "    account.deposit(-20)\n"
      ],
      "metadata": {
        "colab": {
          "base_uri": "https://localhost:8080/"
        },
        "id": "O8zQACp4FqOQ",
        "outputId": "4078b251-1c3d-4891-aed3-9a4b2551cfa2"
      },
      "execution_count": 9,
      "outputs": [
        {
          "output_type": "stream",
          "name": "stdout",
          "text": [
            "Current Balance: $100.00\n",
            "Deposited: $50.00\n",
            "Current Balance: $150.00\n",
            "Withdrew: $30.00\n",
            "Current Balance: $120.00\n",
            "Insufficient funds.\n",
            "Deposit amount must be positive.\n"
          ]
        }
      ]
    },
    {
      "cell_type": "code",
      "source": [
        "'''06. Demonstrate runtime polymorphism using a method play() in a base class Instrument. Derive classes Guitar\n",
        "and Piano that implement their own version of play().'''\n",
        "\n",
        "# Base class\n",
        "class Instrument:\n",
        "    def play(self):\n",
        "        raise NotImplementedError(\"Subclasses must implement this method\")\n",
        "\n",
        "# Derived class for Guitar\n",
        "class Guitar(Instrument):\n",
        "    def play(self):\n",
        "        return \"Strumming the guitar!\"\n",
        "\n",
        "# Derived class for Piano\n",
        "class Piano(Instrument):\n",
        "    def play(self):\n",
        "        return \"Playing the piano!\"\n",
        "\n",
        "# Example usage\n",
        "if __name__ == \"__main__\":\n",
        "    # Create instances of each instrument\n",
        "    instruments = [Guitar(), Piano()]\n",
        "\n",
        "    # Demonstrate polymorphism\n",
        "    for instrument in instruments:\n",
        "        print(instrument.play())\n"
      ],
      "metadata": {
        "colab": {
          "base_uri": "https://localhost:8080/"
        },
        "id": "Fvtuc8E2Gftt",
        "outputId": "075842ce-631f-496d-ca3d-4ac894f37d95"
      },
      "execution_count": 10,
      "outputs": [
        {
          "output_type": "stream",
          "name": "stdout",
          "text": [
            "Strumming the guitar!\n",
            "Playing the piano!\n"
          ]
        }
      ]
    },
    {
      "cell_type": "code",
      "source": [
        "'''07. Create a class MathOperations with a class method add_numbers() to add two numbers and a static\n",
        "method subtract_numbers() to subtract two numbers.'''\n",
        "\n",
        "class MathOperations:\n",
        "    @classmethod\n",
        "    def add_numbers(cls, a, b):\n",
        "        \"\"\"Class method to add two numbers.\"\"\"\n",
        "        return a + b\n",
        "\n",
        "    @staticmethod\n",
        "    def subtract_numbers(a, b):\n",
        "        \"\"\"Static method to subtract two numbers.\"\"\"\n",
        "        return a - b\n",
        "\n",
        "# Example usage\n",
        "if __name__ == \"__main__\":\n",
        "    # Using the class method to add numbers\n",
        "    sum_result = MathOperations.add_numbers(10, 5)\n",
        "    print(f\"Sum: {sum_result}\")  # Output: Sum: 15\n",
        "\n",
        "    # Using the static method to subtract numbers\n",
        "    difference_result = MathOperations.subtract_numbers(10, 5)\n",
        "    print(f\"Difference: {difference_result}\")  # Output: Difference: 5\n"
      ],
      "metadata": {
        "colab": {
          "base_uri": "https://localhost:8080/"
        },
        "id": "xXRJ_8yXGyM4",
        "outputId": "55f320c7-0cb2-439c-ea45-10e14ea83c4b"
      },
      "execution_count": 11,
      "outputs": [
        {
          "output_type": "stream",
          "name": "stdout",
          "text": [
            "Sum: 15\n",
            "Difference: 5\n"
          ]
        }
      ]
    },
    {
      "cell_type": "code",
      "source": [
        "'''08. Implement a class Person with a class method to count the total number of persons created.'''\n",
        "\n",
        "class Person:\n",
        "    # Class variable to keep track of the number of persons\n",
        "    total_persons = 0\n",
        "\n",
        "    def __init__(self, name):\n",
        "        self.name = name\n",
        "        Person.total_persons += 1  # Increment the count when a new instance is created\n",
        "\n",
        "    @classmethod\n",
        "    def get_total_persons(cls):\n",
        "        \"\"\"Class method to return the total number of persons created.\"\"\"\n",
        "        return cls.total_persons\n",
        "\n",
        "# Example usage\n",
        "if __name__ == \"__main__\":\n",
        "    # Create instances of Person\n",
        "    person1 = Person(\"Alice\")\n",
        "    person2 = Person(\"Bob\")\n",
        "    person3 = Person(\"Charlie\")\n",
        "\n",
        "    # Get the total number of persons created\n",
        "    total = Person.get_total_persons()\n",
        "    print(f\"Total Persons Created: {total}\")  # Output: Total Persons Created: 3\n"
      ],
      "metadata": {
        "colab": {
          "base_uri": "https://localhost:8080/"
        },
        "id": "z8XS3ue8G_8o",
        "outputId": "ab87b123-a2d2-49c8-af12-e8c947277950"
      },
      "execution_count": 12,
      "outputs": [
        {
          "output_type": "stream",
          "name": "stdout",
          "text": [
            "Total Persons Created: 3\n"
          ]
        }
      ]
    },
    {
      "cell_type": "code",
      "source": [
        "'''09. Write a class Fraction with attributes numerator and denominator. Override the str method to display the\n",
        "fraction as \"numerator/denominator\".'''\n",
        "\n",
        "class Fraction:\n",
        "    def __init__(self, numerator, denominator):\n",
        "        if denominator == 0:\n",
        "            raise ValueError(\"Denominator cannot be zero.\")\n",
        "        self.numerator = numerator\n",
        "        self.denominator = denominator\n",
        "\n",
        "    def __str__(self):\n",
        "        return f\"{self.numerator}/{self.denominator}\"\n",
        "\n",
        "# Example usage\n",
        "if __name__ == \"__main__\":\n",
        "    # Create a Fraction instance\n",
        "    fraction1 = Fraction(3, 4)\n",
        "    fraction2 = Fraction(5, 2)\n",
        "\n",
        "    # Display the fractions\n",
        "    print(f\"Fraction 1: {fraction1}\")  # Output: Fraction 1: 3/4\n",
        "    print(f\"Fraction 2: {fraction2}\")  # Output: Fraction 2: 5/2\n"
      ],
      "metadata": {
        "colab": {
          "base_uri": "https://localhost:8080/"
        },
        "id": "GB3iNzqhHNEH",
        "outputId": "6c6dccf3-4af2-4ac0-b692-7d95f6d67e3e"
      },
      "execution_count": 13,
      "outputs": [
        {
          "output_type": "stream",
          "name": "stdout",
          "text": [
            "Fraction 1: 3/4\n",
            "Fraction 2: 5/2\n"
          ]
        }
      ]
    },
    {
      "cell_type": "code",
      "source": [
        "'''10. Demonstrate operator overloading by creating a class Vector and overriding the add method to add two\n",
        "vectors'''\n",
        "\n",
        "class Vector:\n",
        "    def __init__(self, x, y):\n",
        "        self.x = x  # x-coordinate\n",
        "        self.y = y  # y-coordinate\n",
        "\n",
        "    def __add__(self, other):\n",
        "        \"\"\"Overload the + operator to add two vectors.\"\"\"\n",
        "        if not isinstance(other, Vector):\n",
        "            raise TypeError(\"Operand must be of type Vector\")\n",
        "        return Vector(self.x + other.x, self.y + other.y)\n",
        "\n",
        "    def __str__(self):\n",
        "        \"\"\"Return a string representation of the vector.\"\"\"\n",
        "        return f\"Vector({self.x}, {self.y})\"\n",
        "\n",
        "# Example usage\n",
        "if __name__ == \"__main__\":\n",
        "    # Create two vector instances\n",
        "    v1 = Vector(2, 3)\n",
        "    v2 = Vector(5, 7)\n",
        "\n",
        "    # Add the two vectors using the overloaded + operator\n",
        "    result_vector = v1 + v2\n",
        "\n",
        "    # Print the result\n",
        "    print(f\"Result of adding {v1} and {v2}: {result_vector}\")  # Output: Vector(7, 10)\n"
      ],
      "metadata": {
        "colab": {
          "base_uri": "https://localhost:8080/"
        },
        "id": "_L6ltLmRHg8S",
        "outputId": "48cb6968-4ec7-454a-a52b-d47af01bacfb"
      },
      "execution_count": 14,
      "outputs": [
        {
          "output_type": "stream",
          "name": "stdout",
          "text": [
            "Result of adding Vector(2, 3) and Vector(5, 7): Vector(7, 10)\n"
          ]
        }
      ]
    },
    {
      "cell_type": "code",
      "source": [
        "'''11. Create a class Person with attributes name and age. Add a method greet() that prints \"Hello, my name is\n",
        "{name} and I am {age} years old.'''\n",
        "\n",
        "class Person:\n",
        "    def __init__(self, name, age):\n",
        "        self.name = name  # Initialize the name attribute\n",
        "        self.age = age    # Initialize the age attribute\n",
        "\n",
        "    def greet(self):\n",
        "        \"\"\"Print a greeting message.\"\"\"\n",
        "        print(f\"Hello, my name is {self.name} and I am {self.age} years old.\")\n",
        "\n",
        "# Example usage\n",
        "if __name__ == \"__main__\":\n",
        "    # Create an instance of Person\n",
        "    person1 = Person(\"Alice\", 30)\n",
        "\n",
        "    # Call the greet method\n",
        "    person1.greet()  # Output: Hello, my name is Alice and I am 30 years old.\n",
        "\n",
        "    # Create another instance of Person\n",
        "    person2 = Person(\"Bob\", 25)\n",
        "\n",
        "    # Call the greet method\n",
        "    person2.greet()  # Output: Hello, my name is Bob and I am 25 years old.\n"
      ],
      "metadata": {
        "colab": {
          "base_uri": "https://localhost:8080/"
        },
        "id": "xhtRMsidHwOT",
        "outputId": "b90299ad-10bd-4bdf-d171-b545e34f9c30"
      },
      "execution_count": 15,
      "outputs": [
        {
          "output_type": "stream",
          "name": "stdout",
          "text": [
            "Hello, my name is Alice and I am 30 years old.\n",
            "Hello, my name is Bob and I am 25 years old.\n"
          ]
        }
      ]
    },
    {
      "cell_type": "code",
      "source": [
        "'''12. Implement a class Student with attributes name and grades. Create a method average_grade() to compute\n",
        "the average of the grades.'''\n",
        "\n",
        "class Student:\n",
        "    def __init__(self, name, grades):\n",
        "        self.name = name  # Initialize the name attribute\n",
        "        self.grades = grades  # Initialize the grades attribute (should be a list of grades)\n",
        "\n",
        "    def average_grade(self):\n",
        "        \"\"\"Compute and return the average of the grades.\"\"\"\n",
        "        if not self.grades:  # Check if the grades list is empty\n",
        "            return 0  # Return 0 if there are no grades\n",
        "        return sum(self.grades) / len(self.grades)  # Calculate and return the average\n",
        "\n",
        "# Example usage\n",
        "if __name__ == \"__main__\":\n",
        "    # Create an instance of Student with a name and a list of grades\n",
        "    student1 = Student(\"RAM\", [85, 90, 78, 92])\n",
        "\n",
        "    # Compute and print the average grade\n",
        "    print(f\"{student1.name}'s average grade: {student1.average_grade():.2f}\")  # Output: Alice's average grade: 86.25\n",
        "\n",
        "    # Create another instance of Student with different grades\n",
        "    student2 = Student(\"SAMIR\", [70, 75, 80])\n",
        "\n",
        "    # Compute and print the average grade\n",
        "    print(f\"{student2.name}'s average grade: {student2.average_grade():.2f}\")  # Output: Bob's average grade: 75.00\n"
      ],
      "metadata": {
        "colab": {
          "base_uri": "https://localhost:8080/"
        },
        "id": "sYvh3WrxIIZA",
        "outputId": "fb2ee4eb-ef80-44e9-8268-8d46776a917c"
      },
      "execution_count": 19,
      "outputs": [
        {
          "output_type": "stream",
          "name": "stdout",
          "text": [
            "RAM's average grade: 86.25\n",
            "SAMIR's average grade: 75.00\n"
          ]
        }
      ]
    },
    {
      "cell_type": "code",
      "source": [
        "'''13. Create a class Rectangle with methods set_dimensions() to set the dimensions and area() to calculate the\n",
        "area.'''\n",
        "class Rectangle:\n",
        "    def __init__(self):\n",
        "        self.width = 0  # Initialize width\n",
        "        self.height = 0  # Initialize height\n",
        "\n",
        "    def set_dimensions(self, width, height):\n",
        "        \"\"\"Set the dimensions of the rectangle.\"\"\"\n",
        "        if width <= 0 or height <= 0:\n",
        "            raise ValueError(\"Width and height must be positive values.\")\n",
        "        self.width = width\n",
        "        self.height = height\n",
        "\n",
        "    def area(self):\n",
        "        \"\"\"Calculate and return the area of the rectangle.\"\"\"\n",
        "        return self.width * self.height\n",
        "\n",
        "# Example usage\n",
        "if __name__ == \"__main__\":\n",
        "    # Create an instance of Rectangle\n",
        "    rectangle = Rectangle()\n",
        "\n",
        "    # Set dimensions of the rectangle\n",
        "    rectangle.set_dimensions(5, 10)\n",
        "\n",
        "    # Calculate and print the area\n",
        "    print(f\"Area of the rectangle: {rectangle.area()}\")  # Output: Area of the rectangle: 50\n",
        "\n",
        "    # Attempt to set invalid dimensions\n",
        "    try:\n",
        "        rectangle.set_dimensions(-2, 3)  # This will raise a ValueError\n",
        "    except ValueError as e:\n",
        "        print(e)  # Output: Width and height must be positive values.\n"
      ],
      "metadata": {
        "colab": {
          "base_uri": "https://localhost:8080/"
        },
        "id": "HMhaYw8bIWdE",
        "outputId": "b8b9b78e-a839-4535-e84f-5e6d65f0c45a"
      },
      "execution_count": 17,
      "outputs": [
        {
          "output_type": "stream",
          "name": "stdout",
          "text": [
            "Area of the rectangle: 50\n",
            "Width and height must be positive values.\n"
          ]
        }
      ]
    },
    {
      "cell_type": "code",
      "source": [
        "'''14.Create a class Employee with a method calculate_salary() that computes the salary based on hours worked\n",
        "and hourly rate. Create a derived class Manager that adds a bonus to the salary'''\n",
        "\n",
        "class Employee:\n",
        "    def __init__(self, name, hours_worked, hourly_rate):\n",
        "        self.name = name  # Employee's name\n",
        "        self.hours_worked = hours_worked  # Total hours worked\n",
        "        self.hourly_rate = hourly_rate  # Hourly rate\n",
        "\n",
        "    def calculate_salary(self):\n",
        "        \"\"\"Calculate the salary based on hours worked and hourly rate.\"\"\"\n",
        "        return self.hours_worked * self.hourly_rate\n",
        "\n",
        "\n",
        "class Manager(Employee):\n",
        "    def __init__(self, name, hours_worked, hourly_rate, bonus):\n",
        "        super().__init__(name, hours_worked, hourly_rate)  # Initialize base class attributes\n",
        "        self.bonus = bonus  # Bonus for the manager\n",
        "\n",
        "    def calculate_salary(self):\n",
        "        \"\"\"Calculate the total salary including the bonus.\"\"\"\n",
        "        base_salary = super().calculate_salary()  # Call the base class method\n",
        "        return base_salary + self.bonus  # Add bonus to the base salary\n",
        "\n",
        "\n",
        "# Example usage\n",
        "if __name__ == \"__main__\":\n",
        "    # Create an instance of Employee\n",
        "    employee = Employee(\"Alice\", 40, 20)\n",
        "    print(f\"{employee.name}'s Salary: ${employee.calculate_salary():.2f}\")  # Output: Alice's Salary: $800.00\n",
        "\n",
        "    # Create an instance of Manager\n",
        "    manager = Manager(\"Bob\", 40, 30, 500)\n",
        "    print(f\"{manager.name}'s Salary: ${manager.calculate_salary():.2f}\")  # Output: Bob's Salary: $1700.00\n"
      ],
      "metadata": {
        "colab": {
          "base_uri": "https://localhost:8080/"
        },
        "id": "7uLZ3Rf7IffH",
        "outputId": "5b91b1ef-301b-43f4-f865-680a7391fecd"
      },
      "execution_count": 18,
      "outputs": [
        {
          "output_type": "stream",
          "name": "stdout",
          "text": [
            "Alice's Salary: $800.00\n",
            "Bob's Salary: $1700.00\n"
          ]
        }
      ]
    },
    {
      "cell_type": "code",
      "source": [
        "'''15.Create a class Product with attributes name, price, and quantity. Implement a method total_price() that\n",
        "calculates the total price of the product'''\n",
        "\n",
        "class Product:\n",
        "    def __init__(self, name, price, quantity):\n",
        "        self.name = name  # Initialize the product name\n",
        "        self.price = price  # Initialize the product price\n",
        "        self.quantity = quantity  # Initialize the product quantity\n",
        "\n",
        "    def total_price(self):\n",
        "        \"\"\"Calculate and return the total price of the product.\"\"\"\n",
        "        return self.price * self.quantity\n",
        "\n",
        "# Example usage\n",
        "if __name__ == \"__main__\":\n",
        "    # Create an instance of Product\n",
        "    product1 = Product(\"Laptop\", 999.99, 3)\n",
        "\n",
        "    # Calculate and print the total price\n",
        "    print(f\"Total price for {product1.quantity} {product1.name}(s): ${product1.total_price():.2f}\")  # Output: Total price for 3 Laptop(s): $2999.97\n",
        "\n",
        "    # Create another instance of Product\n",
        "    product2 = Product(\"Headphones\", 199.99, 5)\n",
        "\n",
        "    # Calculate and print the total price\n",
        "    print(f\"Total price for {product2.quantity} {product2.name}(s): ${product2.total_price():.2f}\")  # Output: Total price for 5 Headphones(s): $999.95\n"
      ],
      "metadata": {
        "colab": {
          "base_uri": "https://localhost:8080/"
        },
        "id": "Uppqpw_2Ip-V",
        "outputId": "1a34b176-089a-4055-e85d-a7398f75b3ab"
      },
      "execution_count": 20,
      "outputs": [
        {
          "output_type": "stream",
          "name": "stdout",
          "text": [
            "Total price for 3 Laptop(s): $2999.97\n",
            "Total price for 5 Headphones(s): $999.95\n"
          ]
        }
      ]
    },
    {
      "cell_type": "code",
      "source": [
        "'''16.Create a class Animal with an abstract method sound(). Create two derived classes Cow and Sheep that\n",
        "implement the sound() method.'''\n",
        "\n",
        "from abc import ABC, abstractmethod\n",
        "\n",
        "# Abstract base class\n",
        "class Animal(ABC):\n",
        "    @abstractmethod\n",
        "    def sound(self):\n",
        "        \"\"\"Abstract method to be implemented by derived classes.\"\"\"\n",
        "        pass\n",
        "\n",
        "# Derived class for Cow\n",
        "class Cow(Animal):\n",
        "    def sound(self):\n",
        "        \"\"\"Return the sound made by a cow.\"\"\"\n",
        "        return \"Moo!\"\n",
        "\n",
        "# Derived class for Sheep\n",
        "class Sheep(Animal):\n",
        "    def sound(self):\n",
        "        \"\"\"Return the sound made by a sheep.\"\"\"\n",
        "        return \"Baa!\"\n",
        "\n",
        "# Example usage\n",
        "if __name__ == \"__main__\":\n",
        "    # Create instances of Cow and Sheep\n",
        "    cow = Cow()\n",
        "    sheep = Sheep()\n",
        "\n",
        "    # Print the sounds made by each animal\n",
        "    print(f\"Cow: {cow.sound()}\")  # Output: Cow: Moo!\n",
        "    print(f\"Sheep: {sheep.sound()}\")  # Output: Sheep: Baa!\n"
      ],
      "metadata": {
        "colab": {
          "base_uri": "https://localhost:8080/"
        },
        "id": "qdsbJbMmJVSg",
        "outputId": "a94744a2-bdf2-4d8c-afab-90c6141d5ed7"
      },
      "execution_count": 21,
      "outputs": [
        {
          "output_type": "stream",
          "name": "stdout",
          "text": [
            "Cow: Moo!\n",
            "Sheep: Baa!\n"
          ]
        }
      ]
    },
    {
      "cell_type": "code",
      "source": [
        "'''17. Create a class Book with attributes title, author, and year_published. Add a method get_book_info() that\n",
        "returns a formatted string with the book's details.'''\n",
        "\n",
        "class Book:\n",
        "    def __init__(self, title, author, year_published):\n",
        "        self.title = title  # Initialize the title attribute\n",
        "        self.author = author  # Initialize the author attribute\n",
        "        self.year_published = year_published  # Initialize the year_published attribute\n",
        "\n",
        "    def get_book_info(self):\n",
        "        \"\"\"Return a formatted string with the book's details.\"\"\"\n",
        "        return f\"'{self.title}' by {self.author}, published in {self.year_published}\"\n",
        "\n",
        "# Example usage\n",
        "if __name__ == \"__main__\":\n",
        "    # Create an instance of Book\n",
        "    book1 = Book(\"To Kill a Mockingbird\", \"Harper Lee\", 1960)\n",
        "\n",
        "    # Get and print the book information\n",
        "    print(book1.get_book_info())  # Output: 'To Kill a Mockingbird' by Harper Lee, published in 1960\n",
        "\n",
        "    # Create another instance of Book\n",
        "    book2 = Book(\"1984\", \"George Orwell\", 1949)\n",
        "\n",
        "    # Get and print the book information\n",
        "    print(book2.get_book_info())  # Output: '1984' by George Orwell, published in 1949\n"
      ],
      "metadata": {
        "colab": {
          "base_uri": "https://localhost:8080/"
        },
        "id": "BhDTzyfVJm6-",
        "outputId": "7bc21690-556b-458f-e761-4388b5bdd8b0"
      },
      "execution_count": 22,
      "outputs": [
        {
          "output_type": "stream",
          "name": "stdout",
          "text": [
            "'To Kill a Mockingbird' by Harper Lee, published in 1960\n",
            "'1984' by George Orwell, published in 1949\n"
          ]
        }
      ]
    },
    {
      "cell_type": "code",
      "source": [
        "'''18. Create a class House with attributes address and price. Create a derived class Mansion that adds an\n",
        "attribute number_of_rooms'''\n",
        "\n",
        "class House:\n",
        "    def __init__(self, address, price):\n",
        "        self.address = address  # Initialize the address attribute\n",
        "        self.price = price      # Initialize the price attribute\n",
        "\n",
        "    def get_info(self):\n",
        "        \"\"\"Return information about the house.\"\"\"\n",
        "        return f\"House located at {self.address}, priced at ${self.price:,.2f}\"\n",
        "\n",
        "# Derived class for Mansion\n",
        "class Mansion(House):\n",
        "    def __init__(self, address, price, number_of_rooms):\n",
        "        super().__init__(address, price)  # Call the constructor of House\n",
        "        self.number_of_rooms = number_of_rooms  # Initialize the number_of_rooms attribute\n",
        "\n",
        "    def get_info(self):\n",
        "        \"\"\"Return information about the mansion, including number of rooms.\"\"\"\n",
        "        base_info = super().get_info()  # Get info from the base class\n",
        "        return f\"{base_info}, with {self.number_of_rooms} rooms\"\n",
        "\n",
        "# Example usage\n",
        "if __name__ == \"__main__\":\n",
        "    # Create an instance of House\n",
        "    house = House(\"123 Main St\", 250000)\n",
        "    print(house.get_info())  # Output: House located at 123 Main St, priced at $250,000.00\n",
        "\n",
        "    # Create an instance of Mansion\n",
        "    mansion = Mansion(\"456 Luxury Ave\", 1500000, 10)\n",
        "    print(mansion.get_info())  # Output: House located at 456 Luxury Ave, priced at $1,500,000.00, with\n"
      ],
      "metadata": {
        "colab": {
          "base_uri": "https://localhost:8080/"
        },
        "id": "A5YXmkm3JxOv",
        "outputId": "e2a75ddd-2c11-4260-a87f-63394cfb9155"
      },
      "execution_count": 23,
      "outputs": [
        {
          "output_type": "stream",
          "name": "stdout",
          "text": [
            "House located at 123 Main St, priced at $250,000.00\n",
            "House located at 456 Luxury Ave, priced at $1,500,000.00, with 10 rooms\n"
          ]
        }
      ]
    }
  ]
}