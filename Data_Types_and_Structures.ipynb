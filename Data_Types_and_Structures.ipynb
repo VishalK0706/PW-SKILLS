{
  "nbformat": 4,
  "nbformat_minor": 0,
  "metadata": {
    "colab": {
      "provenance": []
    },
    "kernelspec": {
      "name": "python3",
      "display_name": "Python 3"
    },
    "language_info": {
      "name": "python"
    }
  },
  "cells": [
    {
      "cell_type": "markdown",
      "source": [
        "1.What are data structures, and why are they important ?\n",
        "   >>Data structures are organized formats for storing and managing data efficiently. They enhance performance, scalability, and problem-solving in programming, serving as the foundation for algorithms and enabling effective modeling of real-world systems in software applications."
      ],
      "metadata": {
        "id": "WsJVUJ8OAeE4"
      }
    },
    {
      "cell_type": "markdown",
      "source": [
        "2.Explain the difference between mutable and immutable data types with examples ?\n",
        "  >>* Mutable data types can be changed after creation, allowing for modifications like adding or removing elements. Examples include lists and dictionaries in Python, where you can alter their contents directly without creating a new object,\n",
        "* Immutable data types cannot be changed once created, meaning any modification results in a new object. Examples include integers and strings in Python, which maintain their original value and memory location unless reassigned."
      ],
      "metadata": {
        "id": "cNffeOLWAeBa"
      }
    },
    {
      "cell_type": "markdown",
      "source": [
        "3.What are the main differences between lists and tuples in python ?\n",
        "  >>* Lists are mutable, meaning their elements can be changed after creation. They are defined using square brackets, allowing for dynamic resizing, such as adding or removing items. Example: my_list = [1, 2, 3].\n",
        "  * Tuples are immutable, meaning their elements cannot be altered once created. They are defined using parentheses, providing a fixed size and ensuring data integrity. Example: my_tuple = (1, 2, 3)."
      ],
      "metadata": {
        "id": "9MOwoY_oAd_A"
      }
    },
    {
      "cell_type": "markdown",
      "source": [
        "4.Describe how dictionaries store data ?\n",
        "  >>Dictionaries in Python store data as key-value pairs, where each key is unique and must be immutable. They utilize a hash table for efficient data retrieval, allowing for fast lookups and dynamic resizing as needed."
      ],
      "metadata": {
        "id": "XFvo4m86Ad80"
      }
    },
    {
      "cell_type": "markdown",
      "source": [
        "5.Why might you tuples ensure data integrity in python ?\n",
        "  >>Tuples ensure data integrity in Python due to their immutable nature, meaning once created, their contents cannot be altered. This prevents accidental modifications, maintaining consistent data throughout the program and reducing the risk of bugs and inconsistencies."
      ],
      "metadata": {
        "id": "ho3RfiVNAd65"
      }
    },
    {
      "cell_type": "markdown",
      "source": [
        "6.What is a string in python, and how is it difference from a list ?\n",
        "  >>A string in Python is a sequence of characters enclosed in quotes, representing textual data. Unlike lists, which are mutable and can change in size or content, strings are immutable, meaning their values cannot be altered once created.\n"
      ],
      "metadata": {
        "id": "yKHEB4DZAd4Q"
      }
    },
    {
      "cell_type": "markdown",
      "source": [
        "7.How do tuples ensure data integrity in python ?\n",
        "  >>Tuples ensure data integrity in Python by being immutable, meaning their contents cannot be changed after creation. This prevents accidental modifications, maintaining consistent data and reducing the risk of bugs in programs."
      ],
      "metadata": {
        "id": "GW_WXSaiAd2F"
      }
    },
    {
      "cell_type": "markdown",
      "source": [
        "8.What is a hash table, and how does it relate to dictionaries in python ?\n",
        "  >>* A hash table is a data structure that organizes data in key-value pairs, utilizing a hash function to compute an index for each key. This allows for efficient data access, as it enables average-case constant time complexity for lookups, insertions, and deletions.\n",
        "  * In Python, dictionaries are implemented using hash tables, ensuring that each key is unique and can be quickly retrieved, modified, or deleted, making them highly effective for managing collections of data."
      ],
      "metadata": {
        "id": "cA2vLe5oAdwg"
      }
    },
    {
      "cell_type": "markdown",
      "source": [
        "9.Can lists contain different data types in python ?\n",
        "  >>Yes, lists in Python can contain different data types, allowing for heterogeneous collections. This flexibility enables the storage of integers, strings, floats, and even other lists or tuples within a single list, making it versatile for various programming needs.\n"
      ],
      "metadata": {
        "id": "fUV-hMCIAdtJ"
      }
    },
    {
      "cell_type": "markdown",
      "source": [
        "10.Explain why strings are immutable in python ?\n",
        "  >>Strings in Python are immutable to prevent accidental modifications, ensuring that their contents remain constant throughout their lifetime. This immutability enhances data integrity, allows strings to be used as keys in dictionaries, and optimizes performance by enabling efficient memory management and hash calculations.\n"
      ],
      "metadata": {
        "id": "x5lg80tsAdq9"
      }
    },
    {
      "cell_type": "markdown",
      "source": [
        "11.What advantages do dictionaries offer over lists for certain tasks ?\n",
        "  >>Dictionaries offer advantages over lists, including faster lookups due to hash tables, unique key-value pairing for efficient data organization, and flexible data types. They also allow for efficient modifications, making them ideal for tasks requiring quick access to related data."
      ],
      "metadata": {
        "id": "adkd217GAdob"
      }
    },
    {
      "cell_type": "markdown",
      "source": [
        "12.Describe a scenario where using a tuple would be preferable over a list?\n",
        "  >>Using a tuple is preferable over a list when you need to store a collection of related values that should remain constant throughout the program. For example, storing geographic coordinates (latitude, longitude) as a tuple ensures that these values cannot be accidentally modified, maintaining data integrity.\n"
      ],
      "metadata": {
        "id": "gE7qcZumAdln"
      }
    },
    {
      "cell_type": "markdown",
      "source": [
        "13.How do sets handle duplicate values in python ?\n",
        "  >>Sets in Python handle duplicate values by inherently disallowing them. When you attempt to add a duplicate value to a set, it simply ignores the addition, ensuring that each element remains unique. This characteristic makes sets ideal for maintaining collections of distinct items.\n"
      ],
      "metadata": {
        "id": "S7oB_H2jIJTs"
      }
    },
    {
      "cell_type": "markdown",
      "source": [
        "14.How does the \"in\" keyword work differently for lists and dictionaries?\n",
        "  >>The \"in\" keyword operates differently for lists and dictionaries in Python.\n",
        "\n",
        "* For lists, it checks for the presence of a value by iterating through each element, resulting in a time complexity of\n",
        "𝑂\n",
        "(\n",
        "𝑛\n",
        ")\n",
        "O(n) as the list grows larger.\n",
        "* In contrast, for dictionaries, it checks for the presence of a key using a hash table, allowing for average-case constant time complexity\n",
        "𝑂\n",
        "(\n",
        "1\n",
        ")\n",
        "O(1). This makes dictionaries significantly more efficient for membership testing compared to lists."
      ],
      "metadata": {
        "id": "geZuzrkQIJGS"
      }
    },
    {
      "cell_type": "markdown",
      "source": [
        "15.Can you modify the elements of a tuple? Explain why or why not ?\n",
        "  >>Tuples in Python are immutable, meaning their elements cannot be modified after creation. This immutability ensures data integrity by preventing accidental changes to the contents. While you cannot change the elements directly, if a tuple contains mutable objects (like lists), those objects can still be modified. However, the tuple itself will always reference the same objects in the same order, maintaining its structure throughout its lifecycle."
      ],
      "metadata": {
        "id": "d6le9T-8IJC1"
      }
    },
    {
      "cell_type": "markdown",
      "source": [
        "16.What is a nested dictionary, and give an example of its use case?\n",
        "  >>A nested dictionary in Python is a dictionary that contains other dictionaries as values, allowing for organized representation of complex data. For example, a students dictionary can store student information, where each key represents a student ID and the value is another dictionary containing attributes like name, age, and major. This structure facilitates efficient data management and retrieval in applications such as student record systems."
      ],
      "metadata": {
        "id": "_WW4FR6vJM-L"
      }
    },
    {
      "cell_type": "markdown",
      "source": [
        "17.Describe the time complexity of accessing elemts in dictionary.\n",
        "  >>Accessing elements in a Python dictionary has an average time complexity of\n",
        "𝑂\n",
        "(\n",
        "1\n",
        ")\n",
        "O(1). This efficiency is due to the underlying hash table implementation, which allows for direct access to values via their unique keys. However, in rare cases involving hash collisions, the time complexity can degrade to\n",
        "𝑂\n",
        "(\n",
        "𝑛\n",
        ")\n",
        "O(n) in the worst-case scenario."
      ],
      "metadata": {
        "id": "fIk2BKCXJM2d"
      }
    },
    {
      "cell_type": "markdown",
      "source": [
        "18.In what situations are lists preferred overdictionaries ?\n",
        "  >>Lists are preferred over dictionaries in situations where:\n",
        "* Order Matters: Lists maintain the order of elements, making them suitable for tasks that require a specific sequence, such as tracking user actions or maintaining a timeline.\n",
        "* Duplicate Values: Lists allow duplicate entries, which is beneficial when multiple occurrences of the same item need to be stored.\n",
        "* Simple Data Storage: For straightforward collections of items without the need for key-value associations, lists provide a simpler and more intuitive structure."
      ],
      "metadata": {
        "id": "MjS0S6_tJMpQ"
      }
    },
    {
      "cell_type": "markdown",
      "source": [
        "19.Why are dictionaries considered unordered, and how  does that affect data retrieval ?\n",
        "  >>Dictionaries in Python were traditionally considered unordered because, prior to version 3.7, they did not maintain the order of elements. This meant that items were accessed by unique keys rather than positions. While dictionaries are now ordered by default in Python 3.7 and later, understanding their historical unordered nature is important for scenarios where element order is crucial.\n"
      ],
      "metadata": {
        "id": "dKma8vjzKz97"
      }
    },
    {
      "cell_type": "markdown",
      "source": [
        "20.Explain the difference between a list and a dictionary in terms of data retrieval.\n",
        "  >>Lists and dictionaries in Python differ significantly in data retrieval methods.\n",
        "* Access Method: Lists use index values for access, requiring knowledge of the element's position, while dictionaries use unique keys for direct access to associated values.\n",
        "* Time Complexity: Lists have a linear time complexity\n",
        "𝑂\n",
        "(\n",
        "𝑛\n",
        ")\n",
        "O(n) for searches, whereas dictionaries offer average-case constant time complexity\n",
        "𝑂\n",
        "(\n",
        "1\n",
        ")\n",
        "O(1) for lookups due to their hash table implementation.\n",
        "* Order: Lists maintain order, while dictionaries prioritize efficient key lookups, though they are ordered since Python 3.7."
      ],
      "metadata": {
        "id": "fELTvH52LJ9e"
      }
    },
    {
      "cell_type": "code",
      "execution_count": null,
      "metadata": {
        "id": "qr43d4oQ21_W"
      },
      "outputs": [],
      "source": [
        "                                                                  #PRACTICAL QUESTIONS"
      ]
    },
    {
      "cell_type": "code",
      "source": [
        "#1.Write a code to create a string with your name and print it.\n",
        "\n",
        "# Create a string with your name\n",
        "name = \"Vishal Kumar\"\n",
        "\n",
        "# Print the string\n",
        "print(name)\n"
      ],
      "metadata": {
        "colab": {
          "base_uri": "https://localhost:8080/"
        },
        "id": "v4DpCqYHQPMz",
        "outputId": "c91a44f0-972f-4b34-e8d3-a225a7b1c8bb"
      },
      "execution_count": null,
      "outputs": [
        {
          "output_type": "stream",
          "name": "stdout",
          "text": [
            "Vishal Kumar\n"
          ]
        }
      ]
    },
    {
      "cell_type": "code",
      "source": [
        "#2.Write a code to find the length of the string \"Hello World\"\n",
        "\n",
        "# Define the string\n",
        "string = \"Hello World\"\n",
        "\n",
        "# Find the length of the string\n",
        "length = len(string)\n",
        "\n",
        "# Print the length\n",
        "print(\"The length of the string is:\", length)\n"
      ],
      "metadata": {
        "colab": {
          "base_uri": "https://localhost:8080/"
        },
        "id": "X76VBwgWRsfG",
        "outputId": "541e4c04-8e67-45b4-fda4-a20f508e12e9"
      },
      "execution_count": null,
      "outputs": [
        {
          "output_type": "stream",
          "name": "stdout",
          "text": [
            "The length of the string is: 11\n"
          ]
        }
      ]
    },
    {
      "cell_type": "code",
      "source": [
        "#3.Write a code to slice the first 3 characters from the string \"python programming\" ?\n",
        "\n",
        "# Define the string\n",
        "my_string = \"python programming\"\n",
        "\n",
        "# Slice the first 3 characters\n",
        "sliced_string = my_string[:3]\n",
        "\n",
        "# Print the result\n",
        "print(sliced_string)\n"
      ],
      "metadata": {
        "id": "pRV8fqOOSL7y",
        "colab": {
          "base_uri": "https://localhost:8080/"
        },
        "outputId": "86287851-cd87-4b51-9f01-ad06dd138cf2"
      },
      "execution_count": null,
      "outputs": [
        {
          "output_type": "stream",
          "name": "stdout",
          "text": [
            "pyt\n"
          ]
        }
      ]
    },
    {
      "cell_type": "code",
      "source": [
        "#4.Write the code to convert the strings \"hello\" to uppercase?\n",
        "\n",
        "# Define the string\n",
        "my_string = \"hello\"\n",
        "\n",
        "# Convert the string to uppercase\n",
        "uppercase_string = my_string.upper()\n",
        "\n",
        "# Print the result\n",
        "print(uppercase_string)\n"
      ],
      "metadata": {
        "id": "bQYiPhHOe9cF",
        "colab": {
          "base_uri": "https://localhost:8080/"
        },
        "outputId": "b191b01a-19e7-449b-d644-de1430e3a7c0"
      },
      "execution_count": null,
      "outputs": [
        {
          "output_type": "stream",
          "name": "stdout",
          "text": [
            "HELLO\n"
          ]
        }
      ]
    },
    {
      "cell_type": "code",
      "source": [
        "#5.Write a code to replace the word \"apple\" with \"orange\" in the string \"i like apple\".\n",
        "\n",
        "# Define the original string\n",
        "original_string = \"I like apple\"\n",
        "\n",
        "# Replace \"apple\" with \"orange\"\n",
        "modified_string = original_string.replace(\"apple\", \"orange\")\n",
        "\n",
        "# Print the result\n",
        "print(modified_string)\n"
      ],
      "metadata": {
        "id": "tFCfg1brpFnV",
        "colab": {
          "base_uri": "https://localhost:8080/"
        },
        "outputId": "50e2f4a8-25d1-4007-f936-e0617ac855a4"
      },
      "execution_count": null,
      "outputs": [
        {
          "output_type": "stream",
          "name": "stdout",
          "text": [
            "I like orange\n"
          ]
        }
      ]
    },
    {
      "cell_type": "code",
      "source": [
        "#6.Write a code to create a list with numbers 1 to 5 and print it.\n",
        "# Create a list with numbers from 1 to 5\n",
        "number_list = [1, 2, 3, 4, 5]\n",
        "\n",
        "# Print the list\n",
        "print(number_list)\n"
      ],
      "metadata": {
        "colab": {
          "base_uri": "https://localhost:8080/"
        },
        "id": "1aodbpZkpNCw",
        "outputId": "d535bf99-b364-4658-ee49-9ff14468410f"
      },
      "execution_count": null,
      "outputs": [
        {
          "output_type": "stream",
          "name": "stdout",
          "text": [
            "[1, 2, 3, 4, 5]\n"
          ]
        }
      ]
    },
    {
      "cell_type": "code",
      "source": [
        "#7.Write a code to append the number 10 to the list [1, 2, 3, 4]\n",
        "\n",
        "# Define the original list\n",
        "my_list = [1, 2, 3, 4]\n",
        "\n",
        "# Append the number 10 to the list\n",
        "my_list.append(10)\n",
        "\n",
        "# Print the modified list\n",
        "print(my_list)\n"
      ],
      "metadata": {
        "colab": {
          "base_uri": "https://localhost:8080/"
        },
        "id": "daRNCemGpuCb",
        "outputId": "317f48de-e88e-42ee-eb48-5c58a98be4ff"
      },
      "execution_count": null,
      "outputs": [
        {
          "output_type": "stream",
          "name": "stdout",
          "text": [
            "[1, 2, 3, 4, 10]\n"
          ]
        }
      ]
    },
    {
      "cell_type": "code",
      "source": [
        "#8.Write a code to remove the number 3 from the list [1, 2, 3, 4, 5].\n",
        "\n",
        "# Define the original list\n",
        "my_list = [1, 2, 3, 4, 5]\n",
        "\n",
        "# Remove the number 3 from the list\n",
        "my_list.remove(3)\n",
        "\n",
        "# Print the modified list\n",
        "print(my_list)\n"
      ],
      "metadata": {
        "colab": {
          "base_uri": "https://localhost:8080/"
        },
        "id": "waFNfbNPqVQH",
        "outputId": "f7bb6740-304c-4786-e95e-60d32fe274db"
      },
      "execution_count": null,
      "outputs": [
        {
          "output_type": "stream",
          "name": "stdout",
          "text": [
            "[1, 2, 4, 5]\n"
          ]
        }
      ]
    },
    {
      "cell_type": "code",
      "source": [
        "#9.Write a code to access the second element in the list ['a', 'b', 'c', 'd'].\n",
        "\n",
        "# Define the list\n",
        "my_list = ['a', 'b', 'c', 'd']\n",
        "\n",
        "# Access the second element (index 1)\n",
        "second_element = my_list[1]\n",
        "\n",
        "# Print the second element\n",
        "print(second_element)\n"
      ],
      "metadata": {
        "colab": {
          "base_uri": "https://localhost:8080/"
        },
        "id": "vKUEWPV1qVMy",
        "outputId": "2e91bca8-d4a4-4955-fc7c-48f585d9dbbb"
      },
      "execution_count": null,
      "outputs": [
        {
          "output_type": "stream",
          "name": "stdout",
          "text": [
            "b\n"
          ]
        }
      ]
    },
    {
      "cell_type": "code",
      "source": [
        "#10.Write a code to reverse the list [10, 20, 30, 40, 50].\n",
        "\n",
        "# Define the original list\n",
        "my_list = [10, 20, 30, 40, 50]\n",
        "\n",
        "# Reverse the list in place\n",
        "my_list.reverse()\n",
        "\n",
        "# Print the reversed list\n",
        "print(my_list)\n",
        "\n"
      ],
      "metadata": {
        "colab": {
          "base_uri": "https://localhost:8080/"
        },
        "id": "hH33ZBOQqVKe",
        "outputId": "b14a1130-01c7-4813-c9a9-b66192c2779d"
      },
      "execution_count": null,
      "outputs": [
        {
          "output_type": "stream",
          "name": "stdout",
          "text": [
            "[50, 40, 30, 20, 10]\n"
          ]
        }
      ]
    },
    {
      "cell_type": "code",
      "source": [
        "#11.Write a code to create a tuple with the elements 10, 20, 30 and print it\n",
        "\n",
        "# Create a tuple with the elements 10, 20, and 30\n",
        "my_tuple = (10, 20, 30)\n",
        "\n",
        "# Print the tuple\n",
        "print(my_tuple)\n"
      ],
      "metadata": {
        "colab": {
          "base_uri": "https://localhost:8080/"
        },
        "id": "s5jNZLNMqVHq",
        "outputId": "95e34e13-ae43-41c5-cb66-1294bcfc008f"
      },
      "execution_count": null,
      "outputs": [
        {
          "output_type": "stream",
          "name": "stdout",
          "text": [
            "(10, 20, 30)\n"
          ]
        }
      ]
    },
    {
      "cell_type": "code",
      "source": [
        "#12.Write a code to access the first element of the tuple('apple', 'banana', 'cherry').\n",
        "\n",
        "# Define the tuple\n",
        "my_tuple = ('apple', 'banana', 'cherry')\n",
        "\n",
        "# Access the first element (index 0)\n",
        "first_element = my_tuple[0]\n",
        "\n",
        "# Print the first element\n",
        "print(first_element)\n"
      ],
      "metadata": {
        "colab": {
          "base_uri": "https://localhost:8080/"
        },
        "id": "MfWGUvKkqVFS",
        "outputId": "e243c349-b634-438b-9772-abc59c29795e"
      },
      "execution_count": null,
      "outputs": [
        {
          "output_type": "stream",
          "name": "stdout",
          "text": [
            "apple\n"
          ]
        }
      ]
    },
    {
      "cell_type": "code",
      "source": [
        "#13.Write a code to count how many times the number 2 appears in the tuple(1, 2, 3, 2, 4, 2).\n",
        "\n",
        "# Define the tuple\n",
        "my_tuple = (1, 2, 3, 2, 4, 2)\n",
        "\n",
        "# Count how many times the number 2 appears in the tuple\n",
        "count_of_twos = my_tuple.count(2)\n",
        "\n",
        "# Print the result\n",
        "print(count_of_twos)\n"
      ],
      "metadata": {
        "colab": {
          "base_uri": "https://localhost:8080/"
        },
        "id": "4YMElZ_SqVCx",
        "outputId": "347c28ba-0770-445e-9371-5df69fc6f669"
      },
      "execution_count": null,
      "outputs": [
        {
          "output_type": "stream",
          "name": "stdout",
          "text": [
            "3\n"
          ]
        }
      ]
    },
    {
      "cell_type": "code",
      "source": [
        "#14.Write a code to find the index of the elements \"cat\" in the tuple (\"dog\", \"cat\", \"rabbit\")\n",
        "\n",
        "# Define the tuple\n",
        "my_tuple = (\"dog\", \"cat\", \"rabbit\")\n",
        "\n",
        "# Find the index of the element \"cat\"\n",
        "index_of_cat = my_tuple.index(\"cat\")\n",
        "\n",
        "# Print the result\n",
        "print(index_of_cat)\n"
      ],
      "metadata": {
        "colab": {
          "base_uri": "https://localhost:8080/"
        },
        "id": "rdZPBob1qVAL",
        "outputId": "a663ed95-aaa8-4560-e915-d4cec2cc3200"
      },
      "execution_count": null,
      "outputs": [
        {
          "output_type": "stream",
          "name": "stdout",
          "text": [
            "1\n"
          ]
        }
      ]
    },
    {
      "cell_type": "code",
      "source": [
        "#15.Write a code to check if the element \"banana\" is in the tuple ('apple', 'orange', 'banana')\n",
        "\n",
        "# Define the tuple\n",
        "my_tuple = ('apple', 'orange', 'banana')\n",
        "\n",
        "# Check if \"banana\" is in the tuple\n",
        "is_banana_present = \"banana\" in my_tuple\n",
        "\n",
        "# Print the result\n",
        "print(is_banana_present)\n"
      ],
      "metadata": {
        "colab": {
          "base_uri": "https://localhost:8080/"
        },
        "id": "WA4z27f5qU9b",
        "outputId": "3a9df18f-dff0-40e4-b1fc-bf56ccbe6ae1"
      },
      "execution_count": null,
      "outputs": [
        {
          "output_type": "stream",
          "name": "stdout",
          "text": [
            "True\n"
          ]
        }
      ]
    },
    {
      "cell_type": "code",
      "source": [
        "#16.Write a code to create a set with the elements 1, 2, 3, 4, 5 and print it.\n",
        "\n",
        "# Create a set with the elements 1, 2, 3, 4, 5\n",
        "my_set = {1, 2, 3, 4, 5}\n",
        "\n",
        "# Print the set\n",
        "print(my_set)\n"
      ],
      "metadata": {
        "colab": {
          "base_uri": "https://localhost:8080/"
        },
        "id": "sc0lS_dJqU69",
        "outputId": "14ab7960-11a4-4f19-b707-1d7fd2c9dd38"
      },
      "execution_count": null,
      "outputs": [
        {
          "output_type": "stream",
          "name": "stdout",
          "text": [
            "{1, 2, 3, 4, 5}\n"
          ]
        }
      ]
    },
    {
      "cell_type": "code",
      "source": [
        "#17.Write a code to add the element 6 to the set {1, 2, 3, 4}\n",
        "\n",
        "# Define the original set\n",
        "my_set = {1, 2, 3, 4}\n",
        "\n",
        "# Add the element 6 to the set\n",
        "my_set.add(6)\n",
        "\n",
        "# Print the modified set\n",
        "print(my_set)\n"
      ],
      "metadata": {
        "colab": {
          "base_uri": "https://localhost:8080/"
        },
        "id": "CE6wI42W4BOj",
        "outputId": "cbbad6de-b530-46ec-92ba-bb2a9bb59267"
      },
      "execution_count": null,
      "outputs": [
        {
          "output_type": "stream",
          "name": "stdout",
          "text": [
            "{1, 2, 3, 4, 6}\n"
          ]
        }
      ]
    },
    {
      "cell_type": "code",
      "source": [
        "#18.Write a code to create a tuple with the elements 10, 20, 30 and print it\n",
        "\n",
        "# Create a tuple with the elements 10, 20, and 30\n",
        "my_tuple = (10, 20, 30)\n",
        "\n",
        "# Print the tuple\n",
        "print(my_tuple)\n"
      ],
      "metadata": {
        "id": "Gxfir4ZH4A_T",
        "colab": {
          "base_uri": "https://localhost:8080/"
        },
        "outputId": "851f2f0f-0658-4b0f-8b21-6afcbf1ca3ad"
      },
      "execution_count": 15,
      "outputs": [
        {
          "output_type": "stream",
          "name": "stdout",
          "text": [
            "(10, 20, 30)\n"
          ]
        }
      ]
    },
    {
      "cell_type": "code",
      "source": [
        "#19.Write a code to access the first element of the tuple ('apple', 'banana', 'cherry').\n",
        "\n",
        "# Define the tuple\n",
        "my_tuple = ('apple', 'banana', 'cherry')\n",
        "\n",
        "# Access the first element (index 0)\n",
        "first_element = my_tuple[0]\n",
        "\n",
        "# Print the first element\n",
        "print(first_element)\n"
      ],
      "metadata": {
        "id": "uZJEJOLQ4A78",
        "colab": {
          "base_uri": "https://localhost:8080/"
        },
        "outputId": "77839ed7-4a80-4d33-ecb3-9404935f642c"
      },
      "execution_count": 16,
      "outputs": [
        {
          "output_type": "stream",
          "name": "stdout",
          "text": [
            "apple\n"
          ]
        }
      ]
    },
    {
      "cell_type": "code",
      "source": [
        "#20.Write a code to count how many times the number 2 appears in the tuple (1, 2, 3, 2, 4, 2).\n",
        "\n",
        "# Define the tuple\n",
        "my_tuple = (1, 2, 3, 2, 4, 2)\n",
        "\n",
        "# Count how many times the number 2 appears in the tuple\n",
        "count_of_twos = my_tuple.count(2)\n",
        "\n",
        "# Print the result\n",
        "print(count_of_twos)\n"
      ],
      "metadata": {
        "id": "3He5-yUT3_HJ",
        "colab": {
          "base_uri": "https://localhost:8080/"
        },
        "outputId": "ee7f462e-37cf-479b-9ccb-fa2cabdbccf3"
      },
      "execution_count": 17,
      "outputs": [
        {
          "output_type": "stream",
          "name": "stdout",
          "text": [
            "3\n"
          ]
        }
      ]
    },
    {
      "cell_type": "code",
      "source": [
        "#21.Write a code to find the index of the element \"cat\" in the tuple ('dog', 'cat', 'rabbit')\n",
        "\n",
        "# Define the tuple\n",
        "my_tuple = ('dog', 'cat', 'rabbit')\n",
        "\n",
        "# Find the index of the element \"cat\"\n",
        "index_of_cat = my_tuple.index('cat')\n",
        "\n",
        "# Print the result\n",
        "print(index_of_cat)\n"
      ],
      "metadata": {
        "colab": {
          "base_uri": "https://localhost:8080/"
        },
        "id": "wE7mNZD--5By",
        "outputId": "1d691358-98ad-42ae-c2c6-b31b84a9968d"
      },
      "execution_count": 18,
      "outputs": [
        {
          "output_type": "stream",
          "name": "stdout",
          "text": [
            "1\n"
          ]
        }
      ]
    },
    {
      "cell_type": "code",
      "source": [
        "#22.Write a code to check if the element \"banana\" is in the tuple ('apple', 'orange', 'banana').\n",
        "\n",
        "# Define the tuple\n",
        "my_tuple = ('apple', 'orange', 'banana')\n",
        "\n",
        "# Check if \"banana\" is in the tuple\n",
        "is_banana_present = \"banana\" in my_tuple\n",
        "\n",
        "# Print the result\n",
        "print(is_banana_present)\n"
      ],
      "metadata": {
        "colab": {
          "base_uri": "https://localhost:8080/"
        },
        "id": "qOIlrnhhAWHZ",
        "outputId": "09bfedc1-1585-4e39-d228-6c9e7e05f3a8"
      },
      "execution_count": 19,
      "outputs": [
        {
          "output_type": "stream",
          "name": "stdout",
          "text": [
            "True\n"
          ]
        }
      ]
    },
    {
      "cell_type": "code",
      "source": [
        "#23.Write a code to create a set with the elements 1, 2, 3, 4, 5 and print it\n",
        "\n",
        "# Create a set with the elements 1, 2, 3, 4, 5\n",
        "my_set = {1, 2, 3, 4, 5}\n",
        "\n",
        "# Print the set\n",
        "print(my_set)\n"
      ],
      "metadata": {
        "colab": {
          "base_uri": "https://localhost:8080/"
        },
        "id": "BJSKG6nMBmkf",
        "outputId": "8a7410b7-345c-45b1-b332-301a2bc0cc68"
      },
      "execution_count": 21,
      "outputs": [
        {
          "output_type": "stream",
          "name": "stdout",
          "text": [
            "{1, 2, 3, 4, 5}\n"
          ]
        }
      ]
    },
    {
      "cell_type": "code",
      "source": [
        "#24.Write a code to add the element 6 to the set {1, 2, 3, 4}.\n",
        "\n",
        "# Define the original set\n",
        "my_set = {1, 2, 3, 4}\n",
        "\n",
        "# Add the element 6 to the set\n",
        "my_set.add(6)\n",
        "\n",
        "# Print the modified set\n",
        "print(my_set)\n"
      ],
      "metadata": {
        "colab": {
          "base_uri": "https://localhost:8080/"
        },
        "id": "eY5rLRqjB8Cc",
        "outputId": "1c4adc18-3a93-414f-a587-0a487594f65f"
      },
      "execution_count": 22,
      "outputs": [
        {
          "output_type": "stream",
          "name": "stdout",
          "text": [
            "{1, 2, 3, 4, 6}\n"
          ]
        }
      ]
    },
    {
      "cell_type": "code",
      "source": [],
      "metadata": {
        "id": "_rJkdLy1CkPN"
      },
      "execution_count": null,
      "outputs": []
    }
  ]
}