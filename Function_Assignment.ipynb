{
  "nbformat": 4,
  "nbformat_minor": 0,
  "metadata": {
    "colab": {
      "provenance": []
    },
    "kernelspec": {
      "name": "python3",
      "display_name": "Python 3"
    },
    "language_info": {
      "name": "python"
    }
  },
  "cells": [
    {
      "cell_type": "markdown",
      "source": [
        "1.What is the different between a function and a method of Python ?\n",
        "  >> Functions are standalone code blocks defined globally, while methods are associated with classes and operate on object data. Methods require an instance to be called, unlike independent functions."
      ],
      "metadata": {
        "id": "yptVZKkIv_SR"
      }
    },
    {
      "cell_type": "markdown",
      "source": [
        "2.Explain the concept of function arguments and parameter in Python ?\n",
        "  >>Parameters are placeholders in a function definition, while arguments are the actual values passed during a function call. They enable functions to accept and process input data effectively."
      ],
      "metadata": {
        "id": "NlD6QmvFwo2Y"
      }
    },
    {
      "cell_type": "markdown",
      "source": [
        "3.What are the different way to define and called a function in Python ?\n",
        "  >> Functions in Python can be defined using def, lambda expressions, and with default or variable-length arguments. They can be called directly, using keyword arguments, or as lambda functions."
      ],
      "metadata": {
        "id": "0_OyD70jwoy9"
      }
    },
    {
      "cell_type": "markdown",
      "source": [
        "4.What is the purpose of the 'return' statement in python statement ?\n",
        "  >>The return statement in Python ends function execution and sends values back to the caller. It allows functions to output results, return multiple values, or default to None.\n"
      ],
      "metadata": {
        "id": "eDO0BhnDwowd"
      }
    },
    {
      "cell_type": "markdown",
      "source": [
        "5.What are iteration in python and how do they differ from iterables ?\n",
        "  >>Iteration in Python is the process of traversing through elements in a collection. An iterable is an object that can be iterated over, while an iterator is an object that performs the iteration, providing items one at a time.\n"
      ],
      "metadata": {
        "id": "Ky8SAwcOwot8"
      }
    },
    {
      "cell_type": "markdown",
      "source": [
        "6.Explain the concept of generation in python and how they are defined ?\n",
        "  >>Generators in Python are special functions defined with the yield statement, allowing them to produce a sequence of values lazily. They enable efficient memory usage by generating items one at a time, rather than storing the entire sequence in memory.\n"
      ],
      "metadata": {
        "id": "oF0jvcsPworc"
      }
    },
    {
      "cell_type": "markdown",
      "source": [
        "7.What are the advantage of using generation over regular function ?\n",
        "  >>Using generators in Python offers several advantages over regular functions:\n",
        "  ```\n",
        "    1.Memory Efficiency: Generators yield values on-the-fly, consuming less memory compared to storing entire sequences in memory.\n",
        "    2.Lazy Evaluation: They compute values only when requested, improving performance with large datasets.\n",
        "    3.State Maintenance: Generators automatically maintain their state between yields, simplifying iterative processes.\n",
        " ```"
      ],
      "metadata": {
        "id": "6JcMHAN-woo1"
      }
    },
    {
      "cell_type": "markdown",
      "source": [
        "8.What is a lambda function in python when it is typically used ?\n",
        "  >>A lambda function in Python is an anonymous, single-expression function defined with the lambda keyword. It's typically used for short-term tasks, such as in map(), filter(), and custom sorting."
      ],
      "metadata": {
        "id": "UBbKfI4FwomD"
      }
    },
    {
      "cell_type": "markdown",
      "source": [
        "9.Explain the purpose and usage of the map() function in python ?\n",
        "  >>The map() function in Python applies a specified function to each item in an iterable, such as a list or tuple, and returns a new iterable with the results. It is commonly used for transforming data efficiently without explicit loops."
      ],
      "metadata": {
        "id": "u8qjmm44wojQ"
      }
    },
    {
      "cell_type": "markdown",
      "source": [
        "10.What is the different between map() reduce() and filter() function in python ?\n",
        "  >>map() applies a specified function to each element in an iterable, returning a new iterable. filter() selects elements that meet a condition, while reduce() cumulatively combines elements into a single result, often using a binary function."
      ],
      "metadata": {
        "id": "58SYNtcZ3dwe"
      }
    },
    {
      "cell_type": "markdown",
      "source": [
        "11.using pen and paper write the internal mechanism for sum operation using reduce function on the given list {47,11,42,13) ?\n",
        "  >>Using reduce() to sum the list {47, 11, 42, 13} involves iteratively applying the addition function:            \n",
        "```47+11=58```\n",
        "```58+42=100```\n",
        "```100+13=113```              \n",
        "```Final result: 113.```"
      ],
      "metadata": {
        "id": "AF3NOYDe3dtF"
      }
    },
    {
      "cell_type": "code",
      "execution_count": null,
      "metadata": {
        "id": "EEP8I8aav2rX"
      },
      "outputs": [],
      "source": [
        "                                                            #Practical Question"
      ]
    },
    {
      "cell_type": "code",
      "source": [
        "#1. Write a Python function that takes a list of numbers as input and returns the sum of all even numbers in the list ?\n",
        "def sum_of_even_numbers(numbers):\n",
        "    \"\"\"Returns the sum of all even numbers in the given list.\"\"\"\n",
        "    return sum(num for num in numbers if num % 2 == 0)\n",
        "\n",
        "# Example usage:\n",
        "numbers = [1, 2, 3, 4, 5, 6]\n",
        "result = sum_of_even_numbers(numbers)\n",
        "print(\"Sum of even numbers:\", result)  # Output: Sum of even numbers: 12\n"
      ],
      "metadata": {
        "colab": {
          "base_uri": "https://localhost:8080/"
        },
        "id": "wgy_ivc-DJ6p",
        "outputId": "10bdb9d4-428a-4fed-8793-51615b59e8ae"
      },
      "execution_count": null,
      "outputs": [
        {
          "output_type": "stream",
          "name": "stdout",
          "text": [
            "Sum of even numbers: 12\n"
          ]
        }
      ]
    },
    {
      "cell_type": "code",
      "source": [
        "#2. Create a Python function that accepts a string and returns the reverse of that string\n",
        "\n",
        "def reverse_string(input_string):\n",
        "    \"\"\"Returns the reverse of the given string.\"\"\"\n",
        "    return input_string[::-1]\n",
        "\n",
        "# Example usage:\n",
        "example_string = \"Hello, World!\"\n",
        "reversed_string = reverse_string(example_string)\n",
        "print(\"Reversed string:\", reversed_string)  # Output: !dlroW ,olleH\n"
      ],
      "metadata": {
        "id": "NuJ7UGsnDWyF",
        "colab": {
          "base_uri": "https://localhost:8080/"
        },
        "outputId": "61a647e3-a40b-475c-d114-28862e04541a"
      },
      "execution_count": null,
      "outputs": [
        {
          "output_type": "stream",
          "name": "stdout",
          "text": [
            "Reversed string: !dlroW ,olleH\n"
          ]
        }
      ]
    },
    {
      "cell_type": "code",
      "source": [
        "#3. Implement a Python function that takes a list of integers and returns a new list containing the squares of each number.\n",
        "\n",
        "def square_numbers(numbers):\n",
        "    \"\"\"Returns a new list containing the squares of each number in the input list.\"\"\"\n",
        "    return [num ** 2 for num in numbers]\n",
        "\n",
        "# Example usage:\n",
        "input_list = [1, 2, 3, 4, 5]\n",
        "squared_list = square_numbers(input_list)\n",
        "print(\"Squared numbers:\", squared_list)  # Output: Squared numbers: [1, 4, 9, 16, 25]\n"
      ],
      "metadata": {
        "colab": {
          "base_uri": "https://localhost:8080/"
        },
        "id": "TgEnd56sipTt",
        "outputId": "f3cdd474-56ef-44fe-d5bc-3c9fef5111af"
      },
      "execution_count": null,
      "outputs": [
        {
          "output_type": "stream",
          "name": "stdout",
          "text": [
            "Squared numbers: [1, 4, 9, 16, 25]\n"
          ]
        }
      ]
    },
    {
      "cell_type": "code",
      "source": [
        "#4. Write a Python function that checks if a given number is prime or not from 1 to 200.\n",
        "\n",
        "def is_prime(number):\n",
        "    \"\"\"Checks if a given number is prime.\"\"\"\n",
        "    if number <= 1:\n",
        "        return False\n",
        "    for i in range(2, int(number**0.5) + 1):\n",
        "        if number % i == 0:\n",
        "            return False\n",
        "    return True\n",
        "\n",
        "# Example usage:\n",
        "for num in range(1, 201):\n",
        "    if is_prime(num):\n",
        "        print(f\"{num} is a prime number.\")\n",
        "\n",
        "\n"
      ],
      "metadata": {
        "colab": {
          "base_uri": "https://localhost:8080/"
        },
        "id": "zBVQKuqhi-5v",
        "outputId": "7b4d1fff-df74-4486-aac8-23b0552a37d2"
      },
      "execution_count": null,
      "outputs": [
        {
          "output_type": "stream",
          "name": "stdout",
          "text": [
            "2 is a prime number.\n",
            "3 is a prime number.\n",
            "5 is a prime number.\n",
            "7 is a prime number.\n",
            "11 is a prime number.\n",
            "13 is a prime number.\n",
            "17 is a prime number.\n",
            "19 is a prime number.\n",
            "23 is a prime number.\n",
            "29 is a prime number.\n",
            "31 is a prime number.\n",
            "37 is a prime number.\n",
            "41 is a prime number.\n",
            "43 is a prime number.\n",
            "47 is a prime number.\n",
            "53 is a prime number.\n",
            "59 is a prime number.\n",
            "61 is a prime number.\n",
            "67 is a prime number.\n",
            "71 is a prime number.\n",
            "73 is a prime number.\n",
            "79 is a prime number.\n",
            "83 is a prime number.\n",
            "89 is a prime number.\n",
            "97 is a prime number.\n",
            "101 is a prime number.\n",
            "103 is a prime number.\n",
            "107 is a prime number.\n",
            "109 is a prime number.\n",
            "113 is a prime number.\n",
            "127 is a prime number.\n",
            "131 is a prime number.\n",
            "137 is a prime number.\n",
            "139 is a prime number.\n",
            "149 is a prime number.\n",
            "151 is a prime number.\n",
            "157 is a prime number.\n",
            "163 is a prime number.\n",
            "167 is a prime number.\n",
            "173 is a prime number.\n",
            "179 is a prime number.\n",
            "181 is a prime number.\n",
            "191 is a prime number.\n",
            "193 is a prime number.\n",
            "197 is a prime number.\n",
            "199 is a prime number.\n"
          ]
        }
      ]
    },
    {
      "cell_type": "code",
      "source": [
        "#5. Create an iterator class in Python that generates the Fibonacci sequence up to a specified number of terms.\n",
        "\n",
        "class FibonacciIterator:\n",
        "    \"\"\"Iterator for generating Fibonacci sequence up to a specified number of terms.\"\"\"\n",
        "\n",
        "    def __init__(self, terms):\n",
        "        self.terms = terms\n",
        "        self.current = 0\n",
        "        self.next_value = 1\n",
        "        self.count = 0\n",
        "\n",
        "    def __iter__(self):\n",
        "        return self\n",
        "\n",
        "    def __next__(self):\n",
        "        if self.count < self.terms:\n",
        "            # Return the current Fibonacci number\n",
        "            fib_number = self.current\n",
        "            # Update for the next iteration\n",
        "            self.current, self.next_value = self.next_value, self.current + self.next_value\n",
        "            self.count += 1\n",
        "            return fib_number\n",
        "        else:\n",
        "            raise StopIteration\n",
        "\n",
        "# Example usage:\n",
        "fibonacci_sequence = FibonacciIterator(10)  # Generate first 10 Fibonacci numbers\n",
        "for number in fibonacci_sequence:\n",
        "    print(number)\n"
      ],
      "metadata": {
        "colab": {
          "base_uri": "https://localhost:8080/"
        },
        "id": "-4A9v11ujK4K",
        "outputId": "fd8b500a-5953-4a91-c0b6-4d27c0cb0388"
      },
      "execution_count": null,
      "outputs": [
        {
          "output_type": "stream",
          "name": "stdout",
          "text": [
            "0\n",
            "1\n",
            "1\n",
            "2\n",
            "3\n",
            "5\n",
            "8\n",
            "13\n",
            "21\n",
            "34\n"
          ]
        }
      ]
    },
    {
      "cell_type": "code",
      "source": [
        "#6. Write a generator function in Python that yields the powers of 2 up to a given exponent\n",
        "\n",
        "def powers_of_two(max_exponent):\n",
        "    \"\"\"Generator that yields powers of 2 up to a specified exponent.\"\"\"\n",
        "    for exponent in range(max_exponent + 1):\n",
        "        yield 2 ** exponent\n",
        "\n",
        "# Example usage:\n",
        "for power in powers_of_two(10):  # Generate powers of 2 up to 2^10\n",
        "    print(power)\n",
        "\n"
      ],
      "metadata": {
        "colab": {
          "base_uri": "https://localhost:8080/"
        },
        "id": "_x3WfWGWjZUq",
        "outputId": "c8fe489f-b646-48d1-9fec-07f2ec816192"
      },
      "execution_count": null,
      "outputs": [
        {
          "output_type": "stream",
          "name": "stdout",
          "text": [
            "1\n",
            "2\n",
            "4\n",
            "8\n",
            "16\n",
            "32\n",
            "64\n",
            "128\n",
            "256\n",
            "512\n",
            "1024\n"
          ]
        }
      ]
    },
    {
      "cell_type": "code",
      "source": [
        "#7. Implement a generator function that reads a file line by line and yields each line as a string\n",
        "\n",
        "def read_file_line_by_line(file_path):\n",
        "    \"\"\"Generator that reads a file line by line.\"\"\"\n",
        "    try:\n",
        "        with open(file_path, 'r') as file:\n",
        "            for line in file:\n",
        "                yield line.strip()  # Yield each line without trailing whitespace\n",
        "    except FileNotFoundError:\n",
        "        print(f\"Error: The file '{file_path}' was not found.\")\n",
        "    except IOError as e:\n",
        "        print(f\"Error reading file '{file_path}': {e}\")\n",
        "\n",
        "# Example usage\n",
        "if __name__ == \"__main__\":\n",
        "    for line in read_file_line_by_line('example.txt'):\n",
        "        print(line)  # Print each line read from the file\n",
        "\n"
      ],
      "metadata": {
        "colab": {
          "base_uri": "https://localhost:8080/"
        },
        "id": "YJFQ2jzhjnyZ",
        "outputId": "d6a75d4d-f03c-48ed-8358-21d60fefa13b"
      },
      "execution_count": 6,
      "outputs": [
        {
          "output_type": "stream",
          "name": "stdout",
          "text": [
            "Error: The file 'example.txt' was not found.\n"
          ]
        }
      ]
    },
    {
      "cell_type": "code",
      "source": [
        "#8. Use a lambda function in Python to sort a list of tuples based on the second element of each tuple.\n",
        "# Create a list of tuples\n",
        "tuples = [(3, 7), (2, 12), (5, 10), (9, 0)]\n",
        "\n",
        "# Sort the list of tuples in place based on the second element\n",
        "tuples.sort(key=lambda x: x[1])\n",
        "\n",
        "# Print the sorted list\n",
        "print(\"Sorted list using sort():\", tuples)\n"
      ],
      "metadata": {
        "colab": {
          "base_uri": "https://localhost:8080/"
        },
        "id": "KbYTnoi-jwJJ",
        "outputId": "885c638d-75ed-4573-c1f4-c874d21b0145"
      },
      "execution_count": null,
      "outputs": [
        {
          "output_type": "stream",
          "name": "stdout",
          "text": [
            "Sorted list using sort(): [(9, 0), (3, 7), (5, 10), (2, 12)]\n"
          ]
        }
      ]
    },
    {
      "cell_type": "code",
      "source": [
        "#9. Write a Python program that uses `map()` to convert a list of temperatures from Celsius to Fahrenheit\n",
        "\n",
        "def celsius_to_fahrenheit(celsius):\n",
        "    \"\"\"Convert Celsius to Fahrenheit.\"\"\"\n",
        "    return (celsius * 9/5) + 32\n",
        "\n",
        "# List of temperatures in Celsius\n",
        "celsius_temperatures = [0, 20, 37, 100, -10]\n",
        "\n",
        "# Use map to convert Celsius to Fahrenheit\n",
        "fahrenheit_temperatures = list(map(celsius_to_fahrenheit, celsius_temperatures))\n",
        "\n",
        "# Print the results\n",
        "print(\"Celsius temperatures:\", celsius_temperatures)\n",
        "print(\"Fahrenheit temperatures:\", fahrenheit_temperatures)\n"
      ],
      "metadata": {
        "colab": {
          "base_uri": "https://localhost:8080/"
        },
        "id": "c-il8jRoSwkC",
        "outputId": "18b91a25-a1a9-4c15-d09b-2b96fdb4333c"
      },
      "execution_count": 7,
      "outputs": [
        {
          "output_type": "stream",
          "name": "stdout",
          "text": [
            "Celsius temperatures: [0, 20, 37, 100, -10]\n",
            "Fahrenheit temperatures: [32.0, 68.0, 98.6, 212.0, 14.0]\n"
          ]
        }
      ]
    },
    {
      "cell_type": "code",
      "source": [
        "#10. Create a Python program that uses `filter()` to remove all the vowels from a given string\n",
        "def remove_vowels(input_string):\n",
        "    # Define a set of vowels\n",
        "    vowels = set(\"aeiouAEIOU\")\n",
        "\n",
        "    # Use filter to remove vowels from the input string\n",
        "    filtered_string = ''.join(filter(lambda char: char not in vowels, input_string))\n",
        "\n",
        "    return filtered_string\n",
        "\n",
        "# Example usage\n",
        "if __name__ == \"__main__\":\n",
        "    user_input = input(\"Enter a string: \")\n",
        "    result = remove_vowels(user_input)\n",
        "    print(\"String after removing vowels:\", result)\n"
      ],
      "metadata": {
        "colab": {
          "base_uri": "https://localhost:8080/"
        },
        "id": "dQFRO7frl8ds",
        "outputId": "a92731c2-5b52-4c07-d085-07712c18dc4a"
      },
      "execution_count": 1,
      "outputs": [
        {
          "output_type": "stream",
          "name": "stdout",
          "text": [
            "Enter a string: VISHAL KUMAR\n",
            "String after removing vowels: VSHL KMR\n"
          ]
        }
      ]
    },
    {
      "cell_type": "code",
      "source": [
        "#11\n",
        "\"\"\"\n",
        "Write a Python program, which returns a list with 2-tuples. Each tuple consists of the order number and the\n",
        "product of the price per item and the quantity. The product should be increased by 10,- € if the value of the\n",
        "order is smaller than 100,00 €.\n",
        "Write a Python program using lambda and map.\n",
        "\"\"\"\n",
        "\n",
        "def calculate_order_totals(orders):\n",
        "    \"\"\"Calculate order totals with adjustments based on the value.\"\"\"\n",
        "    # Function to calculate total for each order\n",
        "    def calculate_total(order):\n",
        "        order_number, price_per_item, quantity = order\n",
        "        total = price_per_item * quantity\n",
        "        # Apply adjustment if total is less than 100\n",
        "        if total < 100:\n",
        "            total += 10\n",
        "        return (order_number, total)\n",
        "\n",
        "    # Use map with the calculate_total function\n",
        "    return list(map(calculate_total, orders))\n",
        "\n",
        "# Example list of orders (order_number, price_per_item, quantity)\n",
        "orders = [\n",
        "    (1, 20.0, 3),   # Total: 60.0 + 10 = 70.0\n",
        "    (2, 50.0, 1),   # Total: 50.0 + 10 = 60.0\n",
        "    (3, 30.0, 4),   # Total: 120.0\n",
        "    (4, 15.0, 7)    # Total: 105.0\n",
        "]\n",
        "\n",
        "# Calculate totals for each order\n",
        "order_totals = calculate_order_totals(orders)\n",
        "\n",
        "# Print the results\n",
        "print(\"Order Totals:\")\n",
        "for order in order_totals:\n",
        "    print(order)\n"
      ],
      "metadata": {
        "colab": {
          "base_uri": "https://localhost:8080/"
        },
        "id": "gKGM8RXKmDAB",
        "outputId": "04a6adb3-bdbc-4d81-aa89-9fdf8d73378a"
      },
      "execution_count": null,
      "outputs": [
        {
          "output_type": "stream",
          "name": "stdout",
          "text": [
            "Order Totals:\n",
            "(1, 70.0)\n",
            "(2, 60.0)\n",
            "(3, 120.0)\n",
            "(4, 105.0)\n"
          ]
        }
      ]
    },
    {
      "cell_type": "code",
      "source": [],
      "metadata": {
        "id": "w1sAfckZn82D"
      },
      "execution_count": null,
      "outputs": []
    }
  ]
}