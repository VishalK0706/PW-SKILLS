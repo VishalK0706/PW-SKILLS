{
  "nbformat": 4,
  "nbformat_minor": 0,
  "metadata": {
    "colab": {
      "provenance": []
    },
    "kernelspec": {
      "name": "python3",
      "display_name": "Python 3"
    },
    "language_info": {
      "name": "python"
    }
  },
  "cells": [
    {
      "cell_type": "markdown",
      "source": [
        "01. What is the difference between interpreted and compiled languages ?\n",
        "  >>* Compiled languages convert source code into machine code before execution, leading to faster performance and optimized resource use. However, they are less portable, as the compiled code is specific to a platform.\n",
        "  *In contrast, interpreted languages execute code line-by-line at runtime, providing greater flexibility and ease of debugging but generally resulting in slower performance. This distinction affects development cycles and project requirements, with compiled languages often favored for performance-critical applications, while interpreted languages are chosen for rapid development and ease of use."
      ],
      "metadata": {
        "id": "_IBF4K5vHlhk"
      }
    },
    {
      "cell_type": "markdown",
      "source": [
        "02.What is exception handling in python ?\n",
        "  >>Exception handling in Python manages errors during execution using keywords like try, except, else, and finally. The try block contains code that may raise exceptions, while except handles them. The finally block executes regardless of errors, ensuring cleanup actions are performed, enhancing program robustness and control."
      ],
      "metadata": {
        "id": "2-Opu04EHlfP"
      }
    },
    {
      "cell_type": "markdown",
      "source": [
        "03.What is purpose of the finally block in exception handling ?\n",
        "  >>The finally block in Python's exception handling ensures that specific code runs regardless of whether an exception occurred. It is commonly used for cleanup tasks, such as closing files or releasing resources, guaranteeing that essential actions are performed and preventing resource leaks, thus maintaining program stability."
      ],
      "metadata": {
        "id": "z9Frtw8GHlcR"
      }
    },
    {
      "cell_type": "markdown",
      "source": [
        "04.What is logging in python ?\n",
        "  >>Logging in Python is the practice of recording messages during execution using the built-in logging module. It categorizes messages by severity levels (DEBUG, INFO, ERROR) and directs them to various outputs, aiding in monitoring, debugging, and maintaining applications."
      ],
      "metadata": {
        "id": "SpvYg2NgHlWc"
      }
    },
    {
      "cell_type": "markdown",
      "source": [
        "05.What is the significance of the ---del---method in pyhthon ?\n",
        "  >>The del keyword in Python is used to delete variables, list items, dictionary entries, and object references. It helps manage memory by removing bindings and enabling garbage collection, thus preventing accidental use of deleted variables and improving resource management."
      ],
      "metadata": {
        "id": "O69CLXMaHlRc"
      }
    },
    {
      "cell_type": "markdown",
      "source": [
        "06.What is the difference between import and from ... import in python ?\n",
        "  >>The difference between import and from ... import in Python is simple:\n",
        "* import module: This imports the whole module. You need to use the module name to access its functions or classes, like this: module.function().\n",
        "* from module import name: This imports specific items from the module directly into your code. You can use them without the module name, like this: function().\n",
        "  * In short, import brings in everything, while from ... import lets you choose specific parts to use directly."
      ],
      "metadata": {
        "id": "i5hOAxiPHlO4"
      }
    },
    {
      "cell_type": "markdown",
      "source": [
        "07.How can you handle multiple exception in python ?\n",
        "  >>To handle multiple exceptions in Python:\n",
        "* Same Block: Use a single except with a tuple of exceptions.\n",
        "* Different Blocks: Use separate except clauses for each exception type.\n",
        "* Investigate: Check specific exception details within an except block.\n",
        "* Order: List more specific exceptions before general ones.\n",
        "    * These approaches enhance error management and code robustness."
      ],
      "metadata": {
        "id": "_vNpdaorHlMU"
      }
    },
    {
      "cell_type": "markdown",
      "source": [
        "08. What is the purpose of the with statements when handling file in python ?\n",
        "  >>The with statement in Python is used for file handling to:\n",
        "    * Automatically Manage Resources: It opens and closes files automatically, preventing resource leaks.\n",
        "    * Simplify Code: It makes the code cleaner and easier to read.\n",
        "    * Ensure Safety: It guarantees proper cleanup even if an error occurs.\n",
        "     * Overall, it enhances resource management and code reliability."
      ],
      "metadata": {
        "id": "-0lp13cyHlJz"
      }
    },
    {
      "cell_type": "markdown",
      "source": [
        "09.What is the difference between multithreading and multiprocessing ?\n",
        "  >>The difference between multithreading and multiprocessing is as follows:\n",
        "* Multithreading: Involves multiple threads within a single process, sharing the same memory space. It is efficient for I/O-bound tasks but can lead to synchronization issues due to shared resources.\n",
        "* Multiprocessing: Uses multiple processes, each with its own memory space, allowing for parallel execution. It is ideal for CPU-bound tasks and avoids the Global Interpreter Lock (GIL), enhancing performance on multi-core systems."
      ],
      "metadata": {
        "id": "F0nzmA6RHlHL"
      }
    },
    {
      "cell_type": "markdown",
      "source": [
        "10.What are advantages of using logging in a program ?\n",
        "  >>Logging in a program offers several advantages:\n",
        "* Problem Diagnosis: Helps identify hidden issues that may not surface during normal execution, facilitating quicker fixes.\n",
        "* Quick Debugging: Simplifies locating and resolving problems, reducing overall debugging time.\n",
        "* Easy Maintenance: Provides valuable information for managing applications effectively.\n",
        "* Historical Records: Stores execution flow details, aiding in problem analysis.\n",
        "Cost and Time Savings: Streamlines debugging and maintenance, ultimately saving resources.\n",
        "  * Overall, logging enhances application reliability and performance."
      ],
      "metadata": {
        "id": "vtdH1JvKHlEj"
      }
    },
    {
      "cell_type": "markdown",
      "source": [
        "11.What is memory management in python ?\n",
        "  >>Memory management in Python involves dynamically allocating and deallocating memory for objects, using a private heap space. It employs garbage collection to reclaim unused memory, manages fragmentation, and optimizes resource use, ensuring efficient performance and preventing memory leaks in applications."
      ],
      "metadata": {
        "id": "pS3YAG8qHlCA"
      }
    },
    {
      "cell_type": "markdown",
      "source": [
        "12.What are the basic steps involved in exception handling in python ?\n",
        "  >>The basic steps involved in exception handling in Python are:\n",
        "* Try Block: Write code that may raise an exception within a try block. This is where you test for errors.\n",
        "* Except Block: Use one or more except blocks to handle specific exceptions that may occur in the try block. This defines how to respond to the error.\n",
        "* Else Block: Optionally, include an else block to execute code if no exceptions were raised in the try block.\n",
        "* Finally Block: Optionally, add a finally block to execute code regardless of whether an exception occurred, typically used for cleanup actions.\n",
        "* Raise Exceptions: You can also use the raise keyword to trigger exceptions manually based on certain conditions in your code.\n",
        "  * These steps help ensure that your program can handle errors gracefully without crashing."
      ],
      "metadata": {
        "id": "ECXbKH3HHk_f"
      }
    },
    {
      "cell_type": "markdown",
      "source": [
        "13.Why is memory management is important in python ?\n",
        "  >>Memory management is important in Python because it ensures efficient use of memory, prevents memory leaks, and enhances application performance. Proper memory management allows for effective handling of large datasets, reduces the risk of slowdowns, and optimizes resource allocation, which is crucial in high-demand applications like data science and artificial intelligence."
      ],
      "metadata": {
        "id": "K5saOIXPHk9H"
      }
    },
    {
      "cell_type": "markdown",
      "source": [
        "14.What is the role of try and except in exception handling ?\n",
        "  >>The role of try and except in exception handling in Python is to manage errors gracefully during program execution.\n",
        "* try Block: This block contains code that may potentially raise an exception. Python attempts to execute this code.\n",
        "* except Block: If an exception occurs in the try block, the flow of execution immediately jumps to the corresponding except block. This block defines how to respond to specific exceptions, allowing the program to continue running instead of crashing.\n",
        "  * By using try and except, developers can anticipate and handle errors, providing a controlled response and enhancing program stability."
      ],
      "metadata": {
        "id": "8rwr4zMaHk6c"
      }
    },
    {
      "cell_type": "markdown",
      "source": [
        "15.How does python's garbage collection system work ?\n",
        "  >>Python's garbage collection system uses reference counting to track object references and deallocate memory when counts reach zero. It also employs generational garbage collection to handle cyclic references, periodically checking and reclaiming memory from different object generations for efficient memory management."
      ],
      "metadata": {
        "id": "OfMY-IQzHk1l"
      }
    },
    {
      "cell_type": "markdown",
      "source": [
        "16.What is the purpose of else block in exception handling ?\n",
        "  >>The purpose of the else block in exception handling is to execute code only if the try block runs without raising any exceptions. This allows for additional operations that should occur after successful execution, ensuring they do not inadvertently catch exceptions from the try block."
      ],
      "metadata": {
        "id": "r_1AYxYMf8kg"
      }
    },
    {
      "cell_type": "markdown",
      "source": [
        "17.What are the common logging level in python ?\n",
        "  >>The common logging levels in Python are:\n",
        "* DEBUG: Detailed information for diagnosing problems.\n",
        "* INFO: General information confirming normal operation.\n",
        "* WARNING: Indicates something unexpected occurred.\n",
        "* ERROR: Logs serious issues that need attention.\n",
        "* CRITICAL: Logs severe errors that may prevent program continuation."
      ],
      "metadata": {
        "id": "MiKD4XzTf8hC"
      }
    },
    {
      "cell_type": "markdown",
      "source": [
        "18.What is the difference between os.fork() and multiprocessing in python ?\n",
        "  >>Difference between os.fork() and multiprocessing in Python\n",
        "* os.fork(): The os.fork() method creates a child process by duplicating the current process. It is available only on UNIX systems and returns two values: 0 in the child process and the child's process ID in the parent. This method allows low-level process management but requires manual handling of inter-process communication and synchronization.\n",
        "* multiprocessing: The multiprocessing module provides a higher-level interface for creating and managing processes. It works across platforms, allowing for easier inter-process communication and synchronization through queues, pipes, and shared memory. This module abstracts many complexities involved in process management, making it more user-friendly for parallel programming"
      ],
      "metadata": {
        "id": "OJ6ErdXLf8e2"
      }
    },
    {
      "cell_type": "markdown",
      "source": [
        "19.What is the important of closing a file in python ?\n",
        "  >>Closing a file in Python is important because it frees up system resources and ensures that all data is properly written and saved. Not closing a file can lead to memory leaks, data corruption, and unexpected behavior in programs.\n",
        "  "
      ],
      "metadata": {
        "id": "aghtOqlRf8cq"
      }
    },
    {
      "cell_type": "markdown",
      "source": [
        "20.What is the difference between file.read() and file.readline() in python ?\n",
        "  >>The difference between file.read() and file.readline() in Python is as follows:\n",
        "* file.read(): This method reads the entire content of a file or a specified number of bytes if an argument is provided. By default, it reads the whole file until the end of the file (EOF) is reached. It returns the content as a single string.\n",
        "* file.readline(): This method reads a single line from the file each time it is called. It can also take an optional argument to specify the maximum number of bytes to read. If no argument is provided, it reads until the end of the line, including the newline character."
      ],
      "metadata": {
        "id": "YwX2Nor1f8ab"
      }
    },
    {
      "cell_type": "markdown",
      "source": [
        "21.What is the logging module in python used for ?\n",
        "  >>The logging module in Python is used for tracking and recording events during program execution. It helps in debugging, monitoring applications, and managing log messages at various severity levels.\n"
      ],
      "metadata": {
        "id": "MkSwjnHLf8X7"
      }
    },
    {
      "cell_type": "markdown",
      "source": [
        "22.What is the os module in python used for in file handling ?\n",
        "  >>The os module in Python is used for file handling by providing functions to interact with the operating system's file system. It allows operations such as opening, reading, writing, and deleting files, as well as creating and managing directories.\n",
        "\n"
      ],
      "metadata": {
        "id": "-M8zay0Kf8VU"
      }
    },
    {
      "cell_type": "markdown",
      "source": [
        "23.What are the challenges associated with memory management in python ?\n",
        "  >>Memory management challenges in Python include garbage collection inefficiencies, cyclic references causing memory leaks, performance issues due to the Global Interpreter Lock (GIL), memory fragmentation, and limited customizability compared to languages like C or C++. Efficient strategies can mitigate these issues."
      ],
      "metadata": {
        "id": "q8AOW-Rao0nC"
      }
    },
    {
      "cell_type": "markdown",
      "source": [
        "24.How do you raise an exception manually in python ?\n",
        "  >>To manually raise an exception in Python, use the raise keyword followed by the exception type and an optional message, like raise ValueError(\"Error message\"). You can also create custom exceptions by subclassing Exception. Use try-except blocks to handle raised exceptions and manage error control flow effectively."
      ],
      "metadata": {
        "id": "XW3cxOZ4o0ac"
      }
    },
    {
      "cell_type": "markdown",
      "source": [
        "25.Why is it important to use multithreading in certain application ?\n",
        "  >>Multithreading is important in applications for several reasons:\n",
        "* Performance: It enhances performance by allowing concurrent execution, effectively utilizing multi-core processors.\n",
        "* Responsiveness: Keeps applications responsive by running long tasks in separate threads, preventing UI blocking.\n",
        "* Resource Utilization: Optimizes I/O operations and CPU cycles, improving efficiency.\n",
        "* Scalability: Enables better scaling on multiprocessor systems, increasing throughput.\n",
        "* Simplified Design: Breaks down complex tasks into manageable threads, making code easier to maintain.\n",
        "  *These benefits make multithreading crucial for efficient and responsive application development."
      ],
      "metadata": {
        "id": "DzBELlwmo0XH"
      }
    },
    {
      "cell_type": "code",
      "execution_count": null,
      "metadata": {
        "id": "Spu2f-pyHQw_"
      },
      "outputs": [],
      "source": [
        "                                                                      #PRACTICAL QUESTIONS"
      ]
    },
    {
      "cell_type": "code",
      "source": [
        "#01.How can you open a file for writing in python and write a string to it ?\n",
        "\n",
        " # Open a file for writing\n",
        "with open(\"myfile.txt\", \"w\") as file:\n",
        "    # Write a string to the file\n",
        "    file.write(\"Hello, World!\")"
      ],
      "metadata": {
        "id": "McT0x7pburFi"
      },
      "execution_count": null,
      "outputs": []
    },
    {
      "cell_type": "markdown",
      "source": [
        "Explanation\n",
        "* The open(\"myfile.txt\", \"w\") command opens (or creates) a file named myfile.txt in write mode.\n",
        "* The with statement ensures that the file is properly closed after writing, even if an error occurs.\n",
        "* The file.write(\"Hello, World!\") method writes the specified string to the file.\n",
        "  * This method is straightforward and effective for writing text data to files in Python."
      ],
      "metadata": {
        "id": "EN9UWERHwjey"
      }
    },
    {
      "cell_type": "code",
      "source": [
        "#02.Write a python program to read the content of a file and print each line ?\n",
        "\n",
        " # Specify the filename\n",
        "filename = \"myfile.txt\"\n",
        "\n",
        "# Open the file for reading\n",
        "try:\n",
        "    with open(filename, \"r\") as file:\n",
        "        # Iterate through each line in the file\n",
        "        for line in file:\n",
        "            print(line.strip())  # Print each line, removing any leading/trailing whitespace\n",
        "except FileNotFoundError:\n",
        "    print(f\"The file '{filename}' does not exist.\")\n",
        "except IOError:\n",
        "    print(\"An error occurred while reading the file.\")\n",
        "\n"
      ],
      "metadata": {
        "colab": {
          "base_uri": "https://localhost:8080/"
        },
        "id": "wEDM1elXurCL",
        "outputId": "654ced89-d955-49fe-c1d9-a21308a7fca6"
      },
      "execution_count": null,
      "outputs": [
        {
          "output_type": "stream",
          "name": "stdout",
          "text": [
            "Hello, World!\n"
          ]
        }
      ]
    },
    {
      "cell_type": "code",
      "source": [
        "#03.How would to handle a case where the file doesn't exist while trying to open it for reading?\n",
        "\n",
        "# Specify the filename\n",
        "filename = \"example.txt\"\n",
        "\n",
        "# Attempt to open the file for reading\n",
        "try:\n",
        "    with open(filename, \"r\") as file:\n",
        "        # Read and print each line in the file\n",
        "        for line in file:\n",
        "            print(line.strip())  # Print each line, removing leading/trailing whitespace\n",
        "except FileNotFoundError:\n",
        "    print(f\"Error: The file '{filename}' does not exist.\")\n",
        "except IOError as e:\n",
        "    print(f\"An I/O error occurred: {e}\")"
      ],
      "metadata": {
        "colab": {
          "base_uri": "https://localhost:8080/"
        },
        "id": "EO7i-M0yuq_i",
        "outputId": "902615ba-7e8d-4ae4-d767-3ff7c4f00e5d"
      },
      "execution_count": null,
      "outputs": [
        {
          "output_type": "stream",
          "name": "stdout",
          "text": [
            "Error: The file 'example.txt' does not exist.\n"
          ]
        }
      ]
    },
    {
      "cell_type": "markdown",
      "source": [
        "Explanation\n",
        "* Try Block: The code attempts to open the specified file in read mode.\n",
        "* FileNotFoundError: If the file does not exist, this exception is raised and caught by the corresponding except block, which prints an error message.\n",
        "* IOError: This handles any other input/output errors that might occur during file operations."
      ],
      "metadata": {
        "id": "52oeK5gXzlYf"
      }
    },
    {
      "cell_type": "code",
      "source": [
        "#04.Write a python script that reads from from one file and writes its content to another life.\n",
        "\n",
        "# Specify the source and destination filenames\n",
        "source_filename = \"source.txt\"\n",
        "destination_filename = \"destination.txt\"\n",
        "\n",
        "try:\n",
        "    # Open the source file for reading\n",
        "    with open(source_filename, \"r\") as source_file:\n",
        "        # Open the destination file for writing\n",
        "        with open(destination_filename, \"w\") as destination_file:\n",
        "            # Read each line from the source file and write it to the destination file\n",
        "            for line in source_file:\n",
        "                destination_file.write(line)  # Write the line to the destination file\n",
        "\n",
        "    print(f\"Content copied from '{source_filename}' to '{destination_filename}' successfully.\")\n",
        "\n",
        "except FileNotFoundError:\n",
        "    print(f\"Error: The file '{source_filename}' does not exist.\")\n",
        "except IOError as e:\n",
        "    print(f\"An I/O error occurred: {e}\")\n"
      ],
      "metadata": {
        "colab": {
          "base_uri": "https://localhost:8080/"
        },
        "id": "nIJvKOuxuq9M",
        "outputId": "0e147326-bf1f-427d-c756-b240e7f15bf9"
      },
      "execution_count": null,
      "outputs": [
        {
          "output_type": "stream",
          "name": "stdout",
          "text": [
            "Error: The file 'source.txt' does not exist.\n"
          ]
        }
      ]
    },
    {
      "cell_type": "markdown",
      "source": [
        "Explanation\n",
        "* File Names: You specify the names of the source and destination files.\n",
        "* Opening Files: The script opens the source file in read mode (\"r\") and the destination file in write mode (\"w\").\n",
        "* Copying Content: It reads each line from the source file and writes it directly to the destination file.\n",
        "* Error Handling: The script includes error handling for cases where the source file does not exist or if any I/O errors occur during file operations.\n",
        "* Success Message: After successful copying, a message is printed to indicate completion."
      ],
      "metadata": {
        "id": "y68nDsVe06Oy"
      }
    },
    {
      "cell_type": "code",
      "source": [
        "#05.How would you catch and handle division by zero error in python ?\n",
        "\n",
        "def divide_numbers(x, y):\n",
        "    try:\n",
        "        # Attempt to perform the division\n",
        "        result = x / y\n",
        "        print(\"Result:\", result)\n",
        "    except ZeroDivisionError:\n",
        "        # Handle the exception if division by zero is attempted\n",
        "        print(\"Error: Cannot divide by zero.\")\n",
        "\n",
        "# Example usage\n",
        "numerator = 10\n",
        "denominator = 0\n",
        "\n",
        "divide_numbers(numerator, denominator)\n",
        "\n"
      ],
      "metadata": {
        "colab": {
          "base_uri": "https://localhost:8080/"
        },
        "id": "2yWzd7nAuq6z",
        "outputId": "ac9d9273-daf4-48ae-e0f4-d68fe6792bd9"
      },
      "execution_count": null,
      "outputs": [
        {
          "output_type": "stream",
          "name": "stdout",
          "text": [
            "Error: Cannot divide by zero.\n"
          ]
        }
      ]
    },
    {
      "cell_type": "code",
      "source": [
        "#06.Write a python program that logs an error message to a log file when a division by zero exception occurs\n",
        "\n",
        "import logging\n",
        "\n",
        "# Configure the logging\n",
        "logging.basicConfig(\n",
        "    filename='error_log.txt',  # Log file name\n",
        "    level=logging.ERROR,        # Set the logging level to ERROR\n",
        "    format='%(asctime)s - %(levelname)s - %(message)s'  # Log message format\n",
        ")\n",
        "\n",
        "def divide_numbers(num1, num2):\n",
        "    try:\n",
        "        result = num1 / num2\n",
        "        return result\n",
        "    except ZeroDivisionError as e:\n",
        "        logging.error(\"Division by zero error: %s\", e)\n",
        "        return None\n",
        "\n",
        "if __name__ == \"__main__\":\n",
        "    # Example usage\n",
        "    print(\"Welcome to the Division Program!\")\n",
        "\n",
        "    # Input numbers from the user\n",
        "    try:\n",
        "        number1 = float(input(\"Enter the first number: \"))\n",
        "        number2 = float(input(\"Enter the second number: \"))\n",
        "\n",
        "        result = divide_numbers(number1, number2)\n",
        "\n",
        "        if result is not None:\n",
        "            print(f\"The result of {number1} divided by {number2} is {result}\")\n",
        "        else:\n",
        "            print(\"An error occurred. Please check the log file for details.\")\n",
        "\n",
        "    except ValueError:\n",
        "        logging.error(\"Invalid input: Non-numeric value entered.\")\n",
        "        print(\"Please enter valid numbers.\")\n"
      ],
      "metadata": {
        "id": "0D8CSfvguq4Q",
        "colab": {
          "base_uri": "https://localhost:8080/"
        },
        "outputId": "1fcfa364-b214-40a5-97c5-af4ee207f8e2"
      },
      "execution_count": null,
      "outputs": [
        {
          "output_type": "stream",
          "name": "stdout",
          "text": [
            "Welcome to the Division Program!\n",
            "Enter the first number: 10\n",
            "Enter the second number: 30\n",
            "The result of 10.0 divided by 30.0 is 0.3333333333333333\n"
          ]
        }
      ]
    },
    {
      "cell_type": "code",
      "source": [
        "#07.How do you log information at different levels (info, error, warning) in python using the logging module?\n",
        "\n",
        "import logging\n",
        "\n",
        "# Basic configuration for logging\n",
        "logging.basicConfig(\n",
        "    level=logging.DEBUG,  # Set the minimum level of logs to capture\n",
        "    format='%(asctime)s - %(levelname)s - %(message)s'  # Format for the log messages\n",
        ")\n",
        "\n",
        "# Create a logger\n",
        "logger = logging.getLogger('my_logger')\n",
        "\n",
        "# Logging messages at different levels\n",
        "logger.debug(\"This is a debug message\")   # Detailed information, typically for diagnosing issues\n",
        "logger.info(\"This is an info message\")     # General information about program execution\n",
        "logger.warning(\"This is a warning message\") # Indication of something unexpected that occurred\n",
        "logger.error(\"This is an error message\")    # Serious issue that needs attention but does not stop execution\n",
        "logger.critical(\"This is a critical message\") # Severe error indicating that the program may not be able to continue\n"
      ],
      "metadata": {
        "id": "16Kc-itTuqzY",
        "colab": {
          "base_uri": "https://localhost:8080/"
        },
        "outputId": "e8e51ca0-bef1-4747-aaa9-de087a148a49"
      },
      "execution_count": null,
      "outputs": [
        {
          "output_type": "stream",
          "name": "stderr",
          "text": [
            "WARNING:my_logger:This is a warning message\n",
            "ERROR:my_logger:This is an error message\n",
            "CRITICAL:my_logger:This is a critical message\n"
          ]
        }
      ]
    },
    {
      "cell_type": "code",
      "source": [
        "#08.Write a program to handle a file opening error using exception handling\n",
        "\n",
        "import logging\n",
        "\n",
        "# Configure logging\n",
        "logging.basicConfig(\n",
        "    filename='file_error_log.txt',  # Log file name\n",
        "    level=logging.ERROR,             # Set the logging level to ERROR\n",
        "    format='%(asctime)s - %(levelname)s - %(message)s'  # Log message format\n",
        ")\n",
        "\n",
        "def read_file(file_path):\n",
        "    try:\n",
        "        with open(file_path, 'r') as file:\n",
        "            content = file.read()\n",
        "            print(\"File content:\")\n",
        "            print(content)\n",
        "    except FileNotFoundError as e:\n",
        "        logging.error(\"File not found: %s\", e)\n",
        "        print(\"Error: The file was not found. Please check the file path.\")\n",
        "    except IOError as e:\n",
        "        logging.error(\"IO error occurred: %s\", e)\n",
        "        print(\"Error: An I/O error occurred while trying to read the file.\")\n",
        "    except Exception as e:\n",
        "        logging.error(\"An unexpected error occurred: %s\", e)\n",
        "        print(\"Error: An unexpected error occurred.\")\n",
        "\n",
        "if __name__ == \"__main__\":\n",
        "    # Example usage\n",
        "    file_name = input(\"Enter the name of the file to open: \")\n",
        "    read_file(file_name)\n"
      ],
      "metadata": {
        "id": "AjgY7uiouquT",
        "colab": {
          "base_uri": "https://localhost:8080/"
        },
        "outputId": "9a3dd5ca-0b6e-454d-d59b-c2861ef07cdd"
      },
      "execution_count": null,
      "outputs": [
        {
          "name": "stdout",
          "output_type": "stream",
          "text": [
            "Enter the name of the file to open: python\n"
          ]
        },
        {
          "output_type": "stream",
          "name": "stderr",
          "text": [
            "ERROR:root:File not found: [Errno 2] No such file or directory: 'python'\n"
          ]
        },
        {
          "output_type": "stream",
          "name": "stdout",
          "text": [
            "Error: The file was not found. Please check the file path.\n"
          ]
        }
      ]
    },
    {
      "cell_type": "code",
      "source": [
        "#09.\n",
        "import logging\n",
        "\n",
        "# Configure logging\n",
        "logging.basicConfig(\n",
        "    filename='file_read_log.txt',  # Log file name\n",
        "    level=logging.ERROR,            # Set the logging level to ERROR\n",
        "    format='%(asctime)s - %(levelname)s - %(message)s'  # Log message format\n",
        ")\n",
        "\n",
        "def read_file_with_for_loop(file_path):\n",
        "    \"\"\"Read file line by line using a for loop.\"\"\"\n",
        "    lines = []\n",
        "    try:\n",
        "        with open(file_path, 'r') as file:\n",
        "            for line in file:\n",
        "                lines.append(line.strip())  # Strip newline characters\n",
        "    except Exception as e:\n",
        "        logging.error(\"Error reading file with for loop: %s\", e)\n",
        "        print(\"An error occurred while reading the file.\")\n",
        "    return lines\n",
        "\n",
        "def read_file_with_list_comprehension(file_path):\n",
        "    \"\"\"Read file using list comprehension.\"\"\"\n",
        "    try:\n",
        "        with open(file_path, 'r') as file:\n",
        "            lines = [line.strip() for line in file]\n",
        "    except Exception as e:\n",
        "        logging.error(\"Error reading file with list comprehension: %s\", e)\n",
        "        print(\"An error occurred while reading the file.\")\n",
        "        return []\n",
        "    return lines\n",
        "\n",
        "def read_file_with_readlines(file_path):\n",
        "    \"\"\"Read file using readlines() method.\"\"\"\n",
        "    try:\n",
        "        with open(file_path, 'r') as file:\n",
        "            lines = file.readlines()  # This includes newlines\n",
        "        # Strip newline characters if needed\n",
        "        return [line.strip() for line in lines]\n",
        "    except Exception as e:\n",
        "        logging.error(\"Error reading file with readlines: %s\", e)\n",
        "        print(\"An error occurred while reading the file.\")\n",
        "        return []\n",
        "\n",
        "def read_file_with_splitlines(file_path):\n",
        "    \"\"\"Read file using read().splitlines() method.\"\"\"\n",
        "    try:\n",
        "        with open(file_path, 'r') as file:\n",
        "            lines = file.read().splitlines()  # Automatically strips newlines\n",
        "    except Exception as e:\n",
        "        logging.error(\"Error reading file with splitlines: %s\", e)\n",
        "        print(\"An error occurred while reading the file.\")\n",
        "        return []\n",
        "    return lines\n",
        "\n",
        "if __name__ == \"__main__\":\n",
        "    # Example usage\n",
        "    filename = input(\"Enter the name of the file to read: \")\n",
        "\n",
        "    print(\"\\nReading with for loop:\")\n",
        "    lines_for_loop = read_file_with_for_loop(filename)\n",
        "    print(lines_for_loop)\n",
        "\n",
        "    print(\"\\nReading with list comprehension:\")\n",
        "    lines_list_comp = read_file_with_list_comprehension(filename)\n",
        "    print(lines_list_comp)\n",
        "\n",
        "    print(\"\\nReading with readlines():\")\n",
        "    lines_readlines = read_file_with_readlines(filename)\n",
        "    print(lines_readlines)\n",
        "\n",
        "    print(\"\\nReading with splitlines():\")\n",
        "    lines_splitlines = read_file_with_splitlines(filename)\n",
        "    print(lines_splitlines)\n",
        "\n"
      ],
      "metadata": {
        "id": "AQoINk16uqr4",
        "colab": {
          "base_uri": "https://localhost:8080/"
        },
        "outputId": "30b8ecce-65c6-45d2-e489-860ad1f0628b"
      },
      "execution_count": null,
      "outputs": [
        {
          "name": "stdout",
          "output_type": "stream",
          "text": [
            "Enter the name of the file to read: conjunction\n"
          ]
        },
        {
          "output_type": "stream",
          "name": "stderr",
          "text": [
            "ERROR:root:Error reading file with for loop: [Errno 2] No such file or directory: 'conjunction'\n",
            "ERROR:root:Error reading file with list comprehension: [Errno 2] No such file or directory: 'conjunction'\n",
            "ERROR:root:Error reading file with readlines: [Errno 2] No such file or directory: 'conjunction'\n",
            "ERROR:root:Error reading file with splitlines: [Errno 2] No such file or directory: 'conjunction'\n"
          ]
        },
        {
          "output_type": "stream",
          "name": "stdout",
          "text": [
            "\n",
            "Reading with for loop:\n",
            "An error occurred while reading the file.\n",
            "[]\n",
            "\n",
            "Reading with list comprehension:\n",
            "An error occurred while reading the file.\n",
            "[]\n",
            "\n",
            "Reading with readlines():\n",
            "An error occurred while reading the file.\n",
            "[]\n",
            "\n",
            "Reading with splitlines():\n",
            "An error occurred while reading the file.\n",
            "[]\n"
          ]
        }
      ]
    },
    {
      "cell_type": "code",
      "source": [
        "#10.How can you append data to an existing file in python ?\n",
        "\n",
        "def append_single_line(file_path, line):\n",
        "    \"\"\"Append a single line of text to the specified file.\"\"\"\n",
        "    with open(file_path, \"a\") as file:\n",
        "        file.write(line + \"\\n\")  # Append the line with a newline character\n",
        "\n",
        "def append_multiple_lines(file_path, lines):\n",
        "    \"\"\"Append multiple lines of text to the specified file.\"\"\"\n",
        "    with open(file_path, \"a\") as file:\n",
        "        for line in lines:\n",
        "            file.write(line + \"\\n\")  # Append each line with a newline character\n",
        "\n",
        "if __name__ == \"__main__\":\n",
        "    # Specify the file name\n",
        "    filename = \"example.txt\"\n",
        "\n",
        "    # Append a single line\n",
        "    single_line = input(\"Enter a single line of text to append: \")\n",
        "    append_single_line(filename, single_line)\n",
        "    print(f\"Appended single line: '{single_line}' to {filename}\")\n",
        "\n",
        "    # Append multiple lines\n",
        "    print(\"Enter multiple lines of text to append (type 'done' when finished):\")\n",
        "    lines_to_append = []\n",
        "\n",
        "    while True:\n",
        "        line = input()\n",
        "        if line.lower() == 'done':\n",
        "            break\n",
        "        lines_to_append.append(line)\n",
        "\n",
        "    append_multiple_lines(filename, lines_to_append)\n",
        "    print(f\"Appended multiple lines to {filename}.\")\n",
        "\n"
      ],
      "metadata": {
        "id": "zGHikfNLuqpl",
        "colab": {
          "base_uri": "https://localhost:8080/"
        },
        "outputId": "fea5b1b5-a3a6-4b32-cab3-c2b61c49a5ee"
      },
      "execution_count": null,
      "outputs": [
        {
          "output_type": "stream",
          "name": "stdout",
          "text": [
            "Enter a single line of text to append: 15\n",
            "Appended single line: '15' to example.txt\n",
            "Enter multiple lines of text to append (type 'done' when finished):\n",
            "done\n",
            "Appended multiple lines to example.txt.\n"
          ]
        }
      ]
    },
    {
      "cell_type": "code",
      "source": [
        "#11.Write a python program that uses a try-except block to handle an error when attempting to access a dictionary key that doesn't exist ?\n",
        "\n",
        "def main():\n",
        "    # Sample dictionary\n",
        "    sample_dict = {\n",
        "        'name': 'Alice',\n",
        "        'age': 30,\n",
        "        'city': 'New York'\n",
        "    }\n",
        "\n",
        "    # Prompt user for a key\n",
        "    key_to_access = input(\"Enter a key to access its value (name, age, city): \")\n",
        "\n",
        "    try:\n",
        "        # Attempt to access the value associated with the provided key\n",
        "        value = sample_dict[key_to_access]\n",
        "        print(f\"The value for '{key_to_access}' is: {value}\")\n",
        "    except KeyError:\n",
        "        # Handle the case where the key does not exist\n",
        "        print(f\"Error: The key '{key_to_access}' does not exist in the dictionary.\")\n",
        "\n",
        "if __name__ == \"__main__\":\n",
        "    main()\n"
      ],
      "metadata": {
        "id": "PQmRu5mpuqnM",
        "colab": {
          "base_uri": "https://localhost:8080/"
        },
        "outputId": "899b180c-299c-4b94-b9da-83dc32861b2d"
      },
      "execution_count": null,
      "outputs": [
        {
          "output_type": "stream",
          "name": "stdout",
          "text": [
            "Enter a key to access its value (name, age, city): ALICE\n",
            "Error: The key 'ALICE' does not exist in the dictionary.\n"
          ]
        }
      ]
    },
    {
      "cell_type": "code",
      "source": [
        "#12.Write a program that demonstrates using multiple except blocks to handle different types of exception.\n",
        "\n",
        "def main():\n",
        "    print(\"Welcome to the Simple Calculator!\")\n",
        "\n",
        "    try:\n",
        "        # Input two numbers from the user\n",
        "        num1 = float(input(\"Enter the first number: \"))\n",
        "        num2 = float(input(\"Enter the second number: \"))\n",
        "\n",
        "        # Perform division\n",
        "        result = num1 / num2\n",
        "        print(f\"The result of {num1} divided by {num2} is: {result}\")\n",
        "\n",
        "    except ZeroDivisionError:\n",
        "        print(\"Error: You cannot divide by zero.\")\n",
        "\n",
        "    except ValueError:\n",
        "        print(\"Error: Invalid input. Please enter numeric values.\")\n",
        "\n",
        "    except Exception as e:\n",
        "        print(f\"An unexpected error occurred: {e}\")\n",
        "\n",
        "if __name__ == \"__main__\":\n",
        "    main()\n"
      ],
      "metadata": {
        "id": "8OOmNli3uqkz"
      },
      "execution_count": null,
      "outputs": []
    },
    {
      "cell_type": "code",
      "source": [
        "#13.How would you check if a file exists before attemting to read it in PYTHON?\n",
        "\n",
        "import os\n",
        "from pathlib import Path\n",
        "\n",
        "def check_file_with_os(file_path):\n",
        "    \"\"\"Check if a file exists using os.path.exists() and read it.\"\"\"\n",
        "    if os.path.exists(file_path):\n",
        "        print(f\"The file '{file_path}' exists (checked with os).\")\n",
        "        # Proceed to read the file\n",
        "        with open(file_path, 'r') as file:\n",
        "            content = file.read()\n",
        "            print(\"File content:\")\n",
        "            print(content)\n",
        "    else:\n",
        "        print(f\"The file '{file_path}' does not exist (checked with os).\")\n",
        "\n",
        "def check_file_with_pathlib(file_path):\n",
        "    \"\"\"Check if a file exists using pathlib.Path.exists() and read it.\"\"\"\n",
        "    path = Path(file_path)\n",
        "    if path.exists():\n",
        "        print(f\"The file '{file_path}' exists (checked with pathlib).\")\n",
        "        # Proceed to read the file\n",
        "        with open(path, 'r') as file:\n",
        "            content = file.read()\n",
        "            print(\"File content:\")\n",
        "            print(content)\n",
        "    else:\n",
        "        print(f\"The file '{file_path}' does not exist (checked with pathlib).\")\n",
        "\n",
        "if __name__ == \"__main__\":\n",
        "    # Specify the file name\n",
        "    filename = 'example.txt'\n",
        "\n",
        "    # Check for the file using os.path\n",
        "    check_file_with_os(filename)\n",
        "\n",
        "    # Check for the file using pathlib\n",
        "    check_file_with_pathlib(filename)\n"
      ],
      "metadata": {
        "id": "k_ufs8yLuqiZ"
      },
      "execution_count": null,
      "outputs": []
    },
    {
      "cell_type": "code",
      "source": [
        "#14.Write a program that uses the logging module to log both informational and error message\n",
        "\n",
        "import logging\n",
        "\n",
        "# Configure logging\n",
        "logging.basicConfig(\n",
        "    filename='app_log.txt',  # Log file name\n",
        "    level=logging.DEBUG,      # Set the logging level to DEBUG to capture all types of log messages\n",
        "    format='%(asctime)s - %(levelname)s - %(message)s'  # Log message format\n",
        ")\n",
        "\n",
        "def perform_operations():\n",
        "    logging.info(\"Starting the operations...\")\n",
        "\n",
        "    try:\n",
        "        # Simulate an operation\n",
        "        result = 10 / 2  # This will succeed\n",
        "        logging.info(f\"Operation successful: 10 / 2 = {result}\")\n",
        "\n",
        "        # Simulate another operation that may cause an error\n",
        "        result = 10 / 0  # This will raise a ZeroDivisionError\n",
        "        logging.info(f\"Operation successful: 10 / 0 = {result}\")\n",
        "\n",
        "    except ZeroDivisionError as e:\n",
        "        logging.error(\"Error occurred: Division by zero.\")\n",
        "\n",
        "    except Exception as e:\n",
        "        logging.error(f\"An unexpected error occurred: {e}\")\n",
        "\n",
        "    logging.info(\"Operations completed.\")\n",
        "\n",
        "if __name__ == \"__main__\":\n",
        "    perform_operations()\n"
      ],
      "metadata": {
        "id": "WrF2Re7tuqgI",
        "colab": {
          "base_uri": "https://localhost:8080/"
        },
        "outputId": "69376265-00b0-4b01-f4aa-d39a249df151"
      },
      "execution_count": null,
      "outputs": [
        {
          "output_type": "stream",
          "name": "stderr",
          "text": [
            "ERROR:root:Error occurred: Division by zero.\n"
          ]
        }
      ]
    },
    {
      "cell_type": "code",
      "source": [
        "#15.Write a python program that prints the content of a file and handles the case when the file is empty.\n",
        "\n",
        "def read_and_print_file(file_path):\n",
        "    \"\"\"Read and print the content of a file, handling empty files.\"\"\"\n",
        "    try:\n",
        "        with open(file_path, 'r') as file:\n",
        "            content = file.read()  # Read the entire content of the file\n",
        "\n",
        "            if not content:  # Check if the content is empty\n",
        "                print(\"The file is empty.\")\n",
        "            else:\n",
        "                print(\"File content:\")\n",
        "                print(content)\n",
        "\n",
        "    except FileNotFoundError:\n",
        "        print(f\"Error: The file '{file_path}' does not exist.\")\n",
        "    except IOError:\n",
        "        print(f\"Error: An I/O error occurred while trying to read the file.\")\n",
        "\n",
        "if __name__ == \"__main__\":\n",
        "    # Specify the file name\n",
        "    filename = input(\"Enter the name of the file to read: \")\n",
        "\n",
        "    # Call the function to read and print the file content\n",
        "    read_and_print_file(filename)\n"
      ],
      "metadata": {
        "id": "qZdU6OpGR7Dw"
      },
      "execution_count": null,
      "outputs": []
    },
    {
      "cell_type": "code",
      "source": [
        "#16.from memory_profiler import profile\n",
        "\n",
        "@profile\n",
        "def allocate_memory():\n",
        "    \"\"\"Function to allocate and manipulate lists.\"\"\"\n",
        "    a = [i for i in range(10000)]  # Allocate a list with a range of numbers\n",
        "    b = [i ** 2 for i in range(10000)]  # Allocate another list with squares of numbers\n",
        "    del b  # Delete the second list to free up memory\n",
        "    return a\n",
        "\n",
        "if __name__ == \"__main__\":\n",
        "    allocate_memory()\n"
      ],
      "metadata": {
        "id": "dvPpvOMLTBdl"
      },
      "execution_count": null,
      "outputs": []
    },
    {
      "cell_type": "code",
      "source": [
        "#17.Write a python program to create and write a list of numbers to a file, one number per line.\n",
        "\n",
        "def write_numbers_to_file(filename, numbers):\n",
        "    \"\"\"Write a list of numbers to a file, one number per line.\"\"\"\n",
        "    try:\n",
        "        with open(filename, 'w') as file:  # Open the file in write mode\n",
        "            for number in numbers:\n",
        "                file.write(f\"{number}\\n\")  # Write each number followed by a newline\n",
        "        print(f\"Successfully wrote {len(numbers)} numbers to '{filename}'.\")\n",
        "    except IOError as e:\n",
        "        print(f\"An error occurred while writing to the file: {e}\")\n",
        "\n",
        "if __name__ == \"__main__\":\n",
        "    # Create a list of numbers\n",
        "    numbers_list = [1, 2, 3, 4, 5, 6, 7, 8, 9, 10]\n",
        "\n",
        "    # Specify the filename\n",
        "    filename = \"numbers.txt\"\n",
        "\n",
        "    # Call the function to write numbers to the file\n",
        "    write_numbers_to_file(filename, numbers_list)\n"
      ],
      "metadata": {
        "id": "fRBGo6QjTihL"
      },
      "execution_count": null,
      "outputs": []
    },
    {
      "cell_type": "code",
      "source": [
        "#18.How would you implement to basic logging setup that logs to a file with rotation after IMB?\n",
        "\n",
        "import logging\n",
        "from logging.handlers import RotatingFileHandler\n",
        "\n",
        "def setup_logging():\n",
        "    \"\"\"Set up logging with rotation.\"\"\"\n",
        "    # Create a logger\n",
        "    logger = logging.getLogger('my_logger')\n",
        "    logger.setLevel(logging.INFO)  # Set the logging level\n",
        "\n",
        "    # Create a rotating file handler that rotates after reaching 1 MB (1 * 1024 * 1024 bytes)\n",
        "    handler = RotatingFileHandler('app.log', maxBytes=1 * 1024 * 1024, backupCount=5)\n",
        "\n",
        "    # Create a formatter and set it for the handler\n",
        "    formatter = logging.Formatter('%(asctime)s - %(levelname)s - %(message)s')\n",
        "    handler.setFormatter(formatter)\n",
        "\n",
        "    # Add the handler to the logger\n",
        "    logger.addHandler(handler)\n",
        "\n",
        "    return logger\n",
        "\n",
        "if __name__ == \"__main__\":\n",
        "    # Set up logging\n",
        "    logger = setup_logging()\n",
        "\n",
        "    # Generate log messages for demonstration\n",
        "    for i in range(10000):\n",
        "        logger.info(f\"This is log message number {i}. This log will help in monitoring the application.\")\n"
      ],
      "metadata": {
        "id": "924uufDbUNBV"
      },
      "execution_count": null,
      "outputs": []
    },
    {
      "cell_type": "code",
      "source": [
        "#19.Write a program that handles both indexError and keyError using a try-except block.\n",
        "\n",
        "def main():\n",
        "    # Sample data\n",
        "    sample_list = [10, 20, 30]\n",
        "    sample_dict = {'a': 1, 'b': 2, 'c': 3}\n",
        "\n",
        "    # Attempt to access an index in the list\n",
        "    try:\n",
        "        index = int(input(\"Enter an index to access in the list (0-2): \"))\n",
        "        print(f\"Value at index {index}: {sample_list[index]}\")  # May raise IndexError\n",
        "    except IndexError:\n",
        "        print(\"Error: Index out of range. Please enter a valid index (0-2).\")\n",
        "\n",
        "    # Attempt to access a key in the dictionary\n",
        "    try:\n",
        "        key = input(\"Enter a key to access in the dictionary ('a', 'b', 'c'): \")\n",
        "        print(f\"Value for key '{key}': {sample_dict[key]}\")  # May raise KeyError\n",
        "    except KeyError:\n",
        "        print(f\"Error: Key '{key}' does not exist in the dictionary.\")\n",
        "\n",
        "if __name__ == \"__main__\":\n",
        "    main()\n"
      ],
      "metadata": {
        "id": "n4gfpc9vUpat"
      },
      "execution_count": null,
      "outputs": []
    },
    {
      "cell_type": "code",
      "source": [
        "#20.How would you open a file and read its contents using a contest manager in python?\n",
        "\n",
        "def read_file_contents(file_path):\n",
        "    \"\"\"Read and print the contents of a file using a context manager.\"\"\"\n",
        "    try:\n",
        "        with open(file_path, 'r') as file:  # Open the file in read mode\n",
        "            content = file.read()  # Read the entire content of the file\n",
        "            print(\"File content:\")\n",
        "            print(content)  # Print the content of the file\n",
        "    except FileNotFoundError:\n",
        "        print(f\"Error: The file '{file_path}' does not exist.\")\n",
        "    except IOError as e:\n",
        "        print(f\"Error: An I/O error occurred while trying to read the file: {e}\")\n",
        "\n",
        "if __name__ == \"__main__\":\n",
        "    # Specify the path to the file you want to read\n",
        "    filename = input(\"Enter the name of the file to read: \")\n",
        "\n",
        "    # Call the function to read and print the file contents\n",
        "    read_file_contents(filename)\n"
      ],
      "metadata": {
        "id": "9llovHFxVlH-"
      },
      "execution_count": null,
      "outputs": []
    },
    {
      "cell_type": "code",
      "source": [
        "#21.Write a python program that reads a file and prints the number of occurrences of a specific word.\n",
        "\n",
        "def count_word_occurrences(file_path, target_word):\n",
        "    \"\"\"Count and print the number of occurrences of a specific word in a file.\"\"\"\n",
        "    try:\n",
        "        with open(file_path, 'r') as file:  # Open the file in read mode\n",
        "            content = file.read()  # Read the entire content of the file\n",
        "\n",
        "            # Count occurrences of the target word (case insensitive)\n",
        "            word_count = content.lower().split().count(target_word.lower())\n",
        "\n",
        "            print(f\"The word '{target_word}' occurs {word_count} times in the file '{file_path}'.\")\n",
        "\n",
        "    except FileNotFoundError:\n",
        "        print(f\"Error: The file '{file_path}' does not exist.\")\n",
        "    except IOError as e:\n",
        "        print(f\"Error: An I/O error occurred while trying to read the file: {e}\")\n",
        "\n",
        "if __name__ == \"__main__\":\n",
        "    # Prompt user for the filename and the word to search for\n",
        "    filename = input(\"Enter the name of the file to read: \")\n",
        "    word_to_count = input(\"Enter the word to count occurrences of: \")\n",
        "\n",
        "    # Call the function to count occurrences of the specified word\n",
        "\n"
      ],
      "metadata": {
        "id": "4wsfkB5QV0Zs"
      },
      "execution_count": null,
      "outputs": []
    },
    {
      "cell_type": "code",
      "source": [
        "#22.How can you check if a file is empty before attempting to read its contents?\n",
        "\n",
        "import os\n",
        "\n",
        "def is_file_empty(file_path):\n",
        "    \"\"\"Check if a file is empty.\"\"\"\n",
        "    return os.path.getsize(file_path) == 0  # Method 1: Using os.path.getsize()\n",
        "\n",
        "    # Alternatively, you can use any of the following methods:\n",
        "\n",
        "    # Method 2: Using os.stat()\n",
        "    # return os.stat(file_path).st_size == 0\n",
        "\n",
        "    # Method 3: Reading the first character\n",
        "    # with open(file_path, 'r') as file:\n",
        "    #     first_char = file.read(1)\n",
        "    #     return first_char == ''\n",
        "\n",
        "    # Method 4: Using file.seek() and file.tell()\n",
        "    # with open(file_path, 'r') as file:\n",
        "    #     file.seek(0, os.SEEK_END)  # Move to the end of the file\n",
        "    #     return file.tell() == 0     # Return True if at position 0\n",
        "\n",
        "def read_file_if_not_empty(file_path):\n",
        "    \"\"\"Reads a file if it is not empty.\"\"\"\n",
        "    if is_file_empty(file_path):\n",
        "        print(f\"The file '{file_path}' is empty.\")\n",
        "    else:\n"
      ],
      "metadata": {
        "id": "CQuvGYe8ZZrx"
      },
      "execution_count": null,
      "outputs": []
    },
    {
      "cell_type": "code",
      "source": [
        "#23.Write a python program that writes to a log file whenn an error occurs during file handling.\n",
        "\n",
        "import logging\n",
        "\n",
        "# Configure logging\n",
        "logging.basicConfig(\n",
        "    filename='file_handling_errors.log',  # Log file name\n",
        "    level=logging.ERROR,                   # Set the logging level to ERROR\n",
        "    format='%(asctime)s - %(levelname)s - %(message)s'  # Log message format\n",
        ")\n",
        "\n",
        "def read_file(file_path):\n",
        "    \"\"\"Read the contents of a file and log errors if they occur.\"\"\"\n",
        "    try:\n",
        "        with open(file_path, 'r') as file:\n",
        "            content = file.read()\n",
        "            print(\"File content:\")\n",
        "            print(content)\n",
        "    except FileNotFoundError:\n",
        "        error_message = f\"Error: The file '{file_path}' does not exist.\"\n",
        "        print(error_message)\n",
        "        logging.error(error_message)  # Log the error\n",
        "    except IOError as e:\n",
        "        error_message = f\"Error: An I/O error occurred while trying to read\n"
      ],
      "metadata": {
        "id": "-9GwaTTqZwzF"
      },
      "execution_count": null,
      "outputs": []
    }
  ]
}