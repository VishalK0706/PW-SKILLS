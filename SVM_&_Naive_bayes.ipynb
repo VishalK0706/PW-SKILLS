{
  "nbformat": 4,
  "nbformat_minor": 0,
  "metadata": {
    "colab": {
      "provenance": []
    },
    "kernelspec": {
      "name": "python3",
      "display_name": "Python 3"
    },
    "language_info": {
      "name": "python"
    }
  },
  "cells": [
    {
      "cell_type": "code",
      "execution_count": 1,
      "metadata": {
        "colab": {
          "base_uri": "https://localhost:8080/"
        },
        "id": "_Q2NVI8j0gxy",
        "outputId": "077a42db-ae89-460b-d2d3-bb514f36854c"
      },
      "outputs": [
        {
          "output_type": "stream",
          "name": "stdout",
          "text": [
            "Accuracy: 1.0\n"
          ]
        }
      ],
      "source": [
        "#Q21.Write a Python program to train an SVM Classifier on the Iris dataset and evaluate accuracy:\n",
        "\n",
        "from sklearn import datasets\n",
        "from sklearn.model_selection import train_test_split\n",
        "from sklearn.svm import SVC\n",
        "from sklearn.metrics import accuracy_score\n",
        "\n",
        "# Load the Iris dataset\n",
        "iris = datasets.load_iris()\n",
        "X = iris.data  # Features: sepal length, sepal width, petal length, petal width\n",
        "y = iris.target  # Labels: Iris-setosa, Iris-versicolor, Iris-virginica\n",
        "\n",
        "# Split the dataset into training and testing sets (80% train, 20% test)\n",
        "X_train, X_test, y_train, y_test = train_test_split(X, y, test_size=0.2, random_state=42)\n",
        "\n",
        "# Create an SVM classifier (using the linear kernel as an example)\n",
        "clf = SVC(kernel='linear')\n",
        "\n",
        "# Train the classifier\n",
        "clf.fit(X_train, y_train)\n",
        "\n",
        "# Make predictions on the test set\n",
        "y_pred = clf.predict(X_test)\n",
        "\n",
        "# Evaluate the accuracy\n",
        "accuracy = accuracy_score(y_test, y_pred)\n",
        "print(\"Accuracy:\", accuracy)\n"
      ]
    },
    {
      "cell_type": "code",
      "source": [
        "#Q22.Write a Python program to train two SVM classifiers with Linear and RBF kernels on the Wine dataset, then compare their accuracies:\n",
        "\n",
        "from sklearn.datasets import load_wine\n",
        "from sklearn.model_selection import train_test_split\n",
        "from sklearn.svm import SVC\n",
        "from sklearn.metrics import accuracy_score\n",
        "\n",
        "# Load the Wine dataset\n",
        "wine = load_wine()\n",
        "X = wine.data\n",
        "y = wine.target\n",
        "\n",
        "# Split into train and test sets (80% train, 20% test)\n",
        "X_train, X_test, y_train, y_test = train_test_split(X, y, test_size=0.2, random_state=42)\n",
        "\n",
        "# Train SVM with Linear kernel\n",
        "svm_linear = SVC(kernel='linear', random_state=42)\n",
        "svm_linear.fit(X_train, y_train)\n",
        "y_pred_linear = svm_linear.predict(X_test)\n",
        "acc_linear = accuracy_score(y_test, y_pred_linear)\n",
        "\n",
        "# Train SVM with RBF kernel\n",
        "svm_rbf = SVC(kernel='rbf', random_state=42)\n",
        "svm_rbf.fit(X_train, y_train)\n",
        "y_pred_rbf = svm_rbf.predict(X_test)\n",
        "acc_rbf = accuracy_score(y_test, y_pred_rbf)\n",
        "\n",
        "# Print accuracies\n",
        "print(f\"Linear Kernel SVM Accuracy: {acc_linear:.4f}\")\n",
        "print(f\"RBF Kernel SVM Accuracy:    {acc_rbf:.4f}\")\n",
        "\n",
        "# Compare\n",
        "if acc_linear > acc_rbf:\n",
        "    print(\"Linear kernel performed better.\")\n",
        "elif acc_linear < acc_rbf:\n",
        "    print(\"RBF kernel performed better.\")\n",
        "else:\n",
        "    print(\"Both kernels performed equally.\")\n"
      ],
      "metadata": {
        "colab": {
          "base_uri": "https://localhost:8080/"
        },
        "id": "GYbFQ-nf0758",
        "outputId": "fa4b0930-48e3-470c-e1e3-256b95e65046"
      },
      "execution_count": 2,
      "outputs": [
        {
          "output_type": "stream",
          "name": "stdout",
          "text": [
            "Linear Kernel SVM Accuracy: 1.0000\n",
            "RBF Kernel SVM Accuracy:    0.8056\n",
            "Linear kernel performed better.\n"
          ]
        }
      ]
    },
    {
      "cell_type": "code",
      "source": [
        "#Q23. Write a Python program to train an SVM Regressor (SVR) on a housing dataset and evaluate it using Mean Squared Error (MSE):\n",
        "\n",
        "from sklearn.datasets import fetch_california_housing\n",
        "from sklearn.model_selection import train_test_split\n",
        "from sklearn.svm import SVR\n",
        "from sklearn.metrics import mean_squared_error\n",
        "\n",
        "# Load the California housing dataset\n",
        "data = fetch_california_housing()\n",
        "X = data.data\n",
        "y = data.target\n",
        "\n",
        "# Split into train and test sets (80% train, 20% test)\n",
        "X_train, X_test, y_train, y_test = train_test_split(X, y, test_size=0.2, random_state=42)\n",
        "\n",
        "# Train an SVM Regressor (SVR) with RBF kernel (default)\n",
        "svr = SVR()\n",
        "svr.fit(X_train, y_train)\n",
        "\n",
        "# Predict on the test set\n",
        "y_pred = svr.predict(X_test)\n",
        "\n",
        "# Evaluate with Mean Squared Error (MSE)\n",
        "mse = mean_squared_error(y_test, y_pred)\n",
        "print(f\"SVR Mean Squared Error: {mse:.4f}\")\n"
      ],
      "metadata": {
        "colab": {
          "base_uri": "https://localhost:8080/"
        },
        "id": "f-jT2WHE1J0_",
        "outputId": "7aea4cdb-3901-4fed-c77f-57b16d530ada"
      },
      "execution_count": 3,
      "outputs": [
        {
          "output_type": "stream",
          "name": "stdout",
          "text": [
            "SVR Mean Squared Error: 1.3320\n"
          ]
        }
      ]
    },
    {
      "cell_type": "code",
      "source": [
        "#Q24.Write a Python program to train an SVM Classifier with a Polynomial Kernel and visualize the decision boundary\n",
        "\n",
        "import numpy as np\n",
        "import matplotlib.pyplot as plt\n",
        "from sklearn import datasets\n",
        "from sklearn.svm import SVC\n",
        "from sklearn.model_selection import train_test_split\n",
        "\n",
        "# Load the Iris dataset and select only two features for visualization\n",
        "iris = datasets.load_iris()\n",
        "X = iris.data[:, [2, 3]]  # Petal length and petal width\n",
        "y = iris.target\n",
        "\n",
        "# For clear visualization, select only two classes (setosa and versicolor)\n",
        "X = X[y != 2]\n",
        "y = y[y != 2]\n",
        "\n",
        "# Split into train and test sets\n",
        "X_train, X_test, y_train, y_test = train_test_split(X, y, test_size=0.2, random_state=42)\n",
        "\n",
        "# Train SVM with polynomial kernel\n",
        "clf = SVC(kernel='poly', degree=3, C=1.0)\n",
        "clf.fit(X_train, y_train)\n",
        "\n",
        "# Plotting decision boundary\n",
        "def plot_decision_boundary(clf, X, y):\n",
        "    # Create a mesh to plot in\n",
        "    x_min, x_max = X[:, 0].min() - 1, X[:, 0].max() + 1\n",
        "    y_min, y_max = X[:, 1].min() - 1, X[:, 1].max() + 1\n",
        "    xx, yy = np.meshgrid(np.linspace(x_min, x_max, 300),\n",
        "                         np.linspace(y_min, y_max, 300))\n",
        "    Z = clf.predict(np.c_[xx.ravel(), yy.ravel()])\n",
        "    Z = Z.reshape(xx.shape)\n",
        "    plt.contourf(xx, yy, Z, alpha=0.3, cmap=plt.cm.coolwarm)\n",
        "    plt.scatter(X[:, 0], X[:, 1], c=y, s=40, edgecolor='k', cmap=plt.cm.coolwarm)\n",
        "    plt.xlabel('Petal length (cm)')\n",
        "    plt.ylabel('Petal width (cm)')\n",
        "    plt.title('SVM with Polynomial Kernel (degree=3)')\n",
        "    plt.show()\n",
        "\n",
        "plot_decision_boundary(clf, X, y)\n"
      ],
      "metadata": {
        "colab": {
          "base_uri": "https://localhost:8080/",
          "height": 472
        },
        "id": "3dF_6mSM1U8R",
        "outputId": "f09c6b83-c76c-474e-f8d2-6d86c56f8d3c"
      },
      "execution_count": 4,
      "outputs": [
        {
          "output_type": "display_data",
          "data": {
            "text/plain": [
              "<Figure size 640x480 with 1 Axes>"
            ],
            "image/png": "[encoded data removed]"
          },
          "metadata": {}
        }
      ]
    },
    {
      "cell_type": "code",
      "source": [
        "#Q25.: Write a Python program to train a Gaussian Naïve Bayes classifier on the Breast Cancer dataset and evaluate accuracy\n",
        "\n",
        "from sklearn.datasets import load_breast_cancer\n",
        "from sklearn.model_selection import train_test_split\n",
        "from sklearn.naive_bayes import GaussianNB\n",
        "from sklearn.metrics import accuracy_score\n",
        "\n",
        "# Load the breast cancer dataset\n",
        "data = load_breast_cancer()\n",
        "X = data.data\n",
        "y = data.target\n",
        "\n",
        "# Split the data into training and testing sets (80% train, 20% test)\n",
        "X_train, X_test, y_train, y_test = train_test_split(X, y, test_size=0.2, random_state=42)\n",
        "\n",
        "# Initialize the Gaussian Naive Bayes classifier\n",
        "clf = GaussianNB()\n",
        "\n",
        "# Train the classifier\n",
        "clf.fit(X_train, y_train)\n",
        "\n",
        "# Make predictions on the test set\n",
        "y_pred = clf.predict(X_test)\n",
        "\n",
        "# Evaluate and print the accuracy\n",
        "accuracy = accuracy_score(y_test, y_pred)\n",
        "print(f\"Accuracy: {accuracy:.4f}\")\n"
      ],
      "metadata": {
        "colab": {
          "base_uri": "https://localhost:8080/"
        },
        "id": "FNTH5Mm01XQQ",
        "outputId": "b292e5a6-e3d7-4db2-e24d-3954137759e8"
      },
      "execution_count": 5,
      "outputs": [
        {
          "output_type": "stream",
          "name": "stdout",
          "text": [
            "Accuracy: 0.9737\n"
          ]
        }
      ]
    },
    {
      "cell_type": "code",
      "source": [
        "#Q26.Write a Python program to train a Multinomial Naïve Bayes classifier for text classification using the 20 Newsgroups dataset.\n",
        "\n",
        "from sklearn.datasets import fetch_20newsgroups\n",
        "from sklearn.feature_extraction.text import CountVectorizer\n",
        "from sklearn.naive_bayes import MultinomialNB\n",
        "from sklearn.model_selection import train_test_split\n",
        "from sklearn.metrics import accuracy_score\n",
        "\n",
        "# Load the 20 Newsgroups dataset (using a subset for speed; remove headers, footers, quotes)\n",
        "newsgroups = fetch_20newsgroups(subset='all', remove=('headers', 'footers', 'quotes'))\n",
        "\n",
        "# Split into training and test sets\n",
        "X_train, X_test, y_train, y_test = train_test_split(\n",
        "    newsgroups.data, newsgroups.target, test_size=0.2, random_state=42\n",
        ")\n",
        "\n",
        "# Convert text data to feature vectors\n",
        "vectorizer = CountVectorizer(stop_words='english')\n",
        "X_train_counts = vectorizer.fit_transform(X_train)\n",
        "X_test_counts = vectorizer.transform(X_test)\n",
        "\n",
        "# Train Multinomial Naive Bayes classifier\n",
        "clf = MultinomialNB()\n",
        "clf.fit(X_train_counts, y_train)\n",
        "\n",
        "# Predict on the test set\n",
        "y_pred = clf.predict(X_test_counts)\n",
        "\n",
        "# Evaluate accuracy\n",
        "accuracy = accuracy_score(y_test, y_pred)\n",
        "print(f\"Multinomial Naive Bayes Accuracy on 20 Newsgroups: {accuracy:.4f}\")\n"
      ],
      "metadata": {
        "colab": {
          "base_uri": "https://localhost:8080/"
        },
        "id": "6oH1eY_p1XTl",
        "outputId": "9733fdf0-d06e-4eea-e946-380f46c7977f"
      },
      "execution_count": 6,
      "outputs": [
        {
          "output_type": "stream",
          "name": "stdout",
          "text": [
            "Multinomial Naive Bayes Accuracy on 20 Newsgroups: 0.6753\n"
          ]
        }
      ]
    },
    {
      "cell_type": "code",
      "source": [
        "#Q27.Write a Python program to train an SVM Classifier with different C values and compare the decision boundaries visually\n",
        "\n",
        "import numpy as np\n",
        "import matplotlib.pyplot as plt\n",
        "from sklearn import datasets\n",
        "from sklearn.svm import SVC\n",
        "from sklearn.model_selection import train_test_split\n",
        "\n",
        "# Load a dataset (Iris, using only two classes and two features for visualization)\n",
        "iris = datasets.load_iris()\n",
        "X = iris.data[:, :2]  # Use sepal length and sepal width\n",
        "y = iris.target\n",
        "\n",
        "# Select only two classes for binary classification\n",
        "X = X[y != 2]\n",
        "y = y[y != 2]\n",
        "\n",
        "# Split into training and test sets\n",
        "X_train, X_test, y_train, y_test = train_test_split(X, y, test_size=0.2, random_state=42)\n",
        "\n",
        "def plot_decision_boundary(clf, X, y, ax, title):\n",
        "    # Create a mesh grid\n",
        "    x_min, x_max = X[:, 0].min() - 1, X[:, 0].max() + 1\n",
        "    y_min, y_max = X[:, 1].min() - 1, X[:, 1].max() + 1\n",
        "    xx, yy = np.meshgrid(np.linspace(x_min, x_max, 300),\n",
        "                         np.linspace(y_min, y_max, 300))\n",
        "    Z = clf.predict(np.c_[xx.ravel(), yy.ravel()])\n",
        "    Z = Z.reshape(xx.shape)\n",
        "    ax.contourf(xx, yy, Z, alpha=0.3, cmap=plt.cm.coolwarm)\n",
        "    ax.scatter(X[:, 0], X[:, 1], c=y, s=40, edgecolor='k', cmap=plt.cm.coolwarm)\n",
        "    ax.set_xlabel('Sepal length (cm)')\n",
        "    ax.set_ylabel('Sepal width (cm)')\n",
        "    ax.set_title(title)\n",
        "\n",
        "# Try different C values\n",
        "C_values = [0.01, 0.1, 1, 10, 100]\n",
        "fig, axes = plt.subplots(1, len(C_values), figsize=(20, 4))\n",
        "\n",
        "for ax, C in zip(axes, C_values):\n",
        "    clf = SVC(kernel='linear', C=C)\n",
        "    clf.fit(X_train, y_train)\n",
        "    plot_decision_boundary(clf, X, y, ax, f\"SVM (C={C})\")\n",
        "\n",
        "plt.tight_layout()\n",
        "plt.show()\n"
      ],
      "metadata": {
        "colab": {
          "base_uri": "https://localhost:8080/",
          "height": 294
        },
        "id": "HE44MvlV1XWd",
        "outputId": "b80cc96f-dd5f-42dd-9e55-fbba640889aa"
      },
      "execution_count": 7,
      "outputs": [
        {
          "output_type": "display_data",
          "data": {
            "text/plain": [
              "<Figure size 2000x400 with 5 Axes>"
            ],
            "image/png": "[encoded data removed]"
          },
          "metadata": {}
        }
      ]
    },
    {
      "cell_type": "code",
      "source": [
        "#Q28.Write a Python program to train a Bernoulli Naïve Bayes classifier for binary classification on a dataset with binary features=\n",
        "\n",
        "from sklearn.datasets import make_classification\n",
        "from sklearn.model_selection import train_test_split\n",
        "from sklearn.naive_bayes import BernoulliNB\n",
        "from sklearn.metrics import accuracy_score\n",
        "\n",
        "# Generate a synthetic dataset with binary features\n",
        "X, y = make_classification(\n",
        "    n_samples=1000,\n",
        "    n_features=20,\n",
        "    n_informative=10,\n",
        "    n_redundant=0,\n",
        "    n_classes=2,\n",
        "    random_state=42\n",
        ")\n",
        "\n",
        "# Binarize the features (convert to 0/1)\n",
        "X_binary = (X > 0).astype(int)\n",
        "\n",
        "# Split into training and test sets\n",
        "X_train, X_test, y_train, y_test = train_test_split(\n",
        "    X_binary, y, test_size=0.2, random_state=42\n",
        ")\n",
        "\n",
        "# Initialize and train the Bernoulli Naive Bayes classifier\n",
        "clf = BernoulliNB()\n",
        "clf.fit(X_train, y_train)\n",
        "\n",
        "# Predict on the test set\n",
        "y_pred = clf.predict(X_test)\n",
        "\n",
        "# Evaluate accuracy\n",
        "accuracy = accuracy_score(y_test, y_pred)\n",
        "print(f\"Bernoulli Naive Bayes Accuracy: {accuracy:.4f}\")\n"
      ],
      "metadata": {
        "colab": {
          "base_uri": "https://localhost:8080/"
        },
        "id": "vEXox7Ux1Xbp",
        "outputId": "5675d6d6-c4c2-4d0b-88b7-5c1388ddedaf"
      },
      "execution_count": 8,
      "outputs": [
        {
          "output_type": "stream",
          "name": "stdout",
          "text": [
            "Bernoulli Naive Bayes Accuracy: 0.7550\n"
          ]
        }
      ]
    },
    {
      "cell_type": "code",
      "source": [
        "#Q29.Write a Python program to apply feature scaling before training an SVM model and compare results with unscaled data=\n",
        "\n",
        "from sklearn import datasets\n",
        "from sklearn.model_selection import train_test_split\n",
        "from sklearn.svm import SVC\n",
        "from sklearn.metrics import accuracy_score\n",
        "from sklearn.preprocessing import StandardScaler\n",
        "\n",
        "# Load a dataset (e.g., Wine)\n",
        "wine = datasets.load_wine()\n",
        "X = wine.data\n",
        "y = wine.target\n",
        "\n",
        "# Split into train and test sets\n",
        "X_train, X_test, y_train, y_test = train_test_split(X, y, test_size=0.2, random_state=42)\n",
        "\n",
        "# 1. Train SVM on unscaled data\n",
        "svm_unscaled = SVC(kernel='rbf', random_state=42)\n",
        "svm_unscaled.fit(X_train, y_train)\n",
        "y_pred_unscaled = svm_unscaled.predict(X_test)\n",
        "acc_unscaled = accuracy_score(y_test, y_pred_unscaled)\n",
        "\n",
        "# 2. Apply feature scaling\n",
        "scaler = StandardScaler()\n",
        "X_train_scaled = scaler.fit_transform(X_train)\n",
        "X_test_scaled = scaler.transform(X_test)\n",
        "\n",
        "# Train SVM on scaled data\n",
        "svm_scaled = SVC(kernel='rbf', random_state=42)\n",
        "svm_scaled.fit(X_train_scaled, y_train)\n",
        "y_pred_scaled = svm_scaled.predict(X_test_scaled)\n",
        "acc_scaled = accuracy_score(y_test, y_pred_scaled)\n",
        "\n",
        "# Compare results\n",
        "print(f\"SVM Accuracy without Scaling: {acc_unscaled:.4f}\")\n",
        "print(f\"SVM Accuracy with Scaling:    {acc_scaled:.4f}\")\n",
        "\n",
        "if acc_scaled > acc_unscaled:\n",
        "    print(\"Feature scaling improved the SVM's performance.\")\n",
        "elif acc_scaled < acc_unscaled:\n",
        "    print(\"Feature scaling reduced the SVM's performance.\")\n",
        "else:\n",
        "    print(\"Feature scaling made no difference in this case.\")\n"
      ],
      "metadata": {
        "colab": {
          "base_uri": "https://localhost:8080/"
        },
        "id": "F-7a1nwf1Xeb",
        "outputId": "2392f91b-d078-4db8-dfe0-d133b330e585"
      },
      "execution_count": 9,
      "outputs": [
        {
          "output_type": "stream",
          "name": "stdout",
          "text": [
            "SVM Accuracy without Scaling: 0.8056\n",
            "SVM Accuracy with Scaling:    1.0000\n",
            "Feature scaling improved the SVM's performance.\n"
          ]
        }
      ]
    },
    {
      "cell_type": "code",
      "source": [
        "#Q30.Write a Python program to train a Gaussian Naïve Bayes model and compare the predictions before and after Laplace Smoothing=\n",
        "\n",
        "from sklearn.datasets import load_iris\n",
        "from sklearn.model_selection import train_test_split\n",
        "from sklearn.naive_bayes import GaussianNB\n",
        "from sklearn.metrics import accuracy_score\n",
        "\n",
        "# Load dataset\n",
        "X, y = load_iris(return_X_y=True)\n",
        "\n",
        "# Split\n",
        "X_train, X_test, y_train, y_test = train_test_split(X, y, test_size=0.2, random_state=42)\n",
        "\n",
        "# Train GaussianNB\n",
        "gnb = GaussianNB()\n",
        "gnb.fit(X_train, y_train)\n",
        "y_pred = gnb.predict(X_test)\n",
        "\n",
        "print(\"GaussianNB predictions:\", y_pred)\n",
        "print(\"GaussianNB accuracy:\", accuracy_score(y_test, y_pred))\n"
      ],
      "metadata": {
        "colab": {
          "base_uri": "https://localhost:8080/"
        },
        "id": "KJ9ec9q-1XhE",
        "outputId": "9be2f2d6-46c6-4fa8-c8a2-51cb5f9a8981"
      },
      "execution_count": 10,
      "outputs": [
        {
          "output_type": "stream",
          "name": "stdout",
          "text": [
            "GaussianNB predictions: [1 0 2 1 1 0 1 2 1 1 2 0 0 0 0 1 2 1 1 2 0 2 0 2 2 2 2 2 0 0]\n",
            "GaussianNB accuracy: 1.0\n"
          ]
        }
      ]
    },
    {
      "cell_type": "code",
      "source": [
        "#Q31.Write a Python program to train an SVM Classifier and use GridSearchCV to tune the hyperparameters (C, gamma, kernel)=\n",
        "\n",
        "from sklearn import datasets\n",
        "from sklearn.model_selection import train_test_split, GridSearchCV\n",
        "from sklearn.svm import SVC\n",
        "from sklearn.metrics import accuracy_score\n",
        "\n",
        "# Load a dataset (e.g., Iris)\n",
        "iris = datasets.load_iris()\n",
        "X = iris.data\n",
        "y = iris.target\n",
        "\n",
        "# Split into train and test sets\n",
        "X_train, X_test, y_train, y_test = train_test_split(X, y, test_size=0.2, random_state=42)\n",
        "\n",
        "# Define the parameter grid for GridSearchCV\n",
        "param_grid = {\n",
        "    'C': [0.1, 1, 10, 100],\n",
        "    'gamma': ['scale', 0.01, 0.1, 1, 10],\n",
        "    'kernel': ['linear', 'rbf', 'poly']\n",
        "}\n",
        "\n",
        "# Initialize the SVM classifier\n",
        "svc = SVC()\n",
        "\n",
        "# Set up GridSearchCV\n",
        "grid_search = GridSearchCV(svc, param_grid, cv=5, scoring='accuracy', n_jobs=-1)\n",
        "grid_search.fit(X_train, y_train)\n",
        "\n",
        "# Print best parameters and best score\n",
        "print(\"Best parameters found:\", grid_search.best_params_)\n",
        "print(\"Best cross-validation accuracy: {:.4f}\".format(grid_search.best_score_))\n",
        "\n",
        "# Evaluate on the test set using the best estimator\n",
        "best_svc = grid_search.best_estimator_\n",
        "y_pred = best_svc.predict(X_test)\n",
        "test_accuracy = accuracy_score(y_test, y_pred)\n",
        "print(\"Test set accuracy with best parameters: {:.4f}\".format(test_accuracy))\n"
      ],
      "metadata": {
        "colab": {
          "base_uri": "https://localhost:8080/"
        },
        "id": "_kczvVyp1Xow",
        "outputId": "9f73a6cf-440a-4d67-b015-84ea4ec17eef"
      },
      "execution_count": 11,
      "outputs": [
        {
          "output_type": "stream",
          "name": "stdout",
          "text": [
            "Best parameters found: {'C': 0.1, 'gamma': 0.1, 'kernel': 'poly'}\n",
            "Best cross-validation accuracy: 0.9583\n",
            "Test set accuracy with best parameters: 1.0000\n"
          ]
        }
      ]
    },
    {
      "cell_type": "code",
      "source": [
        "#Q32. Write a Python program to train an SVM Classifier on an imbalanced dataset and apply class weighting and check it improve accuracy\n",
        "\n",
        "from sklearn.datasets import make_classification\n",
        "from sklearn.model_selection import train_test_split\n",
        "from sklearn.svm import SVC\n",
        "from sklearn.metrics import accuracy_score, classification_report\n",
        "import numpy as np\n",
        "\n",
        "# Create an imbalanced dataset\n",
        "X, y = make_classification(\n",
        "    n_samples=1000, n_features=10, n_informative=5, n_redundant=0,\n",
        "    n_clusters_per_class=1, weights=[0.9, 0.1], flip_y=0, random_state=42\n",
        ")\n",
        "\n",
        "# Check class distribution\n",
        "unique, counts = np.unique(y, return_counts=True)\n",
        "print(\"Class distribution:\", dict(zip(unique, counts)))\n",
        "\n",
        "# Split into train and test sets\n",
        "X_train, X_test, y_train, y_test = train_test_split(\n",
        "    X, y, test_size=0.2, random_state=42, stratify=y\n",
        ")\n",
        "\n",
        "# Train SVM without class weighting\n",
        "svm_no_weight = SVC(kernel='rbf', random_state=42)\n",
        "svm_no_weight.fit(X_train, y_train)\n",
        "y_pred_no_weight = svm_no_weight.predict(X_test)\n",
        "print(\"\\nWithout class weighting:\")\n",
        "print(\"Accuracy:\", accuracy_score(y_test, y_pred_no_weight))\n",
        "print(classification_report(y_test, y_pred_no_weight))\n",
        "\n",
        "# Train SVM with class weighting\n",
        "svm_weighted = SVC(kernel='rbf', class_weight='balanced', random_state=42)\n",
        "svm_weighted.fit(X_train, y_train)\n",
        "y_pred_weighted = svm_weighted.predict(X_test)\n",
        "print(\"With class weighting:\")\n",
        "print(\"Accuracy:\", accuracy_score(y_test, y_pred_weighted))\n",
        "print(classification_report(y_test, y_pred_weighted))\n"
      ],
      "metadata": {
        "colab": {
          "base_uri": "https://localhost:8080/"
        },
        "id": "vt-yGsjz1XrV",
        "outputId": "cbee8485-8e0e-49a0-92e2-6d6bfe1c78c4"
      },
      "execution_count": 12,
      "outputs": [
        {
          "output_type": "stream",
          "name": "stdout",
          "text": [
            "Class distribution: {np.int64(0): np.int64(900), np.int64(1): np.int64(100)}\n",
            "\n",
            "Without class weighting:\n",
            "Accuracy: 0.985\n",
            "              precision    recall  f1-score   support\n",
            "\n",
            "           0       0.98      1.00      0.99       180\n",
            "           1       1.00      0.85      0.92        20\n",
            "\n",
            "    accuracy                           0.98       200\n",
            "   macro avg       0.99      0.93      0.96       200\n",
            "weighted avg       0.99      0.98      0.98       200\n",
            "\n",
            "With class weighting:\n",
            "Accuracy: 0.98\n",
            "              precision    recall  f1-score   support\n",
            "\n",
            "           0       0.98      0.99      0.99       180\n",
            "           1       0.94      0.85      0.89        20\n",
            "\n",
            "    accuracy                           0.98       200\n",
            "   macro avg       0.96      0.92      0.94       200\n",
            "weighted avg       0.98      0.98      0.98       200\n",
            "\n"
          ]
        }
      ]
    },
    {
      "cell_type": "code",
      "source": [
        "#Q33.Write a Python program to implement a Naïve Bayes classifier for spam detection using email data=\n",
        "\n",
        "import pandas as pd\n",
        "from sklearn.model_selection import train_test_split\n",
        "from sklearn.feature_extraction.text import CountVectorizer\n",
        "from sklearn.naive_bayes import MultinomialNB\n",
        "from sklearn.metrics import accuracy_score, classification_report\n",
        "\n",
        "# Download and load the SMS Spam Collection dataset (or use your own email spam dataset)\n",
        "# Dataset URL: https://archive.ics.uci.edu/ml/machine-learning-databases/00228/smsspamcollection.zip\n",
        "# For demonstration, we'll load from a local file named 'SMSSpamCollection'\n",
        "\n",
        "# Read the dataset\n",
        "df = pd.read_csv('SMSSpamCollection', sep='\\t', header=None, names=['label', 'message'])\n",
        "\n",
        "# Convert labels to binary values: ham=0, spam=1\n",
        "df['label_num'] = df.label.map({'ham':0, 'spam':1})\n",
        "\n",
        "# Split the dataset\n",
        "X_train, X_test, y_train, y_test = train_test_split(\n",
        "    df['message'], df['label_num'], test_size=0.2, random_state=42\n",
        ")\n",
        "\n",
        "# Convert text to feature vectors\n",
        "vectorizer = CountVectorizer(stop_words='english')\n",
        "X_train_vec = vectorizer.fit_transform(X_train)\n",
        "X_test_vec = vectorizer.transform(X_test)\n",
        "\n",
        "# Train Naive Bayes classifier\n",
        "nb = MultinomialNB()\n",
        "nb.fit(X_train_vec, y_train)\n",
        "\n",
        "# Predict and evaluate\n",
        "y_pred = nb.predict(X_test_vec)\n",
        "accuracy = accuracy_score(y_test, y_pred)\n",
        "print(f\"Naive Bayes Spam Detection Accuracy: {accuracy:.4f}\")\n",
        "print(classification_report(y_test, y_pred, target_names=['Ham', 'Spam']))\n"
      ],
      "metadata": {
        "id": "CFTEIhfn1XuB"
      },
      "execution_count": null,
      "outputs": []
    },
    {
      "cell_type": "code",
      "source": [
        "#Q34.Write a Python program to train an SVM Classifier and a Naïve Bayes Classifier on the same dataset and compare their accuracy=\n",
        "\n",
        "from sklearn.datasets import load_wine\n",
        "from sklearn.model_selection import train_test_split\n",
        "from sklearn.svm import SVC\n",
        "from sklearn.naive_bayes import GaussianNB\n",
        "from sklearn.metrics import accuracy_score\n",
        "\n",
        "# Load dataset\n",
        "data = load_wine()\n",
        "X = data.data\n",
        "y = data.target\n",
        "\n",
        "# Split into training and test sets\n",
        "X_train, X_test, y_train, y_test = train_test_split(X, y, test_size=0.2, random_state=42)\n",
        "\n",
        "# Train SVM Classifier\n",
        "svm = SVC(kernel='rbf', random_state=42)\n",
        "svm.fit(X_train, y_train)\n",
        "y_pred_svm = svm.predict(X_test)\n",
        "acc_svm = accuracy_score(y_test, y_pred_svm)\n",
        "\n",
        "# Train Naïve Bayes Classifier\n",
        "nb = GaussianNB()\n",
        "nb.fit(X_train, y_train)\n",
        "y_pred_nb = nb.predict(X_test)\n",
        "acc_nb = accuracy_score(y_test, y_pred_nb)\n",
        "\n",
        "# Print and compare accuracies\n",
        "print(f\"SVM Classifier Accuracy:         {acc_svm:.4f}\")\n",
        "print(f\"Naïve Bayes Classifier Accuracy: {acc_nb:.4f}\")\n",
        "\n",
        "if acc_svm > acc_nb:\n",
        "    print(\"SVM performed better.\")\n",
        "elif acc_nb > acc_svm:\n",
        "    print(\"Naïve Bayes performed better.\")\n",
        "else:\n",
        "    print(\"Both classifiers performed equally.\")\n"
      ],
      "metadata": {
        "colab": {
          "base_uri": "https://localhost:8080/"
        },
        "id": "AvwP86KY1Xwu",
        "outputId": "78929242-3c36-415a-f925-295a0f1695b4"
      },
      "execution_count": 14,
      "outputs": [
        {
          "output_type": "stream",
          "name": "stdout",
          "text": [
            "SVM Classifier Accuracy:         0.8056\n",
            "Naïve Bayes Classifier Accuracy: 1.0000\n",
            "Naïve Bayes performed better.\n"
          ]
        }
      ]
    },
    {
      "cell_type": "code",
      "source": [
        "#Q35.= Write a Python program to perform feature selection before training a Naïve Bayes classifier and compare results\n",
        "\n",
        "from sklearn.datasets import load_wine\n",
        "from sklearn.model_selection import train_test_split\n",
        "from sklearn.naive_bayes import GaussianNB\n",
        "from sklearn.feature_selection import SelectKBest, f_classif\n",
        "from sklearn.metrics import accuracy_score\n",
        "\n",
        "# Load dataset\n",
        "data = load_wine()\n",
        "X = data.data\n",
        "y = data.target\n",
        "\n",
        "# Split into training and test sets\n",
        "X_train, X_test, y_train, y_test = train_test_split(\n",
        "    X, y, test_size=0.2, random_state=42\n",
        ")\n",
        "\n",
        "# 1. Train Naive Bayes on all features\n",
        "nb_all = GaussianNB()\n",
        "nb_all.fit(X_train, y_train)\n",
        "y_pred_all = nb_all.predict(X_test)\n",
        "acc_all = accuracy_score(y_test, y_pred_all)\n",
        "\n",
        "# 2. Feature selection: select top 5 features\n",
        "selector = SelectKBest(score_func=f_classif, k=5)\n",
        "X_train_sel = selector.fit_transform(X_train, y_train)\n",
        "X_test_sel = selector.transform(X_test)\n",
        "\n",
        "# Train Naive Bayes on selected features\n",
        "nb_sel = GaussianNB()\n",
        "nb_sel.fit(X_train_sel, y_train)\n",
        "y_pred_sel = nb_sel.predict(X_test_sel)\n",
        "acc_sel = accuracy_score(y_test, y_pred_sel)\n",
        "\n",
        "# Compare results\n",
        "print(f\"Naive Bayes Accuracy (all features):     {acc_all:.4f}\")\n",
        "print(f\"Naive Bayes Accuracy (top 5 features):   {acc_sel:.4f}\")\n",
        "\n",
        "if acc_sel > acc_all:\n",
        "    print(\"Feature selection improved the accuracy.\")\n",
        "elif acc_sel < acc_all:\n",
        "    print(\"Feature selection reduced the accuracy.\")\n",
        "else:\n",
        "    print(\"Feature selection made no difference in accuracy.\")\n"
      ],
      "metadata": {
        "colab": {
          "base_uri": "https://localhost:8080/"
        },
        "id": "wB3HXcuy1Xzn",
        "outputId": "3e3602c6-f998-494c-dd1f-3861567d5481"
      },
      "execution_count": 15,
      "outputs": [
        {
          "output_type": "stream",
          "name": "stdout",
          "text": [
            "Naive Bayes Accuracy (all features):     1.0000\n",
            "Naive Bayes Accuracy (top 5 features):   0.9444\n",
            "Feature selection reduced the accuracy.\n"
          ]
        }
      ]
    },
    {
      "cell_type": "code",
      "source": [
        "#Q36.Write a Python program to train an SVM Classifier using One-vs-Rest (OvR) and One-vs-One (OvO) strategies on the Wine dataset and compare their accuracy=\n",
        "\n",
        "from sklearn.datasets import load_wine\n",
        "from sklearn.model_selection import train_test_split\n",
        "from sklearn.svm import SVC\n",
        "from sklearn.multiclass import OneVsRestClassifier, OneVsOneClassifier\n",
        "from sklearn.metrics import accuracy_score\n",
        "\n",
        "# Load the Wine dataset\n",
        "wine = load_wine()\n",
        "X = wine.data\n",
        "y = wine.target\n",
        "\n",
        "# Split into training and test sets\n",
        "X_train, X_test, y_train, y_test = train_test_split(\n",
        "    X, y, test_size=0.3, random_state=42\n",
        ")\n",
        "\n",
        "# SVM with One-vs-Rest (OvR) strategy\n",
        "ovr_clf = OneVsRestClassifier(SVC(kernel='rbf', random_state=42))\n",
        "ovr_clf.fit(X_train, y_train)\n",
        "y_pred_ovr = ovr_clf.predict(X_test)\n",
        "acc_ovr = accuracy_score(y_test, y_pred_ovr)\n",
        "\n",
        "# SVM with One-vs-One (OvO) strategy\n",
        "ovo_clf = OneVsOneClassifier(SVC(kernel='rbf', random_state=42))\n",
        "ovo_clf.fit(X_train, y_train)\n",
        "y_pred_ovo = ovo_clf.predict(X_test)\n",
        "acc_ovo = accuracy_score(y_test, y_pred_ovo)\n",
        "\n",
        "# Print and compare accuracies\n",
        "print(f\"SVM One-vs-Rest (OvR) Accuracy: {acc_ovr:.4f}\")\n",
        "print(f\"SVM One-vs-One (OvO) Accuracy: {acc_ovo:.4f}\")\n",
        "\n",
        "if acc_ovr > acc_ovo:\n",
        "    print(\"OvR performed better.\")\n",
        "elif acc_ovo > acc_ovr:\n",
        "    print(\"OvO performed better.\")\n",
        "else:\n",
        "    print(\"Both strategies performed equally.\")\n"
      ],
      "metadata": {
        "colab": {
          "base_uri": "https://localhost:8080/"
        },
        "id": "IQ4JEuPO1X4o",
        "outputId": "675f7a2e-8986-4447-a4c4-c8089464b71a"
      },
      "execution_count": 16,
      "outputs": [
        {
          "output_type": "stream",
          "name": "stdout",
          "text": [
            "SVM One-vs-Rest (OvR) Accuracy: 0.7222\n",
            "SVM One-vs-One (OvO) Accuracy: 0.7963\n",
            "OvO performed better.\n"
          ]
        }
      ]
    },
    {
      "cell_type": "code",
      "source": [
        "#Q37. Write a Python program to train an SVM Classifier using Linear, Polynomial, and RBF kernels on the Breast Cancer dataset and compare their accuracy\n",
        "\n",
        "from sklearn.datasets import load_breast_cancer\n",
        "from sklearn.model_selection import train_test_split\n",
        "from sklearn.svm import SVC\n",
        "from sklearn.metrics import accuracy_score\n",
        "\n",
        "# Load the Breast Cancer dataset\n",
        "data = load_breast_cancer()\n",
        "X = data.data\n",
        "y = data.target\n",
        "\n",
        "# Split into training and test sets\n",
        "X_train, X_test, y_train, y_test = train_test_split(\n",
        "    X, y, test_size=0.3, random_state=42\n",
        ")\n",
        "\n",
        "# Train SVM with Linear kernel\n",
        "svm_linear = SVC(kernel='linear', random_state=42)\n",
        "svm_linear.fit(X_train, y_train)\n",
        "y_pred_linear = svm_linear.predict(X_test)\n",
        "acc_linear = accuracy_score(y_test, y_pred_linear)\n",
        "\n",
        "# Train SVM with Polynomial kernel\n",
        "svm_poly = SVC(kernel='poly', degree=3, random_state=42)\n",
        "svm_poly.fit(X_train, y_train)\n",
        "y_pred_poly = svm_poly.predict(X_test)\n",
        "acc_poly = accuracy_score(y_test, y_pred_poly)\n",
        "\n",
        "# Train SVM with RBF kernel\n",
        "svm_rbf = SVC(kernel='rbf', random_state=42)\n",
        "svm_rbf.fit(X_train, y_train)\n",
        "y_pred_rbf = svm_rbf.predict(X_test)\n",
        "acc_rbf = accuracy_score(y_test, y_pred_rbf)\n",
        "\n",
        "# Print and compare accuracies\n",
        "print(f\"SVM Linear Kernel Accuracy:      {acc_linear:.4f}\")\n",
        "print(f\"SVM Polynomial Kernel Accuracy:  {acc_poly:.4f}\")\n",
        "print(f\"SVM RBF Kernel Accuracy:         {acc_rbf:.4f}\")\n",
        "\n",
        "# Optional: Compare which kernel performed best\n",
        "accuracies = {\n",
        "    \"Linear\": acc_linear,\n",
        "    \"Polynomial\": acc_poly,\n",
        "    \"RBF\": acc_rbf\n",
        "}\n",
        "best_kernel = max(accuracies, key=accuracies.get)\n",
        "print(f\"\\nBest performing kernel: {best_kernel}\")\n"
      ],
      "metadata": {
        "colab": {
          "base_uri": "https://localhost:8080/"
        },
        "id": "tqoQD1MO1X7V",
        "outputId": "40f5d89b-9afa-4fc8-eaab-3a087e15a474"
      },
      "execution_count": 17,
      "outputs": [
        {
          "output_type": "stream",
          "name": "stdout",
          "text": [
            "SVM Linear Kernel Accuracy:      0.9649\n",
            "SVM Polynomial Kernel Accuracy:  0.9415\n",
            "SVM RBF Kernel Accuracy:         0.9357\n",
            "\n",
            "Best performing kernel: Linear\n"
          ]
        }
      ]
    },
    {
      "cell_type": "code",
      "source": [
        "#Q38.Write a Python program to train an SVM Classifier using Stratified K-Fold Cross-Validation and compute the average accuracy\n",
        "\n",
        "from sklearn.datasets import load_breast_cancer\n",
        "from sklearn.svm import SVC\n",
        "from sklearn.model_selection import StratifiedKFold\n",
        "from sklearn.metrics import accuracy_score\n",
        "import numpy as np\n",
        "\n",
        "# Load the Breast Cancer dataset\n",
        "data = load_breast_cancer()\n",
        "X = data.data\n",
        "y = data.target\n",
        "\n",
        "# Define Stratified K-Fold cross-validator\n",
        "skf = StratifiedKFold(n_splits=5, shuffle=True, random_state=42)\n",
        "\n",
        "accuracies = []\n",
        "\n",
        "# Perform Stratified K-Fold Cross-Validation\n",
        "for train_index, test_index in skf.split(X, y):\n",
        "    X_train, X_test = X[train_index], X[test_index]\n",
        "    y_train, y_test = y[train_index], y[test_index]\n",
        "\n",
        "    # Train SVM Classifier (using RBF kernel)\n",
        "    clf = SVC(kernel='rbf', random_state=42)\n",
        "    clf.fit(X_train, y_train)\n",
        "\n",
        "    # Predict and compute accuracy\n",
        "    y_pred = clf.predict(X_test)\n",
        "    acc = accuracy_score(y_test, y_pred)\n",
        "    accuracies.append(acc)\n",
        "\n",
        "# Compute average accuracy\n",
        "average_accuracy = np.mean(accuracies)\n",
        "print(f\"Stratified K-Fold Cross-Validation Accuracies: {accuracies}\")\n",
        "print(f\"Average Accuracy: {average_accuracy:.4f}\")\n"
      ],
      "metadata": {
        "colab": {
          "base_uri": "https://localhost:8080/"
        },
        "id": "WoqHploM1X-N",
        "outputId": "62936692-f92c-47fc-a349-860f06a6c677"
      },
      "execution_count": 18,
      "outputs": [
        {
          "output_type": "stream",
          "name": "stdout",
          "text": [
            "Stratified K-Fold Cross-Validation Accuracies: [0.9385964912280702, 0.8771929824561403, 0.8947368421052632, 0.9385964912280702, 0.9203539823008849]\n",
            "Average Accuracy: 0.9139\n"
          ]
        }
      ]
    },
    {
      "cell_type": "code",
      "source": [
        "#Q39.Write a Python program to train a Naïve Bayes classifier using different prior probabilities and compare performance\n",
        "\n",
        "from sklearn.datasets import load_wine\n",
        "from sklearn.model_selection import train_test_split\n",
        "from sklearn.naive_bayes import GaussianNB\n",
        "from sklearn.metrics import accuracy_score\n",
        "\n",
        "# Load dataset\n",
        "data = load_wine()\n",
        "X = data.data\n",
        "y = data.target\n",
        "\n",
        "# Split into training and test sets\n",
        "X_train, X_test, y_train, y_test = train_test_split(\n",
        "    X, y, test_size=0.2, random_state=42\n",
        ")\n",
        "\n",
        "# Default prior (learned from data)\n",
        "nb_default = GaussianNB()\n",
        "nb_default.fit(X_train, y_train)\n",
        "y_pred_default = nb_default.predict(X_test)\n",
        "acc_default = accuracy_score(y_test, y_pred_default)\n",
        "\n",
        "# Custom prior: uniform distribution\n",
        "n_classes = len(set(y))\n",
        "uniform_prior = [1/n_classes] * n_classes\n",
        "nb_uniform = GaussianNB(priors=uniform_prior)\n",
        "nb_uniform.fit(X_train, y_train)\n",
        "y_pred_uniform = nb_uniform.predict(X_test)\n",
        "acc_uniform = accuracy_score(y_test, y_pred_uniform)\n",
        "\n",
        "# Custom prior: skewed (e.g., favor class 0)\n",
        "skewed_prior = [0.7, 0.2, 0.1]\n",
        "nb_skewed = GaussianNB(priors=skewed_prior)\n",
        "nb_skewed.fit(X_train, y_train)\n",
        "y_pred_skewed = nb_skewed.predict(X_test)\n",
        "acc_skewed = accuracy_score(y_test, y_pred_skewed)\n",
        "\n",
        "print(f\"Naive Bayes Accuracy (default prior): {acc_default:.4f}\")\n",
        "print(f\"Naive Bayes Accuracy (uniform prior): {acc_uniform:.4f}\")\n",
        "print(f\"Naive Bayes Accuracy (skewed prior): {acc_skewed:.4f}\")\n",
        "\n",
        "# Optional: Which prior performed best?\n",
        "accuracies = {\n",
        "    \"Default\": acc_default,\n",
        "    \"Uniform\": acc_uniform,\n",
        "    \"Skewed\": acc_skewed\n",
        "}\n",
        "best_prior = max(accuracies, key=accuracies.get)\n",
        "print(f\"\\nBest performing prior: {best_prior}\")\n"
      ],
      "metadata": {
        "colab": {
          "base_uri": "https://localhost:8080/"
        },
        "id": "I6YGvnkB1YBH",
        "outputId": "2a5ce925-8692-4ef4-9dac-2b1152bfbde6"
      },
      "execution_count": 19,
      "outputs": [
        {
          "output_type": "stream",
          "name": "stdout",
          "text": [
            "Naive Bayes Accuracy (default prior): 1.0000\n",
            "Naive Bayes Accuracy (uniform prior): 1.0000\n",
            "Naive Bayes Accuracy (skewed prior): 0.9722\n",
            "\n",
            "Best performing prior: Default\n"
          ]
        }
      ]
    },
    {
      "cell_type": "code",
      "source": [
        "#Q40.Write a Python program to perform Recursive Feature Elimination (RFE) before training an SVM Classifier and compare accuracy\n",
        "\n",
        "from sklearn.datasets import load_breast_cancer\n",
        "from sklearn.model_selection import train_test_split\n",
        "from sklearn.svm import SVC\n",
        "from sklearn.feature_selection import RFE\n",
        "from sklearn.metrics import accuracy_score\n",
        "\n",
        "# Load dataset\n",
        "data = load_breast_cancer()\n",
        "X = data.data\n",
        "y = data.target\n",
        "\n",
        "# Split into train and test sets\n",
        "X_train, X_test, y_train, y_test = train_test_split(\n",
        "    X, y, test_size=0.2, random_state=42\n",
        ")\n",
        "\n",
        "# 1. Train SVM on all features\n",
        "svm_all = SVC(kernel='linear', random_state=42)\n",
        "svm_all.fit(X_train, y_train)\n",
        "y_pred_all = svm_all.predict(X_test)\n",
        "acc_all = accuracy_score(y_test, y_pred_all)\n",
        "\n",
        "# 2. Recursive Feature Elimination (select top 10 features)\n",
        "rfe = RFE(estimator=SVC(kernel='linear', random_state=42), n_features_to_select=10)\n",
        "rfe.fit(X_train, y_train)\n",
        "X_train_rfe = rfe.transform(X_train)\n",
        "X_test_rfe = rfe.transform(X_test)\n",
        "\n",
        "# Train SVM on selected features\n",
        "svm_rfe = SVC(kernel='linear', random_state=42)\n",
        "svm_rfe.fit(X_train_rfe, y_train)\n",
        "y_pred_rfe = svm_rfe.predict(X_test_rfe)\n",
        "acc_rfe = accuracy_score(y_test, y_pred_rfe)\n",
        "\n",
        "# Compare results\n",
        "print(f\"SVM Accuracy (all features):     {acc_all:.4f}\")\n",
        "print(f\"SVM Accuracy (RFE, 10 features): {acc_rfe:.4f}\")\n",
        "\n",
        "if acc_rfe > acc_all:\n",
        "    print(\"RFE improved the accuracy.\")\n",
        "elif acc_rfe < acc_all:\n",
        "    print(\"RFE reduced the accuracy.\")\n",
        "else:\n",
        "    print(\"RFE made no difference in accuracy.\")\n"
      ],
      "metadata": {
        "colab": {
          "base_uri": "https://localhost:8080/"
        },
        "id": "lAgIc9tX1YED",
        "outputId": "0af255a9-26bc-4de8-b916-b2d0e3b80017"
      },
      "execution_count": 20,
      "outputs": [
        {
          "output_type": "stream",
          "name": "stdout",
          "text": [
            "SVM Accuracy (all features):     0.9561\n",
            "SVM Accuracy (RFE, 10 features): 0.9737\n",
            "RFE improved the accuracy.\n"
          ]
        }
      ]
    },
    {
      "cell_type": "code",
      "source": [
        "#Q41.Write a Python program to train an SVM Classifier and evaluate its performance using Precision, Recall, and F1-Score instead of accuracy\n",
        "\n",
        "from sklearn.datasets import load_breast_cancer\n",
        "from sklearn.model_selection import train_test_split\n",
        "from sklearn.svm import SVC\n",
        "from sklearn.metrics import precision_score, recall_score, f1_score, classification_report\n",
        "\n",
        "# Load the Breast Cancer dataset\n",
        "data = load_breast_cancer()\n",
        "X = data.data\n",
        "y = data.target\n",
        "\n",
        "# Split into training and test sets\n",
        "X_train, X_test, y_train, y_test = train_test_split(\n",
        "    X, y, test_size=0.2, random_state=42\n",
        ")\n",
        "\n",
        "# Train SVM Classifier\n",
        "svm = SVC(kernel='rbf', random_state=42)\n",
        "svm.fit(X_train, y_train)\n",
        "y_pred = svm.predict(X_test)\n",
        "\n",
        "# Evaluate using Precision, Recall, and F1-Score\n",
        "precision = precision_score(y_test, y_pred)\n",
        "recall = recall_score(y_test, y_pred)\n",
        "f1 = f1_score(y_test, y_pred)\n",
        "\n",
        "print(f\"Precision: {precision:.4f}\")\n",
        "print(f\"Recall:    {recall:.4f}\")\n",
        "print(f\"F1-Score:  {f1:.4f}\")\n",
        "\n",
        "# Optional: Detailed classification report\n",
        "print(\"\\nClassification Report:\\n\")\n",
        "print(classification_report(y_test, y_pred, target_names=data.target_names))\n"
      ],
      "metadata": {
        "colab": {
          "base_uri": "https://localhost:8080/"
        },
        "id": "K-t7KgZF1YG2",
        "outputId": "3c346887-e5d6-4684-8c6a-c84578833f0f"
      },
      "execution_count": 21,
      "outputs": [
        {
          "output_type": "stream",
          "name": "stdout",
          "text": [
            "Precision: 0.9221\n",
            "Recall:    1.0000\n",
            "F1-Score:  0.9595\n",
            "\n",
            "Classification Report:\n",
            "\n",
            "              precision    recall  f1-score   support\n",
            "\n",
            "   malignant       1.00      0.86      0.93        43\n",
            "      benign       0.92      1.00      0.96        71\n",
            "\n",
            "    accuracy                           0.95       114\n",
            "   macro avg       0.96      0.93      0.94       114\n",
            "weighted avg       0.95      0.95      0.95       114\n",
            "\n"
          ]
        }
      ]
    },
    {
      "cell_type": "code",
      "source": [
        "#Q42.Write a Python program to train a Naïve Bayes Classifier and evaluate its performance using Log Loss (Cross-Entropy Loss)\n",
        "\n",
        "from sklearn.datasets import load_breast_cancer\n",
        "from sklearn.model_selection import train_test_split\n",
        "from sklearn.naive_bayes import GaussianNB\n",
        "from sklearn.metrics import log_loss\n",
        "\n",
        "# Load the Breast Cancer dataset\n",
        "data = load_breast_cancer()\n",
        "X = data.data\n",
        "y = data.target\n",
        "\n",
        "# Split into train and test sets\n",
        "X_train, X_test, y_train, y_test = train_test_split(\n",
        "    X, y, test_size=0.2, random_state=42\n",
        ")\n",
        "\n",
        "# Train Naive Bayes classifier\n",
        "nb = GaussianNB()\n",
        "nb.fit(X_train, y_train)\n",
        "\n",
        "# Predict probabilities for the test set\n",
        "y_pred_proba = nb.predict_proba(X_test)\n",
        "\n",
        "# Compute Log Loss (Cross-Entropy Loss)\n",
        "loss = log_loss(y_test, y_pred_proba)\n",
        "print(f\"Naive Bayes Log Loss (Cross-Entropy Loss): {loss:.4f}\")\n"
      ],
      "metadata": {
        "colab": {
          "base_uri": "https://localhost:8080/"
        },
        "id": "gxrrcWnj12eD",
        "outputId": "e699498f-fd4a-415b-bdda-b6dd1e0aa592"
      },
      "execution_count": 22,
      "outputs": [
        {
          "output_type": "stream",
          "name": "stdout",
          "text": [
            "Naive Bayes Log Loss (Cross-Entropy Loss): 0.2037\n"
          ]
        }
      ]
    },
    {
      "cell_type": "code",
      "source": [
        "#Q43.Write a Python program to train an SVM Classifier and visualize the Confusion Matrix using seaborn\n",
        "\n",
        "import pandas as pd\n",
        "import numpy as np\n",
        "import matplotlib.pyplot as plt\n",
        "import seaborn as sns\n",
        "from sklearn.datasets import load_breast_cancer\n",
        "from sklearn.model_selection import train_test_split\n",
        "from sklearn.preprocessing import StandardScaler\n",
        "from sklearn.svm import SVC\n",
        "from sklearn.metrics import confusion_matrix\n",
        "\n",
        "# Load the Breast Cancer dataset\n",
        "data = load_breast_cancer()\n",
        "X = data.data\n",
        "y = data.target\n",
        "\n",
        "# Split into training and test sets\n",
        "X_train, X_test, y_train, y_test = train_test_split(\n",
        "    X, y, test_size=0.2, random_state=42\n",
        ")\n",
        "\n",
        "# Feature scaling\n",
        "scaler = StandardScaler()\n",
        "X_train = scaler.fit_transform(X_train)\n",
        "X_test = scaler.transform(X_test)\n",
        "\n",
        "# Train SVM Classifier\n",
        "svc_model = SVC()\n",
        "svc_model.fit(X_train, y_train)\n",
        "\n",
        "# Predict on test set\n",
        "y_pred = svc_model.predict(X_test)\n",
        "\n",
        "# Compute confusion matrix\n",
        "cm = confusion_matrix(y_test, y_pred)\n",
        "\n",
        "# Visualize confusion matrix using seaborn\n",
        "plt.figure(figsize=(6,4))\n",
        "sns.heatmap(cm, annot=True, fmt='d', cmap='Blues',\n",
        "            xticklabels=data.target_names, yticklabels=data.target_names)\n",
        "plt.xlabel('Predicted')\n",
        "plt.ylabel('Actual')\n",
        "plt.title('SVM Confusion Matrix (Breast Cancer Dataset)')\n",
        "plt.show()\n"
      ],
      "metadata": {
        "colab": {
          "base_uri": "https://localhost:8080/",
          "height": 410
        },
        "id": "5tkmvdyu12g6",
        "outputId": "4193e493-14cb-4a7e-fe83-06462ebf4ac7"
      },
      "execution_count": 23,
      "outputs": [
        {
          "output_type": "display_data",
          "data": {
            "text/plain": [
              "<Figure size 600x400 with 2 Axes>"
            ],
            "image/png": "[encoded data removed]"
          },
          "metadata": {}
        }
      ]
    },
    {
      "cell_type": "code",
      "source": [
        "#Q44.Write a Python program to train an SVM Regressor (SVR) and evaluate its performance using Mean Absolute Error (MAE) instead of MSE\n",
        "\n",
        "from sklearn.datasets import load_diabetes\n",
        "from sklearn.model_selection import train_test_split\n",
        "from sklearn.svm import SVR\n",
        "from sklearn.metrics import mean_absolute_error\n",
        "\n",
        "# Load the diabetes dataset (regression)\n",
        "X, y = load_diabetes(return_X_y=True)  # y is a continuous target[1]\n",
        "\n",
        "# Split into train and test sets\n",
        "X_train, X_test, y_train, y_test = train_test_split(\n",
        "    X, y, test_size=0.2, random_state=42\n",
        ")\n",
        "\n",
        "# Train an SVM Regressor (SVR)\n",
        "svr = SVR(kernel='rbf')\n",
        "svr.fit(X_train, y_train)\n",
        "\n",
        "# Predict on the test set\n",
        "y_pred = svr.predict(X_test)\n",
        "\n",
        "# Evaluate using Mean Absolute Error (MAE)\n",
        "mae = mean_absolute_error(y_test, y_pred)\n",
        "print(f\"SVM Regressor Mean Absolute Error (MAE): {mae:.4f}\")\n"
      ],
      "metadata": {
        "colab": {
          "base_uri": "https://localhost:8080/"
        },
        "id": "pOWSTLii12jh",
        "outputId": "5d4a38db-5522-42de-fcb9-dc350e73e566"
      },
      "execution_count": 24,
      "outputs": [
        {
          "output_type": "stream",
          "name": "stdout",
          "text": [
            "SVM Regressor Mean Absolute Error (MAE): 56.0237\n"
          ]
        }
      ]
    },
    {
      "cell_type": "code",
      "source": [
        "#Q45.Write a Python program to train a Naïve Bayes classifier and evaluate its performance using the ROC-AUC score\n",
        "\n",
        "from sklearn.datasets import load_breast_cancer\n",
        "from sklearn.model_selection import train_test_split\n",
        "from sklearn.naive_bayes import GaussianNB\n",
        "from sklearn.metrics import roc_auc_score\n",
        "\n",
        "# Load the breast cancer dataset (binary classification)[1][4]\n",
        "X, y = load_breast_cancer(return_X_y=True)\n",
        "\n",
        "# Split into training and test sets[3][4]\n",
        "X_train, X_test, y_train, y_test = train_test_split(\n",
        "    X, y, test_size=0.2, random_state=42\n",
        ")\n",
        "\n",
        "# Train Naive Bayes classifier\n",
        "nb = GaussianNB()\n",
        "nb.fit(X_train, y_train)\n",
        "\n",
        "# Predict probabilities for the positive class\n",
        "y_proba = nb.predict_proba(X_test)[:, 1]\n",
        "\n",
        "# Evaluate using ROC-AUC score\n",
        "roc_auc = roc_auc_score(y_test, y_proba)\n",
        "print(f\"Naive Bayes ROC-AUC Score: {roc_auc:.4f}\")\n"
      ],
      "metadata": {
        "colab": {
          "base_uri": "https://localhost:8080/"
        },
        "id": "TIla47Ee12nk",
        "outputId": "e6d02d0c-3012-4d3d-b1fa-b7bd284c3593"
      },
      "execution_count": 25,
      "outputs": [
        {
          "output_type": "stream",
          "name": "stdout",
          "text": [
            "Naive Bayes ROC-AUC Score: 0.9984\n"
          ]
        }
      ]
    },
    {
      "cell_type": "code",
      "source": [
        "#Q46. Write a Python program to train an SVM Classifier and visualize the Precision-Recall Curve.\n",
        "\n",
        "import matplotlib.pyplot as plt\n",
        "from sklearn.datasets import load_breast_cancer\n",
        "from sklearn.model_selection import train_test_split\n",
        "from sklearn.preprocessing import StandardScaler\n",
        "from sklearn.svm import SVC\n",
        "from sklearn.metrics import precision_recall_curve, average_precision_score\n",
        "\n",
        "# Load the Breast Cancer dataset (binary classification)[1]\n",
        "X, y = load_breast_cancer(return_X_y=True)\n",
        "\n",
        "# Split into training and test sets\n",
        "X_train, X_test, y_train, y_test = train_test_split(\n",
        "    X, y, test_size=0.2, random_state=42\n",
        ")\n",
        "\n",
        "# Feature scaling for SVM performance\n",
        "scaler = StandardScaler()\n",
        "X_train_scaled = scaler.fit_transform(X_train)\n",
        "X_test_scaled = scaler.transform(X_test)\n",
        "\n",
        "# Train SVM Classifier with probability estimates enabled\n",
        "svm = SVC(kernel='rbf', probability=True, random_state=42)\n",
        "svm.fit(X_train_scaled, y_train)\n",
        "\n",
        "# Get predicted probabilities for the positive class\n",
        "y_scores = svm.predict_proba(X_test_scaled)[:, 1]\n",
        "\n",
        "# Compute precision-recall curve and average precision\n",
        "precision, recall, thresholds = precision_recall_curve(y_test, y_scores)\n",
        "avg_precision = average_precision_score(y_test, y_scores)\n",
        "\n",
        "# Plot the Precision-Recall curve\n",
        "plt.figure(figsize=(8, 6))\n",
        "plt.plot(recall, precision, label=f'Precision-Recall curve (AP = {avg_precision:.2f})')\n",
        "plt.xlabel('Recall')\n",
        "plt.ylabel('Precision')\n",
        "plt.title('SVM Precision-Recall Curve (Breast Cancer Dataset)')\n",
        "plt.legend()\n",
        "plt.grid(True)\n",
        "plt.show()\n"
      ],
      "metadata": {
        "colab": {
          "base_uri": "https://localhost:8080/",
          "height": 564
        },
        "id": "8kJr8I4912sl",
        "outputId": "385aff20-12a5-4b6b-eaaa-84f7b12b3692"
      },
      "execution_count": 26,
      "outputs": [
        {
          "output_type": "display_data",
          "data": {
            "text/plain": [
              "<Figure size 800x600 with 1 Axes>"
            ],
            "image/png": "[encoded data removed]"
          },
          "metadata": {}
        }
      ]
    },
    {
      "cell_type": "code",
      "source": [],
      "metadata": {
        "id": "Du93Aagy5bZt"
      },
      "execution_count": null,
      "outputs": []
    }
  ]
}